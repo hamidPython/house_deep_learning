{
 "cells": [
  {
   "cell_type": "code",
   "execution_count": 1,
   "metadata": {},
   "outputs": [],
   "source": [
    "import pandas as pd\n",
    "import numpy as np"
   ]
  },
  {
   "cell_type": "code",
   "execution_count": 2,
   "metadata": {},
   "outputs": [],
   "source": [
    "df= pd.read_csv('house_data.csv')"
   ]
  },
  {
   "cell_type": "code",
   "execution_count": 3,
   "metadata": {},
   "outputs": [
    {
     "data": {
      "text/html": [
       "<div>\n",
       "<style scoped>\n",
       "    .dataframe tbody tr th:only-of-type {\n",
       "        vertical-align: middle;\n",
       "    }\n",
       "\n",
       "    .dataframe tbody tr th {\n",
       "        vertical-align: top;\n",
       "    }\n",
       "\n",
       "    .dataframe thead th {\n",
       "        text-align: right;\n",
       "    }\n",
       "</style>\n",
       "<table border=\"1\" class=\"dataframe\">\n",
       "  <thead>\n",
       "    <tr style=\"text-align: right;\">\n",
       "      <th></th>\n",
       "      <th>id</th>\n",
       "      <th>date</th>\n",
       "      <th>price</th>\n",
       "      <th>bedrooms</th>\n",
       "      <th>bathrooms</th>\n",
       "      <th>sqft_living</th>\n",
       "      <th>sqft_lot</th>\n",
       "      <th>floors</th>\n",
       "      <th>waterfront</th>\n",
       "      <th>view</th>\n",
       "      <th>...</th>\n",
       "      <th>grade</th>\n",
       "      <th>sqft_above</th>\n",
       "      <th>sqft_basement</th>\n",
       "      <th>yr_built</th>\n",
       "      <th>yr_renovated</th>\n",
       "      <th>zipcode</th>\n",
       "      <th>lat</th>\n",
       "      <th>long</th>\n",
       "      <th>sqft_living15</th>\n",
       "      <th>sqft_lot15</th>\n",
       "    </tr>\n",
       "  </thead>\n",
       "  <tbody>\n",
       "    <tr>\n",
       "      <th>0</th>\n",
       "      <td>7129300520</td>\n",
       "      <td>20141013T000000</td>\n",
       "      <td>221900.0</td>\n",
       "      <td>3</td>\n",
       "      <td>1.00</td>\n",
       "      <td>1180</td>\n",
       "      <td>5650</td>\n",
       "      <td>1.0</td>\n",
       "      <td>0</td>\n",
       "      <td>0</td>\n",
       "      <td>...</td>\n",
       "      <td>7</td>\n",
       "      <td>1180</td>\n",
       "      <td>0</td>\n",
       "      <td>1955</td>\n",
       "      <td>0</td>\n",
       "      <td>98178</td>\n",
       "      <td>47.5112</td>\n",
       "      <td>-122.257</td>\n",
       "      <td>1340</td>\n",
       "      <td>5650</td>\n",
       "    </tr>\n",
       "    <tr>\n",
       "      <th>1</th>\n",
       "      <td>6414100192</td>\n",
       "      <td>20141209T000000</td>\n",
       "      <td>538000.0</td>\n",
       "      <td>3</td>\n",
       "      <td>2.25</td>\n",
       "      <td>2570</td>\n",
       "      <td>7242</td>\n",
       "      <td>2.0</td>\n",
       "      <td>0</td>\n",
       "      <td>0</td>\n",
       "      <td>...</td>\n",
       "      <td>7</td>\n",
       "      <td>2170</td>\n",
       "      <td>400</td>\n",
       "      <td>1951</td>\n",
       "      <td>1991</td>\n",
       "      <td>98125</td>\n",
       "      <td>47.7210</td>\n",
       "      <td>-122.319</td>\n",
       "      <td>1690</td>\n",
       "      <td>7639</td>\n",
       "    </tr>\n",
       "    <tr>\n",
       "      <th>2</th>\n",
       "      <td>5631500400</td>\n",
       "      <td>20150225T000000</td>\n",
       "      <td>180000.0</td>\n",
       "      <td>2</td>\n",
       "      <td>1.00</td>\n",
       "      <td>770</td>\n",
       "      <td>10000</td>\n",
       "      <td>1.0</td>\n",
       "      <td>0</td>\n",
       "      <td>0</td>\n",
       "      <td>...</td>\n",
       "      <td>6</td>\n",
       "      <td>770</td>\n",
       "      <td>0</td>\n",
       "      <td>1933</td>\n",
       "      <td>0</td>\n",
       "      <td>98028</td>\n",
       "      <td>47.7379</td>\n",
       "      <td>-122.233</td>\n",
       "      <td>2720</td>\n",
       "      <td>8062</td>\n",
       "    </tr>\n",
       "    <tr>\n",
       "      <th>3</th>\n",
       "      <td>2487200875</td>\n",
       "      <td>20141209T000000</td>\n",
       "      <td>604000.0</td>\n",
       "      <td>4</td>\n",
       "      <td>3.00</td>\n",
       "      <td>1960</td>\n",
       "      <td>5000</td>\n",
       "      <td>1.0</td>\n",
       "      <td>0</td>\n",
       "      <td>0</td>\n",
       "      <td>...</td>\n",
       "      <td>7</td>\n",
       "      <td>1050</td>\n",
       "      <td>910</td>\n",
       "      <td>1965</td>\n",
       "      <td>0</td>\n",
       "      <td>98136</td>\n",
       "      <td>47.5208</td>\n",
       "      <td>-122.393</td>\n",
       "      <td>1360</td>\n",
       "      <td>5000</td>\n",
       "    </tr>\n",
       "    <tr>\n",
       "      <th>4</th>\n",
       "      <td>1954400510</td>\n",
       "      <td>20150218T000000</td>\n",
       "      <td>510000.0</td>\n",
       "      <td>3</td>\n",
       "      <td>2.00</td>\n",
       "      <td>1680</td>\n",
       "      <td>8080</td>\n",
       "      <td>1.0</td>\n",
       "      <td>0</td>\n",
       "      <td>0</td>\n",
       "      <td>...</td>\n",
       "      <td>8</td>\n",
       "      <td>1680</td>\n",
       "      <td>0</td>\n",
       "      <td>1987</td>\n",
       "      <td>0</td>\n",
       "      <td>98074</td>\n",
       "      <td>47.6168</td>\n",
       "      <td>-122.045</td>\n",
       "      <td>1800</td>\n",
       "      <td>7503</td>\n",
       "    </tr>\n",
       "  </tbody>\n",
       "</table>\n",
       "<p>5 rows × 21 columns</p>\n",
       "</div>"
      ],
      "text/plain": [
       "           id             date     price  bedrooms  bathrooms  sqft_living  \\\n",
       "0  7129300520  20141013T000000  221900.0         3       1.00         1180   \n",
       "1  6414100192  20141209T000000  538000.0         3       2.25         2570   \n",
       "2  5631500400  20150225T000000  180000.0         2       1.00          770   \n",
       "3  2487200875  20141209T000000  604000.0         4       3.00         1960   \n",
       "4  1954400510  20150218T000000  510000.0         3       2.00         1680   \n",
       "\n",
       "   sqft_lot  floors  waterfront  view  ...  grade  sqft_above  sqft_basement  \\\n",
       "0      5650     1.0           0     0  ...      7        1180              0   \n",
       "1      7242     2.0           0     0  ...      7        2170            400   \n",
       "2     10000     1.0           0     0  ...      6         770              0   \n",
       "3      5000     1.0           0     0  ...      7        1050            910   \n",
       "4      8080     1.0           0     0  ...      8        1680              0   \n",
       "\n",
       "   yr_built  yr_renovated  zipcode      lat     long  sqft_living15  \\\n",
       "0      1955             0    98178  47.5112 -122.257           1340   \n",
       "1      1951          1991    98125  47.7210 -122.319           1690   \n",
       "2      1933             0    98028  47.7379 -122.233           2720   \n",
       "3      1965             0    98136  47.5208 -122.393           1360   \n",
       "4      1987             0    98074  47.6168 -122.045           1800   \n",
       "\n",
       "   sqft_lot15  \n",
       "0        5650  \n",
       "1        7639  \n",
       "2        8062  \n",
       "3        5000  \n",
       "4        7503  \n",
       "\n",
       "[5 rows x 21 columns]"
      ]
     },
     "execution_count": 3,
     "metadata": {},
     "output_type": "execute_result"
    }
   ],
   "source": [
    "df.head()"
   ]
  },
  {
   "cell_type": "code",
   "execution_count": 4,
   "metadata": {},
   "outputs": [
    {
     "name": "stdout",
     "output_type": "stream",
     "text": [
      "<class 'pandas.core.frame.DataFrame'>\n",
      "RangeIndex: 21613 entries, 0 to 21612\n",
      "Data columns (total 21 columns):\n",
      " #   Column         Non-Null Count  Dtype  \n",
      "---  ------         --------------  -----  \n",
      " 0   id             21613 non-null  int64  \n",
      " 1   date           21613 non-null  object \n",
      " 2   price          21613 non-null  float64\n",
      " 3   bedrooms       21613 non-null  int64  \n",
      " 4   bathrooms      21613 non-null  float64\n",
      " 5   sqft_living    21613 non-null  int64  \n",
      " 6   sqft_lot       21613 non-null  int64  \n",
      " 7   floors         21613 non-null  float64\n",
      " 8   waterfront     21613 non-null  int64  \n",
      " 9   view           21613 non-null  int64  \n",
      " 10  condition      21613 non-null  int64  \n",
      " 11  grade          21613 non-null  int64  \n",
      " 12  sqft_above     21613 non-null  int64  \n",
      " 13  sqft_basement  21613 non-null  int64  \n",
      " 14  yr_built       21613 non-null  int64  \n",
      " 15  yr_renovated   21613 non-null  int64  \n",
      " 16  zipcode        21613 non-null  int64  \n",
      " 17  lat            21613 non-null  float64\n",
      " 18  long           21613 non-null  float64\n",
      " 19  sqft_living15  21613 non-null  int64  \n",
      " 20  sqft_lot15     21613 non-null  int64  \n",
      "dtypes: float64(5), int64(15), object(1)\n",
      "memory usage: 3.5+ MB\n"
     ]
    }
   ],
   "source": [
    "df.info()"
   ]
  },
  {
   "cell_type": "code",
   "execution_count": 5,
   "metadata": {},
   "outputs": [
    {
     "data": {
      "text/html": [
       "<div>\n",
       "<style scoped>\n",
       "    .dataframe tbody tr th:only-of-type {\n",
       "        vertical-align: middle;\n",
       "    }\n",
       "\n",
       "    .dataframe tbody tr th {\n",
       "        vertical-align: top;\n",
       "    }\n",
       "\n",
       "    .dataframe thead th {\n",
       "        text-align: right;\n",
       "    }\n",
       "</style>\n",
       "<table border=\"1\" class=\"dataframe\">\n",
       "  <thead>\n",
       "    <tr style=\"text-align: right;\">\n",
       "      <th></th>\n",
       "      <th>count</th>\n",
       "      <th>mean</th>\n",
       "      <th>std</th>\n",
       "      <th>min</th>\n",
       "      <th>25%</th>\n",
       "      <th>50%</th>\n",
       "      <th>75%</th>\n",
       "      <th>max</th>\n",
       "    </tr>\n",
       "  </thead>\n",
       "  <tbody>\n",
       "    <tr>\n",
       "      <th>id</th>\n",
       "      <td>21613.0</td>\n",
       "      <td>4.580302e+09</td>\n",
       "      <td>2.876566e+09</td>\n",
       "      <td>1.000102e+06</td>\n",
       "      <td>2.123049e+09</td>\n",
       "      <td>3.904930e+09</td>\n",
       "      <td>7.308900e+09</td>\n",
       "      <td>9.900000e+09</td>\n",
       "    </tr>\n",
       "    <tr>\n",
       "      <th>price</th>\n",
       "      <td>21613.0</td>\n",
       "      <td>5.400881e+05</td>\n",
       "      <td>3.671272e+05</td>\n",
       "      <td>7.500000e+04</td>\n",
       "      <td>3.219500e+05</td>\n",
       "      <td>4.500000e+05</td>\n",
       "      <td>6.450000e+05</td>\n",
       "      <td>7.700000e+06</td>\n",
       "    </tr>\n",
       "    <tr>\n",
       "      <th>bedrooms</th>\n",
       "      <td>21613.0</td>\n",
       "      <td>3.370842e+00</td>\n",
       "      <td>9.300618e-01</td>\n",
       "      <td>0.000000e+00</td>\n",
       "      <td>3.000000e+00</td>\n",
       "      <td>3.000000e+00</td>\n",
       "      <td>4.000000e+00</td>\n",
       "      <td>3.300000e+01</td>\n",
       "    </tr>\n",
       "    <tr>\n",
       "      <th>bathrooms</th>\n",
       "      <td>21613.0</td>\n",
       "      <td>2.114757e+00</td>\n",
       "      <td>7.701632e-01</td>\n",
       "      <td>0.000000e+00</td>\n",
       "      <td>1.750000e+00</td>\n",
       "      <td>2.250000e+00</td>\n",
       "      <td>2.500000e+00</td>\n",
       "      <td>8.000000e+00</td>\n",
       "    </tr>\n",
       "    <tr>\n",
       "      <th>sqft_living</th>\n",
       "      <td>21613.0</td>\n",
       "      <td>2.079900e+03</td>\n",
       "      <td>9.184409e+02</td>\n",
       "      <td>2.900000e+02</td>\n",
       "      <td>1.427000e+03</td>\n",
       "      <td>1.910000e+03</td>\n",
       "      <td>2.550000e+03</td>\n",
       "      <td>1.354000e+04</td>\n",
       "    </tr>\n",
       "    <tr>\n",
       "      <th>sqft_lot</th>\n",
       "      <td>21613.0</td>\n",
       "      <td>1.510697e+04</td>\n",
       "      <td>4.142051e+04</td>\n",
       "      <td>5.200000e+02</td>\n",
       "      <td>5.040000e+03</td>\n",
       "      <td>7.618000e+03</td>\n",
       "      <td>1.068800e+04</td>\n",
       "      <td>1.651359e+06</td>\n",
       "    </tr>\n",
       "    <tr>\n",
       "      <th>floors</th>\n",
       "      <td>21613.0</td>\n",
       "      <td>1.494309e+00</td>\n",
       "      <td>5.399889e-01</td>\n",
       "      <td>1.000000e+00</td>\n",
       "      <td>1.000000e+00</td>\n",
       "      <td>1.500000e+00</td>\n",
       "      <td>2.000000e+00</td>\n",
       "      <td>3.500000e+00</td>\n",
       "    </tr>\n",
       "    <tr>\n",
       "      <th>waterfront</th>\n",
       "      <td>21613.0</td>\n",
       "      <td>7.541757e-03</td>\n",
       "      <td>8.651720e-02</td>\n",
       "      <td>0.000000e+00</td>\n",
       "      <td>0.000000e+00</td>\n",
       "      <td>0.000000e+00</td>\n",
       "      <td>0.000000e+00</td>\n",
       "      <td>1.000000e+00</td>\n",
       "    </tr>\n",
       "    <tr>\n",
       "      <th>view</th>\n",
       "      <td>21613.0</td>\n",
       "      <td>2.343034e-01</td>\n",
       "      <td>7.663176e-01</td>\n",
       "      <td>0.000000e+00</td>\n",
       "      <td>0.000000e+00</td>\n",
       "      <td>0.000000e+00</td>\n",
       "      <td>0.000000e+00</td>\n",
       "      <td>4.000000e+00</td>\n",
       "    </tr>\n",
       "    <tr>\n",
       "      <th>condition</th>\n",
       "      <td>21613.0</td>\n",
       "      <td>3.409430e+00</td>\n",
       "      <td>6.507430e-01</td>\n",
       "      <td>1.000000e+00</td>\n",
       "      <td>3.000000e+00</td>\n",
       "      <td>3.000000e+00</td>\n",
       "      <td>4.000000e+00</td>\n",
       "      <td>5.000000e+00</td>\n",
       "    </tr>\n",
       "    <tr>\n",
       "      <th>grade</th>\n",
       "      <td>21613.0</td>\n",
       "      <td>7.656873e+00</td>\n",
       "      <td>1.175459e+00</td>\n",
       "      <td>1.000000e+00</td>\n",
       "      <td>7.000000e+00</td>\n",
       "      <td>7.000000e+00</td>\n",
       "      <td>8.000000e+00</td>\n",
       "      <td>1.300000e+01</td>\n",
       "    </tr>\n",
       "    <tr>\n",
       "      <th>sqft_above</th>\n",
       "      <td>21613.0</td>\n",
       "      <td>1.788391e+03</td>\n",
       "      <td>8.280910e+02</td>\n",
       "      <td>2.900000e+02</td>\n",
       "      <td>1.190000e+03</td>\n",
       "      <td>1.560000e+03</td>\n",
       "      <td>2.210000e+03</td>\n",
       "      <td>9.410000e+03</td>\n",
       "    </tr>\n",
       "    <tr>\n",
       "      <th>sqft_basement</th>\n",
       "      <td>21613.0</td>\n",
       "      <td>2.915090e+02</td>\n",
       "      <td>4.425750e+02</td>\n",
       "      <td>0.000000e+00</td>\n",
       "      <td>0.000000e+00</td>\n",
       "      <td>0.000000e+00</td>\n",
       "      <td>5.600000e+02</td>\n",
       "      <td>4.820000e+03</td>\n",
       "    </tr>\n",
       "    <tr>\n",
       "      <th>yr_built</th>\n",
       "      <td>21613.0</td>\n",
       "      <td>1.971005e+03</td>\n",
       "      <td>2.937341e+01</td>\n",
       "      <td>1.900000e+03</td>\n",
       "      <td>1.951000e+03</td>\n",
       "      <td>1.975000e+03</td>\n",
       "      <td>1.997000e+03</td>\n",
       "      <td>2.015000e+03</td>\n",
       "    </tr>\n",
       "    <tr>\n",
       "      <th>yr_renovated</th>\n",
       "      <td>21613.0</td>\n",
       "      <td>8.440226e+01</td>\n",
       "      <td>4.016792e+02</td>\n",
       "      <td>0.000000e+00</td>\n",
       "      <td>0.000000e+00</td>\n",
       "      <td>0.000000e+00</td>\n",
       "      <td>0.000000e+00</td>\n",
       "      <td>2.015000e+03</td>\n",
       "    </tr>\n",
       "    <tr>\n",
       "      <th>zipcode</th>\n",
       "      <td>21613.0</td>\n",
       "      <td>9.807794e+04</td>\n",
       "      <td>5.350503e+01</td>\n",
       "      <td>9.800100e+04</td>\n",
       "      <td>9.803300e+04</td>\n",
       "      <td>9.806500e+04</td>\n",
       "      <td>9.811800e+04</td>\n",
       "      <td>9.819900e+04</td>\n",
       "    </tr>\n",
       "    <tr>\n",
       "      <th>lat</th>\n",
       "      <td>21613.0</td>\n",
       "      <td>4.756005e+01</td>\n",
       "      <td>1.385637e-01</td>\n",
       "      <td>4.715590e+01</td>\n",
       "      <td>4.747100e+01</td>\n",
       "      <td>4.757180e+01</td>\n",
       "      <td>4.767800e+01</td>\n",
       "      <td>4.777760e+01</td>\n",
       "    </tr>\n",
       "    <tr>\n",
       "      <th>long</th>\n",
       "      <td>21613.0</td>\n",
       "      <td>-1.222139e+02</td>\n",
       "      <td>1.408283e-01</td>\n",
       "      <td>-1.225190e+02</td>\n",
       "      <td>-1.223280e+02</td>\n",
       "      <td>-1.222300e+02</td>\n",
       "      <td>-1.221250e+02</td>\n",
       "      <td>-1.213150e+02</td>\n",
       "    </tr>\n",
       "    <tr>\n",
       "      <th>sqft_living15</th>\n",
       "      <td>21613.0</td>\n",
       "      <td>1.986552e+03</td>\n",
       "      <td>6.853913e+02</td>\n",
       "      <td>3.990000e+02</td>\n",
       "      <td>1.490000e+03</td>\n",
       "      <td>1.840000e+03</td>\n",
       "      <td>2.360000e+03</td>\n",
       "      <td>6.210000e+03</td>\n",
       "    </tr>\n",
       "    <tr>\n",
       "      <th>sqft_lot15</th>\n",
       "      <td>21613.0</td>\n",
       "      <td>1.276846e+04</td>\n",
       "      <td>2.730418e+04</td>\n",
       "      <td>6.510000e+02</td>\n",
       "      <td>5.100000e+03</td>\n",
       "      <td>7.620000e+03</td>\n",
       "      <td>1.008300e+04</td>\n",
       "      <td>8.712000e+05</td>\n",
       "    </tr>\n",
       "  </tbody>\n",
       "</table>\n",
       "</div>"
      ],
      "text/plain": [
       "                 count          mean           std           min  \\\n",
       "id             21613.0  4.580302e+09  2.876566e+09  1.000102e+06   \n",
       "price          21613.0  5.400881e+05  3.671272e+05  7.500000e+04   \n",
       "bedrooms       21613.0  3.370842e+00  9.300618e-01  0.000000e+00   \n",
       "bathrooms      21613.0  2.114757e+00  7.701632e-01  0.000000e+00   \n",
       "sqft_living    21613.0  2.079900e+03  9.184409e+02  2.900000e+02   \n",
       "sqft_lot       21613.0  1.510697e+04  4.142051e+04  5.200000e+02   \n",
       "floors         21613.0  1.494309e+00  5.399889e-01  1.000000e+00   \n",
       "waterfront     21613.0  7.541757e-03  8.651720e-02  0.000000e+00   \n",
       "view           21613.0  2.343034e-01  7.663176e-01  0.000000e+00   \n",
       "condition      21613.0  3.409430e+00  6.507430e-01  1.000000e+00   \n",
       "grade          21613.0  7.656873e+00  1.175459e+00  1.000000e+00   \n",
       "sqft_above     21613.0  1.788391e+03  8.280910e+02  2.900000e+02   \n",
       "sqft_basement  21613.0  2.915090e+02  4.425750e+02  0.000000e+00   \n",
       "yr_built       21613.0  1.971005e+03  2.937341e+01  1.900000e+03   \n",
       "yr_renovated   21613.0  8.440226e+01  4.016792e+02  0.000000e+00   \n",
       "zipcode        21613.0  9.807794e+04  5.350503e+01  9.800100e+04   \n",
       "lat            21613.0  4.756005e+01  1.385637e-01  4.715590e+01   \n",
       "long           21613.0 -1.222139e+02  1.408283e-01 -1.225190e+02   \n",
       "sqft_living15  21613.0  1.986552e+03  6.853913e+02  3.990000e+02   \n",
       "sqft_lot15     21613.0  1.276846e+04  2.730418e+04  6.510000e+02   \n",
       "\n",
       "                        25%           50%           75%           max  \n",
       "id             2.123049e+09  3.904930e+09  7.308900e+09  9.900000e+09  \n",
       "price          3.219500e+05  4.500000e+05  6.450000e+05  7.700000e+06  \n",
       "bedrooms       3.000000e+00  3.000000e+00  4.000000e+00  3.300000e+01  \n",
       "bathrooms      1.750000e+00  2.250000e+00  2.500000e+00  8.000000e+00  \n",
       "sqft_living    1.427000e+03  1.910000e+03  2.550000e+03  1.354000e+04  \n",
       "sqft_lot       5.040000e+03  7.618000e+03  1.068800e+04  1.651359e+06  \n",
       "floors         1.000000e+00  1.500000e+00  2.000000e+00  3.500000e+00  \n",
       "waterfront     0.000000e+00  0.000000e+00  0.000000e+00  1.000000e+00  \n",
       "view           0.000000e+00  0.000000e+00  0.000000e+00  4.000000e+00  \n",
       "condition      3.000000e+00  3.000000e+00  4.000000e+00  5.000000e+00  \n",
       "grade          7.000000e+00  7.000000e+00  8.000000e+00  1.300000e+01  \n",
       "sqft_above     1.190000e+03  1.560000e+03  2.210000e+03  9.410000e+03  \n",
       "sqft_basement  0.000000e+00  0.000000e+00  5.600000e+02  4.820000e+03  \n",
       "yr_built       1.951000e+03  1.975000e+03  1.997000e+03  2.015000e+03  \n",
       "yr_renovated   0.000000e+00  0.000000e+00  0.000000e+00  2.015000e+03  \n",
       "zipcode        9.803300e+04  9.806500e+04  9.811800e+04  9.819900e+04  \n",
       "lat            4.747100e+01  4.757180e+01  4.767800e+01  4.777760e+01  \n",
       "long          -1.223280e+02 -1.222300e+02 -1.221250e+02 -1.213150e+02  \n",
       "sqft_living15  1.490000e+03  1.840000e+03  2.360000e+03  6.210000e+03  \n",
       "sqft_lot15     5.100000e+03  7.620000e+03  1.008300e+04  8.712000e+05  "
      ]
     },
     "execution_count": 5,
     "metadata": {},
     "output_type": "execute_result"
    }
   ],
   "source": [
    "df.describe().transpose()"
   ]
  },
  {
   "cell_type": "code",
   "execution_count": 6,
   "metadata": {},
   "outputs": [
    {
     "data": {
      "text/plain": [
       "Index(['price', 'sqft_living', 'grade', 'sqft_above', 'sqft_living15',\n",
       "       'bathrooms', 'view', 'sqft_basement', 'bedrooms', 'lat'],\n",
       "      dtype='object')"
      ]
     },
     "execution_count": 6,
     "metadata": {},
     "output_type": "execute_result"
    }
   ],
   "source": [
    "df.corr().nlargest(10,'price')['price'].index"
   ]
  },
  {
   "cell_type": "code",
   "execution_count": 7,
   "metadata": {},
   "outputs": [
    {
     "data": {
      "text/plain": [
       "count    2.161300e+04\n",
       "mean     5.400881e+05\n",
       "std      3.671272e+05\n",
       "min      7.500000e+04\n",
       "25%      3.219500e+05\n",
       "50%      4.500000e+05\n",
       "75%      6.450000e+05\n",
       "max      7.700000e+06\n",
       "Name: price, dtype: float64"
      ]
     },
     "execution_count": 7,
     "metadata": {},
     "output_type": "execute_result"
    }
   ],
   "source": [
    "df.price.describe()"
   ]
  },
  {
   "cell_type": "code",
   "execution_count": 8,
   "metadata": {},
   "outputs": [
    {
     "name": "stderr",
     "output_type": "stream",
     "text": [
      "C:\\Users\\hp\\Anaconda3\\lib\\site-packages\\statsmodels\\tools\\_testing.py:19: FutureWarning: pandas.util.testing is deprecated. Use the functions in the public API at pandas.testing instead.\n",
      "  import pandas.util.testing as tm\n"
     ]
    }
   ],
   "source": [
    "import seaborn as sns\n",
    "import matplotlib.pyplot as plt\n",
    "%matplotlib inline"
   ]
  },
  {
   "cell_type": "code",
   "execution_count": 9,
   "metadata": {},
   "outputs": [
    {
     "data": {
      "text/plain": [
       "<AxesSubplot:xlabel='price'>"
      ]
     },
     "execution_count": 9,
     "metadata": {},
     "output_type": "execute_result"
    },
    {
     "data": {
      "image/png": "[encoded data removed]",
      "text/plain": [
       "<Figure size 432x288 with 1 Axes>"
      ]
     },
     "metadata": {},
     "output_type": "display_data"
    }
   ],
   "source": [
    "sns.set_style('whitegrid')\n",
    "sns.distplot(df.price)"
   ]
  },
  {
   "cell_type": "code",
   "execution_count": 10,
   "metadata": {},
   "outputs": [
    {
     "data": {
      "text/plain": [
       "<AxesSubplot:xlabel='price'>"
      ]
     },
     "execution_count": 10,
     "metadata": {},
     "output_type": "execute_result"
    },
    {
     "data": {
      "image/png": "[encoded data removed]",
      "text/plain": [
       "<Figure size 432x288 with 1 Axes>"
      ]
     },
     "metadata": {},
     "output_type": "display_data"
    }
   ],
   "source": [
    "sns.set_style('whitegrid')\n",
    "sns.distplot(np.log(df.price)+1)"
   ]
  },
  {
   "cell_type": "code",
   "execution_count": 11,
   "metadata": {},
   "outputs": [
    {
     "data": {
      "text/plain": [
       "<AxesSubplot:xlabel='price'>"
      ]
     },
     "execution_count": 11,
     "metadata": {},
     "output_type": "execute_result"
    },
    {
     "data": {
      "image/png": "[encoded data removed]",
      "text/plain": [
       "<Figure size 432x288 with 1 Axes>"
      ]
     },
     "metadata": {},
     "output_type": "display_data"
    }
   ],
   "source": [
    "sns.boxplot(df.price)"
   ]
  },
  {
   "cell_type": "code",
   "execution_count": 12,
   "metadata": {},
   "outputs": [],
   "source": [
    "corr = ['price', 'sqft_living', 'grade', 'sqft_above', 'sqft_living15',\n",
    "       'bathrooms', 'view', 'sqft_basement', 'bedrooms', 'lat']"
   ]
  },
  {
   "cell_type": "code",
   "execution_count": 13,
   "metadata": {},
   "outputs": [],
   "source": [
    "d  = df[corr]"
   ]
  },
  {
   "cell_type": "code",
   "execution_count": 14,
   "metadata": {},
   "outputs": [
    {
     "data": {
      "image/png": "[encoded data removed]",
      "text/plain": [
       "<Figure size 1440x1440 with 9 Axes>"
      ]
     },
     "metadata": {},
     "output_type": "display_data"
    }
   ],
   "source": [
    "plt.figure(figsize=(20,20))\n",
    "for i,col in enumerate(d.columns[1:]):\n",
    "    plt.subplot(6,4,i+1)\n",
    "    sns.scatterplot(x=d[col],y=d['price'])\n"
   ]
  },
  {
   "cell_type": "code",
   "execution_count": 15,
   "metadata": {},
   "outputs": [
    {
     "data": {
      "text/plain": [
       "3     45.454125\n",
       "4     31.841947\n",
       "2     12.770092\n",
       "5      7.407579\n",
       "6      1.258502\n",
       "1      0.920742\n",
       "7      0.175820\n",
       "0      0.060149\n",
       "8      0.060149\n",
       "9      0.027761\n",
       "10     0.013881\n",
       "11     0.004627\n",
       "33     0.004627\n",
       "Name: bedrooms, dtype: float64"
      ]
     },
     "execution_count": 15,
     "metadata": {},
     "output_type": "execute_result"
    }
   ],
   "source": [
    "df.bedrooms.value_counts()/df.shape[0]*100"
   ]
  },
  {
   "cell_type": "code",
   "execution_count": 16,
   "metadata": {},
   "outputs": [
    {
     "data": {
      "text/plain": [
       "Index(['id', 'date', 'price', 'bedrooms', 'bathrooms', 'sqft_living',\n",
       "       'sqft_lot', 'floors', 'waterfront', 'view', 'condition', 'grade',\n",
       "       'sqft_above', 'sqft_basement', 'yr_built', 'yr_renovated', 'zipcode',\n",
       "       'lat', 'long', 'sqft_living15', 'sqft_lot15'],\n",
       "      dtype='object')"
      ]
     },
     "execution_count": 16,
     "metadata": {},
     "output_type": "execute_result"
    }
   ],
   "source": [
    "df.columns"
   ]
  },
  {
   "cell_type": "code",
   "execution_count": 17,
   "metadata": {},
   "outputs": [],
   "source": [
    "counts_num = ['bedrooms', 'bathrooms','floors','view','condition', 'grade']"
   ]
  },
  {
   "cell_type": "code",
   "execution_count": 18,
   "metadata": {},
   "outputs": [],
   "source": [
    "ds_nu = df[counts_num]"
   ]
  },
  {
   "cell_type": "code",
   "execution_count": 19,
   "metadata": {},
   "outputs": [
    {
     "name": "stdout",
     "output_type": "stream",
     "text": [
      "the value counts of bedrooms is \n",
      "3     45.454125\n",
      "4     31.841947\n",
      "2     12.770092\n",
      "5      7.407579\n",
      "6      1.258502\n",
      "1      0.920742\n",
      "7      0.175820\n",
      "0      0.060149\n",
      "8      0.060149\n",
      "9      0.027761\n",
      "10     0.013881\n",
      "11     0.004627\n",
      "33     0.004627\n",
      "Name: bedrooms, dtype: float64\n",
      "the value counts of bathrooms is \n",
      "2.50    24.892426\n",
      "1.00    17.822607\n",
      "1.75    14.102623\n",
      "2.25     9.471152\n",
      "2.00     8.929811\n",
      "1.50     6.690418\n",
      "2.75     5.482811\n",
      "3.00     3.484014\n",
      "3.50     3.382224\n",
      "3.25     2.725212\n",
      "3.75     0.717161\n",
      "4.00     0.629251\n",
      "4.50     0.462684\n",
      "4.25     0.365521\n",
      "0.75     0.333133\n",
      "4.75     0.106417\n",
      "5.00     0.097164\n",
      "5.25     0.060149\n",
      "0.00     0.046268\n",
      "5.50     0.046268\n",
      "1.25     0.041642\n",
      "6.00     0.027761\n",
      "0.50     0.018507\n",
      "5.75     0.018507\n",
      "6.75     0.009254\n",
      "8.00     0.009254\n",
      "6.25     0.009254\n",
      "6.50     0.009254\n",
      "7.50     0.004627\n",
      "7.75     0.004627\n",
      "Name: bathrooms, dtype: float64\n",
      "the value counts of floors is \n",
      "1.0    49.414704\n",
      "2.0    38.129829\n",
      "1.5     8.837274\n",
      "3.0     2.836256\n",
      "2.5     0.744922\n",
      "3.5     0.037015\n",
      "Name: floors, dtype: float64\n",
      "the value counts of view is \n",
      "0    90.172581\n",
      "2     4.455652\n",
      "3     2.359691\n",
      "1     1.536113\n",
      "4     1.475964\n",
      "Name: view, dtype: float64\n",
      "the value counts of condition is \n",
      "3    64.919262\n",
      "4    26.275852\n",
      "5     7.870263\n",
      "2     0.795817\n",
      "1     0.138805\n",
      "Name: condition, dtype: float64\n",
      "the value counts of grade is \n",
      "7     41.553695\n",
      "8     28.075695\n",
      "9     12.099200\n",
      "6      9.429510\n",
      "10     5.246842\n",
      "11     1.846111\n",
      "5      1.119696\n",
      "12     0.416416\n",
      "4      0.134179\n",
      "13     0.060149\n",
      "3      0.013881\n",
      "1      0.004627\n",
      "Name: grade, dtype: float64\n"
     ]
    }
   ],
   "source": [
    "for i in ds_nu.columns:\n",
    "    counts = ds_nu[i].value_counts()/ds_nu.shape[0]*100\n",
    "    print(f'the value counts of {i} is \\n{counts}')"
   ]
  },
  {
   "cell_type": "code",
   "execution_count": 20,
   "metadata": {},
   "outputs": [
    {
     "data": {
      "image/png": "[encoded data removed]",
      "text/plain": [
       "<Figure size 1440x1440 with 6 Axes>"
      ]
     },
     "metadata": {},
     "output_type": "display_data"
    }
   ],
   "source": [
    "plt.figure(figsize=(20,20))\n",
    "for i,col in enumerate(ds_nu.columns):\n",
    "    plt.subplot(6,2,i+1)\n",
    "    sns.countplot(ds_nu[col])"
   ]
  },
  {
   "cell_type": "code",
   "execution_count": 21,
   "metadata": {},
   "outputs": [],
   "source": [
    "##TIME\n",
    "df['time'] = pd.to_datetime(df['date'])"
   ]
  },
  {
   "cell_type": "code",
   "execution_count": 22,
   "metadata": {},
   "outputs": [
    {
     "data": {
      "text/plain": [
       "<AxesSubplot:xlabel='time', ylabel='price'>"
      ]
     },
     "execution_count": 22,
     "metadata": {},
     "output_type": "execute_result"
    },
    {
     "data": {
      "image/png": "[encoded data removed]",
      "text/plain": [
       "<Figure size 432x288 with 1 Axes>"
      ]
     },
     "metadata": {},
     "output_type": "display_data"
    }
   ],
   "source": [
    "sns.lineplot(df['time'],df['price'])"
   ]
  },
  {
   "cell_type": "code",
   "execution_count": 23,
   "metadata": {},
   "outputs": [],
   "source": [
    "df[ 'year']= df['time'].dt.year\n",
    "df[ 'month']= df['time'].dt.month"
   ]
  },
  {
   "cell_type": "code",
   "execution_count": 24,
   "metadata": {},
   "outputs": [
    {
     "data": {
      "text/html": [
       "<div>\n",
       "<style scoped>\n",
       "    .dataframe tbody tr th:only-of-type {\n",
       "        vertical-align: middle;\n",
       "    }\n",
       "\n",
       "    .dataframe tbody tr th {\n",
       "        vertical-align: top;\n",
       "    }\n",
       "\n",
       "    .dataframe thead th {\n",
       "        text-align: right;\n",
       "    }\n",
       "</style>\n",
       "<table border=\"1\" class=\"dataframe\">\n",
       "  <thead>\n",
       "    <tr style=\"text-align: right;\">\n",
       "      <th></th>\n",
       "      <th>mean</th>\n",
       "      <th>min</th>\n",
       "      <th>max</th>\n",
       "    </tr>\n",
       "    <tr>\n",
       "      <th>year</th>\n",
       "      <th></th>\n",
       "      <th></th>\n",
       "      <th></th>\n",
       "    </tr>\n",
       "  </thead>\n",
       "  <tbody>\n",
       "    <tr>\n",
       "      <th>2014</th>\n",
       "      <td>539181.428415</td>\n",
       "      <td>78000.0</td>\n",
       "      <td>7700000.0</td>\n",
       "    </tr>\n",
       "    <tr>\n",
       "      <th>2015</th>\n",
       "      <td>541988.992264</td>\n",
       "      <td>75000.0</td>\n",
       "      <td>5350000.0</td>\n",
       "    </tr>\n",
       "  </tbody>\n",
       "</table>\n",
       "</div>"
      ],
      "text/plain": [
       "               mean      min        max\n",
       "year                                   \n",
       "2014  539181.428415  78000.0  7700000.0\n",
       "2015  541988.992264  75000.0  5350000.0"
      ]
     },
     "execution_count": 24,
     "metadata": {},
     "output_type": "execute_result"
    }
   ],
   "source": [
    "df.groupby('year')['price'].agg(['mean','min','max'])"
   ]
  },
  {
   "cell_type": "code",
   "execution_count": 25,
   "metadata": {},
   "outputs": [
    {
     "data": {
      "text/plain": [
       "year\n",
       "2014    AxesSubplot(0.125,0.125;0.775x0.755)\n",
       "2015    AxesSubplot(0.125,0.125;0.775x0.755)\n",
       "Name: price, dtype: object"
      ]
     },
     "execution_count": 25,
     "metadata": {},
     "output_type": "execute_result"
    },
    {
     "data": {
      "image/png": "[encoded data removed]",
      "text/plain": [
       "<Figure size 432x288 with 1 Axes>"
      ]
     },
     "metadata": {},
     "output_type": "display_data"
    }
   ],
   "source": [
    "df.groupby('year')['price'].plot()"
   ]
  },
  {
   "cell_type": "code",
   "execution_count": 26,
   "metadata": {},
   "outputs": [
    {
     "data": {
      "text/plain": [
       "year\n",
       "2014    539181.428415\n",
       "2015    541988.992264\n",
       "Name: price, dtype: float64"
      ]
     },
     "execution_count": 26,
     "metadata": {},
     "output_type": "execute_result"
    }
   ],
   "source": [
    "df.groupby('year').mean()['price']"
   ]
  },
  {
   "cell_type": "code",
   "execution_count": 27,
   "metadata": {},
   "outputs": [
    {
     "name": "stdout",
     "output_type": "stream",
     "text": [
      "Int64Index([1, 2, 3, 4, 5, 6, 7, 8, 9, 10, 11, 12], dtype='int64', name='month') month\n",
      "1     525870.889571\n",
      "2     507851.371200\n",
      "3     543977.187200\n",
      "4     561837.774989\n",
      "5     550768.785833\n",
      "6     558002.199541\n",
      "7     544788.764360\n",
      "8     536445.276804\n",
      "9     529253.821871\n",
      "10    539026.971778\n",
      "11    521961.009213\n",
      "12    524461.866757\n",
      "Name: price, dtype: float64\n",
      "Int64Index([1, 2, 3, 4, 5, 6, 7, 8, 9, 10, 11, 12], dtype='int64', name='month') month\n",
      "1     525870.889571\n",
      "2     507851.371200\n",
      "3     543977.187200\n",
      "4     561837.774989\n",
      "5     550768.785833\n",
      "6     558002.199541\n",
      "7     544788.764360\n",
      "8     536445.276804\n",
      "9     529253.821871\n",
      "10    539026.971778\n",
      "11    521961.009213\n",
      "12    524461.866757\n",
      "Name: price, dtype: float64\n",
      "Int64Index([1, 2, 3, 4, 5, 6, 7, 8, 9, 10, 11, 12], dtype='int64', name='month') month\n",
      "1     525870.889571\n",
      "2     507851.371200\n",
      "3     543977.187200\n",
      "4     561837.774989\n",
      "5     550768.785833\n",
      "6     558002.199541\n",
      "7     544788.764360\n",
      "8     536445.276804\n",
      "9     529253.821871\n",
      "10    539026.971778\n",
      "11    521961.009213\n",
      "12    524461.866757\n",
      "Name: price, dtype: float64\n",
      "Int64Index([1, 2, 3, 4, 5, 6, 7, 8, 9, 10, 11, 12], dtype='int64', name='month') month\n",
      "1     525870.889571\n",
      "2     507851.371200\n",
      "3     543977.187200\n",
      "4     561837.774989\n",
      "5     550768.785833\n",
      "6     558002.199541\n",
      "7     544788.764360\n",
      "8     536445.276804\n",
      "9     529253.821871\n",
      "10    539026.971778\n",
      "11    521961.009213\n",
      "12    524461.866757\n",
      "Name: price, dtype: float64\n",
      "Int64Index([1, 2, 3, 4, 5, 6, 7, 8, 9, 10, 11, 12], dtype='int64', name='month') month\n",
      "1     525870.889571\n",
      "2     507851.371200\n",
      "3     543977.187200\n",
      "4     561837.774989\n",
      "5     550768.785833\n",
      "6     558002.199541\n",
      "7     544788.764360\n",
      "8     536445.276804\n",
      "9     529253.821871\n",
      "10    539026.971778\n",
      "11    521961.009213\n",
      "12    524461.866757\n",
      "Name: price, dtype: float64\n",
      "Int64Index([1, 2, 3, 4, 5, 6, 7, 8, 9, 10, 11, 12], dtype='int64', name='month') month\n",
      "1     525870.889571\n",
      "2     507851.371200\n",
      "3     543977.187200\n",
      "4     561837.774989\n",
      "5     550768.785833\n",
      "6     558002.199541\n",
      "7     544788.764360\n",
      "8     536445.276804\n",
      "9     529253.821871\n",
      "10    539026.971778\n",
      "11    521961.009213\n",
      "12    524461.866757\n",
      "Name: price, dtype: float64\n",
      "Int64Index([1, 2, 3, 4, 5, 6, 7, 8, 9, 10, 11, 12], dtype='int64', name='month') month\n",
      "1     525870.889571\n",
      "2     507851.371200\n",
      "3     543977.187200\n",
      "4     561837.774989\n",
      "5     550768.785833\n",
      "6     558002.199541\n",
      "7     544788.764360\n",
      "8     536445.276804\n",
      "9     529253.821871\n",
      "10    539026.971778\n",
      "11    521961.009213\n",
      "12    524461.866757\n",
      "Name: price, dtype: float64\n",
      "Int64Index([1, 2, 3, 4, 5, 6, 7, 8, 9, 10, 11, 12], dtype='int64', name='month') month\n",
      "1     525870.889571\n",
      "2     507851.371200\n",
      "3     543977.187200\n",
      "4     561837.774989\n",
      "5     550768.785833\n",
      "6     558002.199541\n",
      "7     544788.764360\n",
      "8     536445.276804\n",
      "9     529253.821871\n",
      "10    539026.971778\n",
      "11    521961.009213\n",
      "12    524461.866757\n",
      "Name: price, dtype: float64\n",
      "Int64Index([1, 2, 3, 4, 5, 6, 7, 8, 9, 10, 11, 12], dtype='int64', name='month') month\n",
      "1     525870.889571\n",
      "2     507851.371200\n",
      "3     543977.187200\n",
      "4     561837.774989\n",
      "5     550768.785833\n",
      "6     558002.199541\n",
      "7     544788.764360\n",
      "8     536445.276804\n",
      "9     529253.821871\n",
      "10    539026.971778\n",
      "11    521961.009213\n",
      "12    524461.866757\n",
      "Name: price, dtype: float64\n",
      "Int64Index([1, 2, 3, 4, 5, 6, 7, 8, 9, 10, 11, 12], dtype='int64', name='month') month\n",
      "1     525870.889571\n",
      "2     507851.371200\n",
      "3     543977.187200\n",
      "4     561837.774989\n",
      "5     550768.785833\n",
      "6     558002.199541\n",
      "7     544788.764360\n",
      "8     536445.276804\n",
      "9     529253.821871\n",
      "10    539026.971778\n",
      "11    521961.009213\n",
      "12    524461.866757\n",
      "Name: price, dtype: float64\n",
      "Int64Index([1, 2, 3, 4, 5, 6, 7, 8, 9, 10, 11, 12], dtype='int64', name='month') month\n",
      "1     525870.889571\n",
      "2     507851.371200\n",
      "3     543977.187200\n",
      "4     561837.774989\n",
      "5     550768.785833\n",
      "6     558002.199541\n",
      "7     544788.764360\n",
      "8     536445.276804\n",
      "9     529253.821871\n",
      "10    539026.971778\n",
      "11    521961.009213\n",
      "12    524461.866757\n",
      "Name: price, dtype: float64\n",
      "Int64Index([1, 2, 3, 4, 5, 6, 7, 8, 9, 10, 11, 12], dtype='int64', name='month') month\n",
      "1     525870.889571\n",
      "2     507851.371200\n",
      "3     543977.187200\n",
      "4     561837.774989\n",
      "5     550768.785833\n",
      "6     558002.199541\n",
      "7     544788.764360\n",
      "8     536445.276804\n",
      "9     529253.821871\n",
      "10    539026.971778\n",
      "11    521961.009213\n",
      "12    524461.866757\n",
      "Name: price, dtype: float64\n"
     ]
    }
   ],
   "source": [
    "for i,j in df.groupby('month'):\n",
    "    j = df.groupby('month').mean()['price']\n",
    "    i = j.index\n",
    "    print(i,j)"
   ]
  },
  {
   "cell_type": "code",
   "execution_count": 28,
   "metadata": {},
   "outputs": [
    {
     "data": {
      "text/plain": [
       "<AxesSubplot:xlabel='month'>"
      ]
     },
     "execution_count": 28,
     "metadata": {},
     "output_type": "execute_result"
    },
    {
     "data": {
      "image/png": "[encoded data removed]",
      "text/plain": [
       "<Figure size 432x288 with 1 Axes>"
      ]
     },
     "metadata": {},
     "output_type": "display_data"
    }
   ],
   "source": [
    "df.groupby('month').mean()['price'].plot()"
   ]
  },
  {
   "cell_type": "code",
   "execution_count": 29,
   "metadata": {},
   "outputs": [
    {
     "data": {
      "text/html": [
       "<div>\n",
       "<style scoped>\n",
       "    .dataframe tbody tr th:only-of-type {\n",
       "        vertical-align: middle;\n",
       "    }\n",
       "\n",
       "    .dataframe tbody tr th {\n",
       "        vertical-align: top;\n",
       "    }\n",
       "\n",
       "    .dataframe thead th {\n",
       "        text-align: right;\n",
       "    }\n",
       "</style>\n",
       "<table border=\"1\" class=\"dataframe\">\n",
       "  <thead>\n",
       "    <tr style=\"text-align: right;\">\n",
       "      <th></th>\n",
       "      <th>id</th>\n",
       "      <th>date</th>\n",
       "      <th>price</th>\n",
       "      <th>bedrooms</th>\n",
       "      <th>bathrooms</th>\n",
       "      <th>sqft_living</th>\n",
       "      <th>sqft_lot</th>\n",
       "      <th>floors</th>\n",
       "      <th>waterfront</th>\n",
       "      <th>view</th>\n",
       "      <th>...</th>\n",
       "      <th>yr_built</th>\n",
       "      <th>yr_renovated</th>\n",
       "      <th>zipcode</th>\n",
       "      <th>lat</th>\n",
       "      <th>long</th>\n",
       "      <th>sqft_living15</th>\n",
       "      <th>sqft_lot15</th>\n",
       "      <th>time</th>\n",
       "      <th>year</th>\n",
       "      <th>month</th>\n",
       "    </tr>\n",
       "  </thead>\n",
       "  <tbody>\n",
       "    <tr>\n",
       "      <th>0</th>\n",
       "      <td>7129300520</td>\n",
       "      <td>20141013T000000</td>\n",
       "      <td>221900.0</td>\n",
       "      <td>3</td>\n",
       "      <td>1.00</td>\n",
       "      <td>1180</td>\n",
       "      <td>5650</td>\n",
       "      <td>1.0</td>\n",
       "      <td>0</td>\n",
       "      <td>0</td>\n",
       "      <td>...</td>\n",
       "      <td>1955</td>\n",
       "      <td>0</td>\n",
       "      <td>98178</td>\n",
       "      <td>47.5112</td>\n",
       "      <td>-122.257</td>\n",
       "      <td>1340</td>\n",
       "      <td>5650</td>\n",
       "      <td>2014-10-13</td>\n",
       "      <td>2014</td>\n",
       "      <td>10</td>\n",
       "    </tr>\n",
       "    <tr>\n",
       "      <th>1</th>\n",
       "      <td>6414100192</td>\n",
       "      <td>20141209T000000</td>\n",
       "      <td>538000.0</td>\n",
       "      <td>3</td>\n",
       "      <td>2.25</td>\n",
       "      <td>2570</td>\n",
       "      <td>7242</td>\n",
       "      <td>2.0</td>\n",
       "      <td>0</td>\n",
       "      <td>0</td>\n",
       "      <td>...</td>\n",
       "      <td>1951</td>\n",
       "      <td>1991</td>\n",
       "      <td>98125</td>\n",
       "      <td>47.7210</td>\n",
       "      <td>-122.319</td>\n",
       "      <td>1690</td>\n",
       "      <td>7639</td>\n",
       "      <td>2014-12-09</td>\n",
       "      <td>2014</td>\n",
       "      <td>12</td>\n",
       "    </tr>\n",
       "    <tr>\n",
       "      <th>2</th>\n",
       "      <td>5631500400</td>\n",
       "      <td>20150225T000000</td>\n",
       "      <td>180000.0</td>\n",
       "      <td>2</td>\n",
       "      <td>1.00</td>\n",
       "      <td>770</td>\n",
       "      <td>10000</td>\n",
       "      <td>1.0</td>\n",
       "      <td>0</td>\n",
       "      <td>0</td>\n",
       "      <td>...</td>\n",
       "      <td>1933</td>\n",
       "      <td>0</td>\n",
       "      <td>98028</td>\n",
       "      <td>47.7379</td>\n",
       "      <td>-122.233</td>\n",
       "      <td>2720</td>\n",
       "      <td>8062</td>\n",
       "      <td>2015-02-25</td>\n",
       "      <td>2015</td>\n",
       "      <td>2</td>\n",
       "    </tr>\n",
       "    <tr>\n",
       "      <th>3</th>\n",
       "      <td>2487200875</td>\n",
       "      <td>20141209T000000</td>\n",
       "      <td>604000.0</td>\n",
       "      <td>4</td>\n",
       "      <td>3.00</td>\n",
       "      <td>1960</td>\n",
       "      <td>5000</td>\n",
       "      <td>1.0</td>\n",
       "      <td>0</td>\n",
       "      <td>0</td>\n",
       "      <td>...</td>\n",
       "      <td>1965</td>\n",
       "      <td>0</td>\n",
       "      <td>98136</td>\n",
       "      <td>47.5208</td>\n",
       "      <td>-122.393</td>\n",
       "      <td>1360</td>\n",
       "      <td>5000</td>\n",
       "      <td>2014-12-09</td>\n",
       "      <td>2014</td>\n",
       "      <td>12</td>\n",
       "    </tr>\n",
       "    <tr>\n",
       "      <th>4</th>\n",
       "      <td>1954400510</td>\n",
       "      <td>20150218T000000</td>\n",
       "      <td>510000.0</td>\n",
       "      <td>3</td>\n",
       "      <td>2.00</td>\n",
       "      <td>1680</td>\n",
       "      <td>8080</td>\n",
       "      <td>1.0</td>\n",
       "      <td>0</td>\n",
       "      <td>0</td>\n",
       "      <td>...</td>\n",
       "      <td>1987</td>\n",
       "      <td>0</td>\n",
       "      <td>98074</td>\n",
       "      <td>47.6168</td>\n",
       "      <td>-122.045</td>\n",
       "      <td>1800</td>\n",
       "      <td>7503</td>\n",
       "      <td>2015-02-18</td>\n",
       "      <td>2015</td>\n",
       "      <td>2</td>\n",
       "    </tr>\n",
       "    <tr>\n",
       "      <th>...</th>\n",
       "      <td>...</td>\n",
       "      <td>...</td>\n",
       "      <td>...</td>\n",
       "      <td>...</td>\n",
       "      <td>...</td>\n",
       "      <td>...</td>\n",
       "      <td>...</td>\n",
       "      <td>...</td>\n",
       "      <td>...</td>\n",
       "      <td>...</td>\n",
       "      <td>...</td>\n",
       "      <td>...</td>\n",
       "      <td>...</td>\n",
       "      <td>...</td>\n",
       "      <td>...</td>\n",
       "      <td>...</td>\n",
       "      <td>...</td>\n",
       "      <td>...</td>\n",
       "      <td>...</td>\n",
       "      <td>...</td>\n",
       "      <td>...</td>\n",
       "    </tr>\n",
       "    <tr>\n",
       "      <th>21608</th>\n",
       "      <td>263000018</td>\n",
       "      <td>20140521T000000</td>\n",
       "      <td>360000.0</td>\n",
       "      <td>3</td>\n",
       "      <td>2.50</td>\n",
       "      <td>1530</td>\n",
       "      <td>1131</td>\n",
       "      <td>3.0</td>\n",
       "      <td>0</td>\n",
       "      <td>0</td>\n",
       "      <td>...</td>\n",
       "      <td>2009</td>\n",
       "      <td>0</td>\n",
       "      <td>98103</td>\n",
       "      <td>47.6993</td>\n",
       "      <td>-122.346</td>\n",
       "      <td>1530</td>\n",
       "      <td>1509</td>\n",
       "      <td>2014-05-21</td>\n",
       "      <td>2014</td>\n",
       "      <td>5</td>\n",
       "    </tr>\n",
       "    <tr>\n",
       "      <th>21609</th>\n",
       "      <td>6600060120</td>\n",
       "      <td>20150223T000000</td>\n",
       "      <td>400000.0</td>\n",
       "      <td>4</td>\n",
       "      <td>2.50</td>\n",
       "      <td>2310</td>\n",
       "      <td>5813</td>\n",
       "      <td>2.0</td>\n",
       "      <td>0</td>\n",
       "      <td>0</td>\n",
       "      <td>...</td>\n",
       "      <td>2014</td>\n",
       "      <td>0</td>\n",
       "      <td>98146</td>\n",
       "      <td>47.5107</td>\n",
       "      <td>-122.362</td>\n",
       "      <td>1830</td>\n",
       "      <td>7200</td>\n",
       "      <td>2015-02-23</td>\n",
       "      <td>2015</td>\n",
       "      <td>2</td>\n",
       "    </tr>\n",
       "    <tr>\n",
       "      <th>21610</th>\n",
       "      <td>1523300141</td>\n",
       "      <td>20140623T000000</td>\n",
       "      <td>402101.0</td>\n",
       "      <td>2</td>\n",
       "      <td>0.75</td>\n",
       "      <td>1020</td>\n",
       "      <td>1350</td>\n",
       "      <td>2.0</td>\n",
       "      <td>0</td>\n",
       "      <td>0</td>\n",
       "      <td>...</td>\n",
       "      <td>2009</td>\n",
       "      <td>0</td>\n",
       "      <td>98144</td>\n",
       "      <td>47.5944</td>\n",
       "      <td>-122.299</td>\n",
       "      <td>1020</td>\n",
       "      <td>2007</td>\n",
       "      <td>2014-06-23</td>\n",
       "      <td>2014</td>\n",
       "      <td>6</td>\n",
       "    </tr>\n",
       "    <tr>\n",
       "      <th>21611</th>\n",
       "      <td>291310100</td>\n",
       "      <td>20150116T000000</td>\n",
       "      <td>400000.0</td>\n",
       "      <td>3</td>\n",
       "      <td>2.50</td>\n",
       "      <td>1600</td>\n",
       "      <td>2388</td>\n",
       "      <td>2.0</td>\n",
       "      <td>0</td>\n",
       "      <td>0</td>\n",
       "      <td>...</td>\n",
       "      <td>2004</td>\n",
       "      <td>0</td>\n",
       "      <td>98027</td>\n",
       "      <td>47.5345</td>\n",
       "      <td>-122.069</td>\n",
       "      <td>1410</td>\n",
       "      <td>1287</td>\n",
       "      <td>2015-01-16</td>\n",
       "      <td>2015</td>\n",
       "      <td>1</td>\n",
       "    </tr>\n",
       "    <tr>\n",
       "      <th>21612</th>\n",
       "      <td>1523300157</td>\n",
       "      <td>20141015T000000</td>\n",
       "      <td>325000.0</td>\n",
       "      <td>2</td>\n",
       "      <td>0.75</td>\n",
       "      <td>1020</td>\n",
       "      <td>1076</td>\n",
       "      <td>2.0</td>\n",
       "      <td>0</td>\n",
       "      <td>0</td>\n",
       "      <td>...</td>\n",
       "      <td>2008</td>\n",
       "      <td>0</td>\n",
       "      <td>98144</td>\n",
       "      <td>47.5941</td>\n",
       "      <td>-122.299</td>\n",
       "      <td>1020</td>\n",
       "      <td>1357</td>\n",
       "      <td>2014-10-15</td>\n",
       "      <td>2014</td>\n",
       "      <td>10</td>\n",
       "    </tr>\n",
       "  </tbody>\n",
       "</table>\n",
       "<p>21613 rows × 24 columns</p>\n",
       "</div>"
      ],
      "text/plain": [
       "               id             date     price  bedrooms  bathrooms  \\\n",
       "0      7129300520  20141013T000000  221900.0         3       1.00   \n",
       "1      6414100192  20141209T000000  538000.0         3       2.25   \n",
       "2      5631500400  20150225T000000  180000.0         2       1.00   \n",
       "3      2487200875  20141209T000000  604000.0         4       3.00   \n",
       "4      1954400510  20150218T000000  510000.0         3       2.00   \n",
       "...           ...              ...       ...       ...        ...   \n",
       "21608   263000018  20140521T000000  360000.0         3       2.50   \n",
       "21609  6600060120  20150223T000000  400000.0         4       2.50   \n",
       "21610  1523300141  20140623T000000  402101.0         2       0.75   \n",
       "21611   291310100  20150116T000000  400000.0         3       2.50   \n",
       "21612  1523300157  20141015T000000  325000.0         2       0.75   \n",
       "\n",
       "       sqft_living  sqft_lot  floors  waterfront  view  ...  yr_built  \\\n",
       "0             1180      5650     1.0           0     0  ...      1955   \n",
       "1             2570      7242     2.0           0     0  ...      1951   \n",
       "2              770     10000     1.0           0     0  ...      1933   \n",
       "3             1960      5000     1.0           0     0  ...      1965   \n",
       "4             1680      8080     1.0           0     0  ...      1987   \n",
       "...            ...       ...     ...         ...   ...  ...       ...   \n",
       "21608         1530      1131     3.0           0     0  ...      2009   \n",
       "21609         2310      5813     2.0           0     0  ...      2014   \n",
       "21610         1020      1350     2.0           0     0  ...      2009   \n",
       "21611         1600      2388     2.0           0     0  ...      2004   \n",
       "21612         1020      1076     2.0           0     0  ...      2008   \n",
       "\n",
       "       yr_renovated  zipcode      lat     long  sqft_living15  sqft_lot15  \\\n",
       "0                 0    98178  47.5112 -122.257           1340        5650   \n",
       "1              1991    98125  47.7210 -122.319           1690        7639   \n",
       "2                 0    98028  47.7379 -122.233           2720        8062   \n",
       "3                 0    98136  47.5208 -122.393           1360        5000   \n",
       "4                 0    98074  47.6168 -122.045           1800        7503   \n",
       "...             ...      ...      ...      ...            ...         ...   \n",
       "21608             0    98103  47.6993 -122.346           1530        1509   \n",
       "21609             0    98146  47.5107 -122.362           1830        7200   \n",
       "21610             0    98144  47.5944 -122.299           1020        2007   \n",
       "21611             0    98027  47.5345 -122.069           1410        1287   \n",
       "21612             0    98144  47.5941 -122.299           1020        1357   \n",
       "\n",
       "            time  year  month  \n",
       "0     2014-10-13  2014     10  \n",
       "1     2014-12-09  2014     12  \n",
       "2     2015-02-25  2015      2  \n",
       "3     2014-12-09  2014     12  \n",
       "4     2015-02-18  2015      2  \n",
       "...          ...   ...    ...  \n",
       "21608 2014-05-21  2014      5  \n",
       "21609 2015-02-23  2015      2  \n",
       "21610 2014-06-23  2014      6  \n",
       "21611 2015-01-16  2015      1  \n",
       "21612 2014-10-15  2014     10  \n",
       "\n",
       "[21613 rows x 24 columns]"
      ]
     },
     "execution_count": 29,
     "metadata": {},
     "output_type": "execute_result"
    }
   ],
   "source": [
    "df"
   ]
  },
  {
   "cell_type": "code",
   "execution_count": 30,
   "metadata": {},
   "outputs": [
    {
     "data": {
      "text/plain": [
       "Index(['price', 'sqft_living', 'grade', 'sqft_above', 'sqft_living15',\n",
       "       'bathrooms', 'view', 'sqft_basement', 'bedrooms', 'lat'],\n",
       "      dtype='object')"
      ]
     },
     "execution_count": 30,
     "metadata": {},
     "output_type": "execute_result"
    }
   ],
   "source": [
    "d.columns"
   ]
  },
  {
   "cell_type": "code",
   "execution_count": 31,
   "metadata": {},
   "outputs": [],
   "source": [
    "x = np.random.rand(len(d))<0.8\n",
    "train = d[x]\n",
    "test = d[~x]"
   ]
  },
  {
   "cell_type": "code",
   "execution_count": 32,
   "metadata": {},
   "outputs": [],
   "source": [
    "x_train = train.drop('price',axis=1)\n",
    "x_test = test.drop('price',axis=1)\n",
    "y_train = train['price']\n",
    "y_test = test['price']"
   ]
  },
  {
   "cell_type": "code",
   "execution_count": 33,
   "metadata": {},
   "outputs": [
    {
     "name": "stderr",
     "output_type": "stream",
     "text": [
      "C:\\Users\\hp\\Anaconda3\\lib\\site-packages\\sklearn\\linear_model\\least_angle.py:30: DeprecationWarning: `np.float` is a deprecated alias for the builtin `float`. To silence this warning, use `float` by itself. Doing this will not modify any behavior and is safe. If you specifically wanted the numpy scalar type, use `np.float64` here.\n",
      "Deprecated in NumPy 1.20; for more details and guidance: https://numpy.org/devdocs/release/1.20.0-notes.html#deprecations\n",
      "  method='lar', copy_X=True, eps=np.finfo(np.float).eps,\n",
      "C:\\Users\\hp\\Anaconda3\\lib\\site-packages\\sklearn\\linear_model\\least_angle.py:167: DeprecationWarning: `np.float` is a deprecated alias for the builtin `float`. To silence this warning, use `float` by itself. Doing this will not modify any behavior and is safe. If you specifically wanted the numpy scalar type, use `np.float64` here.\n",
      "Deprecated in NumPy 1.20; for more details and guidance: https://numpy.org/devdocs/release/1.20.0-notes.html#deprecations\n",
      "  method='lar', copy_X=True, eps=np.finfo(np.float).eps,\n",
      "C:\\Users\\hp\\Anaconda3\\lib\\site-packages\\sklearn\\linear_model\\least_angle.py:284: DeprecationWarning: `np.float` is a deprecated alias for the builtin `float`. To silence this warning, use `float` by itself. Doing this will not modify any behavior and is safe. If you specifically wanted the numpy scalar type, use `np.float64` here.\n",
      "Deprecated in NumPy 1.20; for more details and guidance: https://numpy.org/devdocs/release/1.20.0-notes.html#deprecations\n",
      "  eps=np.finfo(np.float).eps, copy_Gram=True, verbose=0,\n",
      "C:\\Users\\hp\\Anaconda3\\lib\\site-packages\\sklearn\\linear_model\\least_angle.py:862: DeprecationWarning: `np.float` is a deprecated alias for the builtin `float`. To silence this warning, use `float` by itself. Doing this will not modify any behavior and is safe. If you specifically wanted the numpy scalar type, use `np.float64` here.\n",
      "Deprecated in NumPy 1.20; for more details and guidance: https://numpy.org/devdocs/release/1.20.0-notes.html#deprecations\n",
      "  eps=np.finfo(np.float).eps, copy_X=True, fit_path=True,\n",
      "C:\\Users\\hp\\Anaconda3\\lib\\site-packages\\sklearn\\linear_model\\least_angle.py:1101: DeprecationWarning: `np.float` is a deprecated alias for the builtin `float`. To silence this warning, use `float` by itself. Doing this will not modify any behavior and is safe. If you specifically wanted the numpy scalar type, use `np.float64` here.\n",
      "Deprecated in NumPy 1.20; for more details and guidance: https://numpy.org/devdocs/release/1.20.0-notes.html#deprecations\n",
      "  eps=np.finfo(np.float).eps, copy_X=True, fit_path=True,\n",
      "C:\\Users\\hp\\Anaconda3\\lib\\site-packages\\sklearn\\linear_model\\least_angle.py:1127: DeprecationWarning: `np.float` is a deprecated alias for the builtin `float`. To silence this warning, use `float` by itself. Doing this will not modify any behavior and is safe. If you specifically wanted the numpy scalar type, use `np.float64` here.\n",
      "Deprecated in NumPy 1.20; for more details and guidance: https://numpy.org/devdocs/release/1.20.0-notes.html#deprecations\n",
      "  eps=np.finfo(np.float).eps, positive=False):\n",
      "C:\\Users\\hp\\Anaconda3\\lib\\site-packages\\sklearn\\linear_model\\least_angle.py:1362: DeprecationWarning: `np.float` is a deprecated alias for the builtin `float`. To silence this warning, use `float` by itself. Doing this will not modify any behavior and is safe. If you specifically wanted the numpy scalar type, use `np.float64` here.\n",
      "Deprecated in NumPy 1.20; for more details and guidance: https://numpy.org/devdocs/release/1.20.0-notes.html#deprecations\n",
      "  max_n_alphas=1000, n_jobs=None, eps=np.finfo(np.float).eps,\n",
      "C:\\Users\\hp\\Anaconda3\\lib\\site-packages\\sklearn\\linear_model\\least_angle.py:1602: DeprecationWarning: `np.float` is a deprecated alias for the builtin `float`. To silence this warning, use `float` by itself. Doing this will not modify any behavior and is safe. If you specifically wanted the numpy scalar type, use `np.float64` here.\n",
      "Deprecated in NumPy 1.20; for more details and guidance: https://numpy.org/devdocs/release/1.20.0-notes.html#deprecations\n",
      "  max_n_alphas=1000, n_jobs=None, eps=np.finfo(np.float).eps,\n",
      "C:\\Users\\hp\\Anaconda3\\lib\\site-packages\\sklearn\\linear_model\\least_angle.py:1738: DeprecationWarning: `np.float` is a deprecated alias for the builtin `float`. To silence this warning, use `float` by itself. Doing this will not modify any behavior and is safe. If you specifically wanted the numpy scalar type, use `np.float64` here.\n",
      "Deprecated in NumPy 1.20; for more details and guidance: https://numpy.org/devdocs/release/1.20.0-notes.html#deprecations\n",
      "  eps=np.finfo(np.float).eps, copy_X=True, positive=False):\n"
     ]
    }
   ],
   "source": [
    "from sklearn.linear_model import LinearRegression"
   ]
  },
  {
   "cell_type": "code",
   "execution_count": 34,
   "metadata": {},
   "outputs": [],
   "source": [
    "lr = LinearRegression()"
   ]
  },
  {
   "cell_type": "code",
   "execution_count": 35,
   "metadata": {},
   "outputs": [
    {
     "data": {
      "text/plain": [
       "LinearRegression(copy_X=True, fit_intercept=True, n_jobs=None, normalize=False)"
      ]
     },
     "execution_count": 35,
     "metadata": {},
     "output_type": "execute_result"
    }
   ],
   "source": [
    "lr.fit(x_train,y_train)"
   ]
  },
  {
   "cell_type": "code",
   "execution_count": 36,
   "metadata": {},
   "outputs": [],
   "source": [
    "pred = lr.predict(x_test)"
   ]
  },
  {
   "cell_type": "code",
   "execution_count": 37,
   "metadata": {},
   "outputs": [],
   "source": [
    "from sklearn.metrics import mean_absolute_error,mean_squared_error"
   ]
  },
  {
   "cell_type": "code",
   "execution_count": 38,
   "metadata": {},
   "outputs": [
    {
     "data": {
      "text/plain": [
       "135390.64391337745"
      ]
     },
     "execution_count": 38,
     "metadata": {},
     "output_type": "execute_result"
    }
   ],
   "source": [
    "mean_absolute_error(y_test,pred)"
   ]
  },
  {
   "cell_type": "code",
   "execution_count": 39,
   "metadata": {},
   "outputs": [
    {
     "data": {
      "text/plain": [
       "42834684483.49388"
      ]
     },
     "execution_count": 39,
     "metadata": {},
     "output_type": "execute_result"
    }
   ],
   "source": [
    "mean_squared_error(y_test,pred)"
   ]
  },
  {
   "cell_type": "code",
   "execution_count": 40,
   "metadata": {},
   "outputs": [
    {
     "data": {
      "text/plain": [
       "(4341, 9)"
      ]
     },
     "execution_count": 40,
     "metadata": {},
     "output_type": "execute_result"
    }
   ],
   "source": [
    "x_test.shape"
   ]
  },
  {
   "cell_type": "code",
   "execution_count": 41,
   "metadata": {},
   "outputs": [
    {
     "data": {
      "text/plain": [
       "206965.41856912686"
      ]
     },
     "execution_count": 41,
     "metadata": {},
     "output_type": "execute_result"
    }
   ],
   "source": [
    "np.sqrt(mean_squared_error(y_test,pred))"
   ]
  },
  {
   "cell_type": "code",
   "execution_count": 42,
   "metadata": {},
   "outputs": [
    {
     "data": {
      "text/plain": [
       "<AxesSubplot:xlabel='price'>"
      ]
     },
     "execution_count": 42,
     "metadata": {},
     "output_type": "execute_result"
    },
    {
     "data": {
      "image/png": "[encoded data removed]",
      "text/plain": [
       "<Figure size 432x288 with 1 Axes>"
      ]
     },
     "metadata": {},
     "output_type": "display_data"
    }
   ],
   "source": [
    "sns.distplot(y_test-pred)"
   ]
  },
  {
   "cell_type": "code",
   "execution_count": 43,
   "metadata": {},
   "outputs": [
    {
     "data": {
      "text/plain": [
       "array([-2.26810209e+15,  7.69270000e+04,  2.26810209e+15,  2.00000000e+00,\n",
       "       -1.34595952e+04,  9.43229938e+04,  2.26810209e+15, -2.89769084e+04,\n",
       "        6.71009220e+05])"
      ]
     },
     "execution_count": 43,
     "metadata": {},
     "output_type": "execute_result"
    }
   ],
   "source": [
    "lr.coef_"
   ]
  },
  {
   "cell_type": "code",
   "execution_count": 44,
   "metadata": {},
   "outputs": [
    {
     "data": {
      "text/plain": [
       "-32285897.99590364"
      ]
     },
     "execution_count": 44,
     "metadata": {},
     "output_type": "execute_result"
    }
   ],
   "source": [
    "lr.intercept_"
   ]
  },
  {
   "cell_type": "code",
   "execution_count": 45,
   "metadata": {},
   "outputs": [],
   "source": [
    "dh = pd.DataFrame({'Actual': y_test, 'Predicted': pred})"
   ]
  },
  {
   "cell_type": "code",
   "execution_count": 46,
   "metadata": {},
   "outputs": [
    {
     "data": {
      "text/plain": [
       "[<matplotlib.lines.Line2D at 0x29cc0a98d48>,\n",
       " <matplotlib.lines.Line2D at 0x29cc0aa3188>]"
      ]
     },
     "execution_count": 46,
     "metadata": {},
     "output_type": "execute_result"
    },
    {
     "data": {
      "image/png": "[encoded data removed]",
      "text/plain": [
       "<Figure size 432x288 with 1 Axes>"
      ]
     },
     "metadata": {},
     "output_type": "display_data"
    }
   ],
   "source": [
    "plt.plot(dh)"
   ]
  },
  {
   "cell_type": "code",
   "execution_count": 47,
   "metadata": {},
   "outputs": [
    {
     "data": {
      "text/plain": [
       "0.6377100708336098"
      ]
     },
     "execution_count": 47,
     "metadata": {},
     "output_type": "execute_result"
    }
   ],
   "source": [
    "lr.score(x_train,y_train)"
   ]
  },
  {
   "cell_type": "code",
   "execution_count": 48,
   "metadata": {},
   "outputs": [
    {
     "data": {
      "text/plain": [
       "0.649568915881128"
      ]
     },
     "execution_count": 48,
     "metadata": {},
     "output_type": "execute_result"
    }
   ],
   "source": [
    "lr.score(x_test,y_test)"
   ]
  },
  {
   "cell_type": "code",
   "execution_count": 49,
   "metadata": {},
   "outputs": [
    {
     "data": {
      "text/plain": [
       "[<matplotlib.lines.Line2D at 0x29cc0af2488>,\n",
       " <matplotlib.lines.Line2D at 0x29cc0b230c8>,\n",
       " <matplotlib.lines.Line2D at 0x29cc0b36188>,\n",
       " <matplotlib.lines.Line2D at 0x29cc0b36388>,\n",
       " <matplotlib.lines.Line2D at 0x29cc0b365c8>,\n",
       " <matplotlib.lines.Line2D at 0x29cc0b36808>,\n",
       " <matplotlib.lines.Line2D at 0x29cc0b36a08>,\n",
       " <matplotlib.lines.Line2D at 0x29cc0b36c08>,\n",
       " <matplotlib.lines.Line2D at 0x29cc0b36588>]"
      ]
     },
     "execution_count": 49,
     "metadata": {},
     "output_type": "execute_result"
    },
    {
     "data": {
      "image/png": "[encoded data removed]",
      "text/plain": [
       "<Figure size 432x288 with 1 Axes>"
      ]
     },
     "metadata": {},
     "output_type": "display_data"
    }
   ],
   "source": [
    "plt.scatter(y_test, pred, color='red')\n",
    "plt.plot(x_test,y_test)"
   ]
  },
  {
   "cell_type": "code",
   "execution_count": 50,
   "metadata": {},
   "outputs": [],
   "source": [
    "from sklearn import metrics"
   ]
  },
  {
   "cell_type": "code",
   "execution_count": 51,
   "metadata": {},
   "outputs": [
    {
     "data": {
      "text/plain": [
       "0.6496202731205996"
      ]
     },
     "execution_count": 51,
     "metadata": {},
     "output_type": "execute_result"
    }
   ],
   "source": [
    "metrics.explained_variance_score(y_test,pred)"
   ]
  },
  {
   "cell_type": "code",
   "execution_count": 52,
   "metadata": {},
   "outputs": [],
   "source": [
    "for i in df.columns:\n",
    "    null_rate = df[i].isnull().sum()/df.shape[0]*100\n",
    "    if null_rate >0:\n",
    "        print(null_rate)"
   ]
  },
  {
   "cell_type": "code",
   "execution_count": 53,
   "metadata": {},
   "outputs": [
    {
     "data": {
      "text/plain": [
       "Index(['id', 'date', 'price', 'bedrooms', 'bathrooms', 'sqft_living',\n",
       "       'sqft_lot', 'floors', 'waterfront', 'view', 'condition', 'grade',\n",
       "       'sqft_above', 'sqft_basement', 'yr_built', 'yr_renovated', 'zipcode',\n",
       "       'lat', 'long', 'sqft_living15', 'sqft_lot15', 'time', 'year', 'month'],\n",
       "      dtype='object')"
      ]
     },
     "execution_count": 53,
     "metadata": {},
     "output_type": "execute_result"
    }
   ],
   "source": [
    "df.columns"
   ]
  },
  {
   "cell_type": "code",
   "execution_count": 54,
   "metadata": {},
   "outputs": [],
   "source": [
    "co = ['price', 'bedrooms', 'bathrooms', 'sqft_living',\n",
    "       'sqft_lot', 'floors', 'waterfront', 'view', 'condition', 'grade',\n",
    "       'sqft_above', 'sqft_basement', 'yr_built', 'yr_renovated', 'zipcode',\n",
    "       'lat', 'long', 'sqft_living15', 'sqft_lot15',]"
   ]
  },
  {
   "cell_type": "code",
   "execution_count": 55,
   "metadata": {},
   "outputs": [],
   "source": [
    "dss = df[co]"
   ]
  },
  {
   "cell_type": "code",
   "execution_count": 56,
   "metadata": {},
   "outputs": [],
   "source": [
    "from sklearn.preprocessing import StandardScaler"
   ]
  },
  {
   "cell_type": "code",
   "execution_count": 57,
   "metadata": {},
   "outputs": [],
   "source": [
    "scaler = StandardScaler()"
   ]
  },
  {
   "cell_type": "code",
   "execution_count": 58,
   "metadata": {},
   "outputs": [],
   "source": [
    "x = np.random.rand(len(dss))<0.8\n",
    "train = dss[x]\n",
    "test = dss[~x]"
   ]
  },
  {
   "cell_type": "code",
   "execution_count": 59,
   "metadata": {},
   "outputs": [],
   "source": [
    "from scipy.stats import zscore"
   ]
  },
  {
   "cell_type": "code",
   "execution_count": 60,
   "metadata": {},
   "outputs": [],
   "source": [
    "o = np.abs(zscore(dss))"
   ]
  },
  {
   "cell_type": "code",
   "execution_count": 61,
   "metadata": {},
   "outputs": [
    {
     "data": {
      "text/plain": [
       "(array([    0,     0,     0, ..., 21612, 21612, 21612], dtype=int64),\n",
       " array([ 0,  1,  2, ..., 16, 17, 18], dtype=int64))"
      ]
     },
     "execution_count": 61,
     "metadata": {},
     "output_type": "execute_result"
    }
   ],
   "source": [
    "np.where(o<3.1)"
   ]
  },
  {
   "cell_type": "code",
   "execution_count": 62,
   "metadata": {},
   "outputs": [],
   "source": [
    "dss_clean = dss[np.abs(zscore(dss)).all(axis=1)]"
   ]
  },
  {
   "cell_type": "code",
   "execution_count": 63,
   "metadata": {},
   "outputs": [
    {
     "name": "stdout",
     "output_type": "stream",
     "text": [
      "(21613, 19)\n",
      "(21613, 19)\n"
     ]
    }
   ],
   "source": [
    "print(dss_clean.shape)\n",
    "print(dss.shape)"
   ]
  },
  {
   "cell_type": "code",
   "execution_count": 64,
   "metadata": {},
   "outputs": [],
   "source": [
    "##PERMUATION\n",
    "\n",
    "dd = dss.iloc[np.random.permutation(len(dss))]"
   ]
  },
  {
   "cell_type": "code",
   "execution_count": 65,
   "metadata": {},
   "outputs": [],
   "source": [
    "x = np.random.rand(len(dd))<0.8\n",
    "train = dd[x]\n",
    "test = dd[~x]"
   ]
  },
  {
   "cell_type": "code",
   "execution_count": 66,
   "metadata": {},
   "outputs": [],
   "source": [
    "x_train = train.drop('price',axis=1)\n",
    "x_test = test.drop('price',axis=1)\n",
    "y_train = train['price']\n",
    "y_test = test['price']"
   ]
  },
  {
   "cell_type": "code",
   "execution_count": 67,
   "metadata": {},
   "outputs": [],
   "source": [
    "x_train_s = scaler.fit_transform(x_train)\n",
    "x_test_s = scaler.transform(x_test)"
   ]
  },
  {
   "cell_type": "code",
   "execution_count": 68,
   "metadata": {},
   "outputs": [
    {
     "name": "stderr",
     "output_type": "stream",
     "text": [
      "C:\\Users\\hp\\Anaconda3\\lib\\site-packages\\sklearn\\decomposition\\online_lda.py:29: DeprecationWarning: `np.float` is a deprecated alias for the builtin `float`. To silence this warning, use `float` by itself. Doing this will not modify any behavior and is safe. If you specifically wanted the numpy scalar type, use `np.float64` here.\n",
      "Deprecated in NumPy 1.20; for more details and guidance: https://numpy.org/devdocs/release/1.20.0-notes.html#deprecations\n",
      "  EPS = np.finfo(np.float).eps\n"
     ]
    }
   ],
   "source": [
    "from sklearn.neighbors import KNeighborsRegressor"
   ]
  },
  {
   "cell_type": "code",
   "execution_count": 69,
   "metadata": {},
   "outputs": [],
   "source": [
    "knn = KNeighborsRegressor(n_neighbors=5,algorithm='brute')"
   ]
  },
  {
   "cell_type": "code",
   "execution_count": 70,
   "metadata": {},
   "outputs": [
    {
     "data": {
      "text/plain": [
       "KNeighborsRegressor(algorithm='brute', leaf_size=30, metric='minkowski',\n",
       "                    metric_params=None, n_jobs=None, n_neighbors=5, p=2,\n",
       "                    weights='uniform')"
      ]
     },
     "execution_count": 70,
     "metadata": {},
     "output_type": "execute_result"
    }
   ],
   "source": [
    "knn.fit(x_train_s,y_train)"
   ]
  },
  {
   "cell_type": "code",
   "execution_count": 71,
   "metadata": {},
   "outputs": [
    {
     "name": "stderr",
     "output_type": "stream",
     "text": [
      "C:\\Users\\hp\\Anaconda3\\lib\\site-packages\\sklearn\\metrics\\pairwise.py:56: DeprecationWarning: `np.float` is a deprecated alias for the builtin `float`. To silence this warning, use `float` by itself. Doing this will not modify any behavior and is safe. If you specifically wanted the numpy scalar type, use `np.float64` here.\n",
      "Deprecated in NumPy 1.20; for more details and guidance: https://numpy.org/devdocs/release/1.20.0-notes.html#deprecations\n",
      "  dtype = np.float\n",
      "C:\\Users\\hp\\Anaconda3\\lib\\site-packages\\sklearn\\metrics\\pairwise.py:56: DeprecationWarning: `np.float` is a deprecated alias for the builtin `float`. To silence this warning, use `float` by itself. Doing this will not modify any behavior and is safe. If you specifically wanted the numpy scalar type, use `np.float64` here.\n",
      "Deprecated in NumPy 1.20; for more details and guidance: https://numpy.org/devdocs/release/1.20.0-notes.html#deprecations\n",
      "  dtype = np.float\n"
     ]
    }
   ],
   "source": [
    "pred = knn.predict(x_test_s)"
   ]
  },
  {
   "cell_type": "code",
   "execution_count": 72,
   "metadata": {},
   "outputs": [
    {
     "data": {
      "text/plain": [
       "<AxesSubplot:xlabel='price'>"
      ]
     },
     "execution_count": 72,
     "metadata": {},
     "output_type": "execute_result"
    },
    {
     "data": {
      "image/png": "[encoded data removed]",
      "text/plain": [
       "<Figure size 432x288 with 1 Axes>"
      ]
     },
     "metadata": {},
     "output_type": "display_data"
    }
   ],
   "source": [
    "sns.scatterplot(y_test,pred)"
   ]
  },
  {
   "cell_type": "code",
   "execution_count": 73,
   "metadata": {},
   "outputs": [
    {
     "data": {
      "text/plain": [
       "<AxesSubplot:xlabel='price'>"
      ]
     },
     "execution_count": 73,
     "metadata": {},
     "output_type": "execute_result"
    },
    {
     "data": {
      "image/png": "[encoded data removed]",
      "text/plain": [
       "<Figure size 432x288 with 1 Axes>"
      ]
     },
     "metadata": {},
     "output_type": "display_data"
    }
   ],
   "source": [
    "sns.distplot(y_test-pred)"
   ]
  },
  {
   "cell_type": "code",
   "execution_count": 74,
   "metadata": {},
   "outputs": [],
   "source": [
    "from sklearn.model_selection import GridSearchCV\n",
    "k_range = list(range(1, 31))\n",
    "param_grid = dict(n_neighbors=k_range)\n",
    "  \n"
   ]
  },
  {
   "cell_type": "code",
   "execution_count": 75,
   "metadata": {},
   "outputs": [],
   "source": [
    "# defining parameter range\n",
    "grid = GridSearchCV(knn, param_grid,verbose=3)\n"
   ]
  },
  {
   "cell_type": "code",
   "execution_count": 76,
   "metadata": {},
   "outputs": [],
   "source": [
    "#n = grid.fit(x_train_s,y_train)"
   ]
  },
  {
   "cell_type": "code",
   "execution_count": 77,
   "metadata": {},
   "outputs": [
    {
     "ename": "NameError",
     "evalue": "name 'n' is not defined",
     "output_type": "error",
     "traceback": [
      "\u001b[1;31m---------------------------------------------------------------------------\u001b[0m",
      "\u001b[1;31mNameError\u001b[0m                                 Traceback (most recent call last)",
      "\u001b[1;32m<ipython-input-77-3ac0fc477acb>\u001b[0m in \u001b[0;36m<module>\u001b[1;34m\u001b[0m\n\u001b[1;32m----> 1\u001b[1;33m \u001b[0mn\u001b[0m\u001b[1;33m.\u001b[0m\u001b[0mbest_params_\u001b[0m\u001b[1;33m\u001b[0m\u001b[1;33m\u001b[0m\u001b[0m\n\u001b[0m",
      "\u001b[1;31mNameError\u001b[0m: name 'n' is not defined"
     ]
    }
   ],
   "source": [
    "n.best_params_"
   ]
  },
  {
   "cell_type": "code",
   "execution_count": 78,
   "metadata": {},
   "outputs": [],
   "source": [
    "from sklearn import metrics"
   ]
  },
  {
   "cell_type": "code",
   "execution_count": 79,
   "metadata": {},
   "outputs": [
    {
     "data": {
      "text/plain": [
       "<function sklearn.metrics.regression.explained_variance_score(y_true, y_pred, sample_weight=None, multioutput='uniform_average')>"
      ]
     },
     "execution_count": 79,
     "metadata": {},
     "output_type": "execute_result"
    }
   ],
   "source": [
    "metrics.explained_variance_score"
   ]
  },
  {
   "cell_type": "code",
   "execution_count": 80,
   "metadata": {},
   "outputs": [],
   "source": [
    "from sklearn.metrics import mean_absolute_error,mean_squared_error"
   ]
  },
  {
   "cell_type": "code",
   "execution_count": 81,
   "metadata": {},
   "outputs": [
    {
     "name": "stdout",
     "output_type": "stream",
     "text": [
      "\n",
      " 89359.28728458314 \n",
      " 26297172172.947815 \n",
      " 162164.02860359574\n"
     ]
    }
   ],
   "source": [
    "mae = mean_absolute_error(y_test,pred)\n",
    "mse = mean_squared_error(y_test,pred)\n",
    "rmse = np.sqrt(mean_squared_error(y_test,pred))\n",
    "\n",
    "print('\\n',mae,'\\n',mse,'\\n',rmse)"
   ]
  },
  {
   "cell_type": "code",
   "execution_count": null,
   "metadata": {},
   "outputs": [],
   "source": [
    "Error =[]\n",
    "for i in range(1,40):\n",
    "    knn = KNeighborsRegressor(n_neighbors=i)\n",
    "    knn.fit(x_train_s,y_train)\n",
    "    pred_i = knn.predict(x_test_s)\n",
    "    Error.append(np.mean(pred_i!=y_test))"
   ]
  },
  {
   "cell_type": "code",
   "execution_count": null,
   "metadata": {},
   "outputs": [],
   "source": [
    "plt.plot(range(1,40),Error)"
   ]
  },
  {
   "cell_type": "code",
   "execution_count": 82,
   "metadata": {},
   "outputs": [],
   "source": [
    "lr = LinearRegression(n_jobs=1)"
   ]
  },
  {
   "cell_type": "code",
   "execution_count": 83,
   "metadata": {},
   "outputs": [
    {
     "data": {
      "text/plain": [
       "LinearRegression(copy_X=True, fit_intercept=True, n_jobs=1, normalize=False)"
      ]
     },
     "execution_count": 83,
     "metadata": {},
     "output_type": "execute_result"
    }
   ],
   "source": [
    "lr.fit(x_train_s,y_train)"
   ]
  },
  {
   "cell_type": "code",
   "execution_count": 84,
   "metadata": {},
   "outputs": [],
   "source": [
    "pred_ir = lr.predict(x_test_s)"
   ]
  },
  {
   "cell_type": "code",
   "execution_count": 85,
   "metadata": {},
   "outputs": [
    {
     "data": {
      "text/plain": [
       "<AxesSubplot:xlabel='price'>"
      ]
     },
     "execution_count": 85,
     "metadata": {},
     "output_type": "execute_result"
    },
    {
     "data": {
      "image/png": "[encoded data removed]",
      "text/plain": [
       "<Figure size 432x288 with 1 Axes>"
      ]
     },
     "metadata": {},
     "output_type": "display_data"
    }
   ],
   "source": [
    "sns.distplot(y_test-pred_ir)"
   ]
  },
  {
   "cell_type": "code",
   "execution_count": 86,
   "metadata": {},
   "outputs": [
    {
     "name": "stdout",
     "output_type": "stream",
     "text": [
      "\n",
      " 126786.86982503379 \n",
      " 37468574996.101364 \n",
      " 193568.01129345046\n"
     ]
    }
   ],
   "source": [
    "mae = mean_absolute_error(y_test,pred_ir)\n",
    "mse = mean_squared_error(y_test,pred_ir)\n",
    "rmse = np.sqrt(mean_squared_error(y_test,pred_ir))\n",
    "\n",
    "print('\\n',mae,'\\n',mse,'\\n',rmse)"
   ]
  },
  {
   "cell_type": "code",
   "execution_count": 87,
   "metadata": {},
   "outputs": [],
   "source": [
    "from sklearn.model_selection import GridSearchCV\n",
    "k_range = list(range(1, 31))\n",
    "param_grid = dict(n_jobs=k_range)\n",
    "  "
   ]
  },
  {
   "cell_type": "code",
   "execution_count": 88,
   "metadata": {},
   "outputs": [],
   "source": [
    "# defining parameter range\n",
    "grid = GridSearchCV(lr, param_grid,verbose=3)\n"
   ]
  },
  {
   "cell_type": "code",
   "execution_count": 89,
   "metadata": {},
   "outputs": [
    {
     "name": "stderr",
     "output_type": "stream",
     "text": [
      "C:\\Users\\hp\\Anaconda3\\lib\\site-packages\\sklearn\\model_selection\\_split.py:1978: FutureWarning: The default value of cv will change from 3 to 5 in version 0.22. Specify it explicitly to silence this warning.\n",
      "  warnings.warn(CV_WARNING, FutureWarning)\n",
      "C:\\Users\\hp\\Anaconda3\\lib\\site-packages\\sklearn\\model_selection\\_split.py:442: DeprecationWarning: `np.int` is a deprecated alias for the builtin `int`. To silence this warning, use `int` by itself. Doing this will not modify any behavior and is safe. When replacing `np.int`, you may wish to use e.g. `np.int64` or `np.int32` to specify the precision. If you wish to review your current use, check the release note link for additional information.\n",
      "Deprecated in NumPy 1.20; for more details and guidance: https://numpy.org/devdocs/release/1.20.0-notes.html#deprecations\n",
      "  fold_sizes = np.full(n_splits, n_samples // n_splits, dtype=np.int)\n",
      "C:\\Users\\hp\\Anaconda3\\lib\\site-packages\\sklearn\\model_selection\\_split.py:102: DeprecationWarning: `np.bool` is a deprecated alias for the builtin `bool`. To silence this warning, use `bool` by itself. Doing this will not modify any behavior and is safe. If you specifically wanted the numpy scalar type, use `np.bool_` here.\n",
      "Deprecated in NumPy 1.20; for more details and guidance: https://numpy.org/devdocs/release/1.20.0-notes.html#deprecations\n",
      "  test_mask = np.zeros(_num_samples(X), dtype=np.bool)\n",
      "C:\\Users\\hp\\Anaconda3\\lib\\site-packages\\sklearn\\model_selection\\_split.py:102: DeprecationWarning: `np.bool` is a deprecated alias for the builtin `bool`. To silence this warning, use `bool` by itself. Doing this will not modify any behavior and is safe. If you specifically wanted the numpy scalar type, use `np.bool_` here.\n",
      "Deprecated in NumPy 1.20; for more details and guidance: https://numpy.org/devdocs/release/1.20.0-notes.html#deprecations\n",
      "  test_mask = np.zeros(_num_samples(X), dtype=np.bool)\n",
      "C:\\Users\\hp\\Anaconda3\\lib\\site-packages\\sklearn\\model_selection\\_split.py:102: DeprecationWarning: `np.bool` is a deprecated alias for the builtin `bool`. To silence this warning, use `bool` by itself. Doing this will not modify any behavior and is safe. If you specifically wanted the numpy scalar type, use `np.bool_` here.\n",
      "Deprecated in NumPy 1.20; for more details and guidance: https://numpy.org/devdocs/release/1.20.0-notes.html#deprecations\n",
      "  test_mask = np.zeros(_num_samples(X), dtype=np.bool)\n",
      "[Parallel(n_jobs=1)]: Using backend SequentialBackend with 1 concurrent workers.\n",
      "[Parallel(n_jobs=1)]: Done   1 out of   1 | elapsed:    0.0s remaining:    0.0s\n",
      "[Parallel(n_jobs=1)]: Done   2 out of   2 | elapsed:    0.0s remaining:    0.0s\n"
     ]
    },
    {
     "name": "stdout",
     "output_type": "stream",
     "text": [
      "Fitting 3 folds for each of 30 candidates, totalling 90 fits\n",
      "[CV] n_jobs=1 ........................................................\n",
      "[CV] ............................ n_jobs=1, score=0.690, total=   0.1s\n",
      "[CV] n_jobs=1 ........................................................\n",
      "[CV] ............................ n_jobs=1, score=0.693, total=   0.0s\n",
      "[CV] n_jobs=1 ........................................................\n",
      "[CV] ............................ n_jobs=1, score=0.701, total=   0.0s\n",
      "[CV] n_jobs=2 ........................................................\n",
      "[CV] ............................ n_jobs=2, score=0.690, total=   0.0s\n",
      "[CV] n_jobs=2 ........................................................\n",
      "[CV] ............................ n_jobs=2, score=0.693, total=   0.0s\n",
      "[CV] n_jobs=2 ........................................................\n",
      "[CV] ............................ n_jobs=2, score=0.701, total=   0.0s\n",
      "[CV] n_jobs=3 ........................................................\n",
      "[CV] ............................ n_jobs=3, score=0.690, total=   0.0s\n",
      "[CV] n_jobs=3 ........................................................\n",
      "[CV] ............................ n_jobs=3, score=0.693, total=   0.0s\n",
      "[CV] n_jobs=3 ........................................................\n",
      "[CV] ............................ n_jobs=3, score=0.701, total=   0.0s\n",
      "[CV] n_jobs=4 ........................................................\n",
      "[CV] ............................ n_jobs=4, score=0.690, total=   0.0s\n",
      "[CV] n_jobs=4 ........................................................\n",
      "[CV] ............................ n_jobs=4, score=0.693, total=   0.0s\n",
      "[CV] n_jobs=4 ........................................................\n",
      "[CV] ............................ n_jobs=4, score=0.701, total=   0.0s\n",
      "[CV] n_jobs=5 ........................................................\n",
      "[CV] ............................ n_jobs=5, score=0.690, total=   0.0s\n",
      "[CV] n_jobs=5 ........................................................\n",
      "[CV] ............................ n_jobs=5, score=0.693, total=   0.0s\n",
      "[CV] n_jobs=5 ........................................................\n",
      "[CV] ............................ n_jobs=5, score=0.701, total=   0.0s\n",
      "[CV] n_jobs=6 ........................................................\n",
      "[CV] ............................ n_jobs=6, score=0.690, total=   0.0s\n",
      "[CV] n_jobs=6 ........................................................\n",
      "[CV] ............................ n_jobs=6, score=0.693, total=   0.0s\n",
      "[CV] n_jobs=6 ........................................................\n",
      "[CV] ............................ n_jobs=6, score=0.701, total=   0.0s\n",
      "[CV] n_jobs=7 ........................................................\n",
      "[CV] ............................ n_jobs=7, score=0.690, total=   0.0s\n",
      "[CV] n_jobs=7 ........................................................\n",
      "[CV] ............................ n_jobs=7, score=0.693, total=   0.0s\n",
      "[CV] n_jobs=7 ........................................................\n",
      "[CV] ............................ n_jobs=7, score=0.701, total=   0.0s\n",
      "[CV] n_jobs=8 ........................................................\n",
      "[CV] ............................ n_jobs=8, score=0.690, total=   0.0s\n",
      "[CV] n_jobs=8 ........................................................\n",
      "[CV] ............................ n_jobs=8, score=0.693, total=   0.0s\n",
      "[CV] n_jobs=8 ........................................................\n",
      "[CV] ............................ n_jobs=8, score=0.701, total=   0.0s\n",
      "[CV] n_jobs=9 ........................................................\n",
      "[CV] ............................ n_jobs=9, score=0.690, total=   0.0s\n",
      "[CV] n_jobs=9 ........................................................\n",
      "[CV] ............................ n_jobs=9, score=0.693, total=   0.0s\n",
      "[CV] n_jobs=9 ........................................................\n",
      "[CV] ............................ n_jobs=9, score=0.701, total=   0.0s\n",
      "[CV] n_jobs=10 .......................................................\n",
      "[CV] ........................... n_jobs=10, score=0.690, total=   0.0s\n",
      "[CV] n_jobs=10 .......................................................\n",
      "[CV] ........................... n_jobs=10, score=0.693, total=   0.0s\n",
      "[CV] n_jobs=10 .......................................................\n",
      "[CV] ........................... n_jobs=10, score=0.701, total=   0.0s\n",
      "[CV] n_jobs=11 .......................................................\n",
      "[CV] ........................... n_jobs=11, score=0.690, total=   0.0s\n",
      "[CV] n_jobs=11 .......................................................\n",
      "[CV] ........................... n_jobs=11, score=0.693, total=   0.0s\n",
      "[CV] n_jobs=11 .......................................................\n",
      "[CV] ........................... n_jobs=11, score=0.701, total=   0.0s\n",
      "[CV] n_jobs=12 .......................................................\n",
      "[CV] ........................... n_jobs=12, score=0.690, total=   0.0s\n",
      "[CV] n_jobs=12 .......................................................\n",
      "[CV] ........................... n_jobs=12, score=0.693, total=   0.0s\n",
      "[CV] n_jobs=12 .......................................................\n",
      "[CV] ........................... n_jobs=12, score=0.701, total=   0.0s\n",
      "[CV] n_jobs=13 .......................................................\n",
      "[CV] ........................... n_jobs=13, score=0.690, total=   0.0s\n",
      "[CV] n_jobs=13 .......................................................\n",
      "[CV] ........................... n_jobs=13, score=0.693, total=   0.0s\n",
      "[CV] n_jobs=13 .......................................................\n",
      "[CV] ........................... n_jobs=13, score=0.701, total=   0.0s\n",
      "[CV] n_jobs=14 .......................................................\n",
      "[CV] ........................... n_jobs=14, score=0.690, total=   0.0s\n",
      "[CV] n_jobs=14 .......................................................\n",
      "[CV] ........................... n_jobs=14, score=0.693, total=   0.0s\n",
      "[CV] n_jobs=14 .......................................................\n",
      "[CV] ........................... n_jobs=14, score=0.701, total=   0.0s\n",
      "[CV] n_jobs=15 .......................................................\n",
      "[CV] ........................... n_jobs=15, score=0.690, total=   0.0s\n",
      "[CV] n_jobs=15 .......................................................\n",
      "[CV] ........................... n_jobs=15, score=0.693, total=   0.0s\n",
      "[CV] n_jobs=15 .......................................................\n",
      "[CV] ........................... n_jobs=15, score=0.701, total=   0.0s\n",
      "[CV] n_jobs=16 .......................................................\n",
      "[CV] ........................... n_jobs=16, score=0.690, total=   0.0s\n",
      "[CV] n_jobs=16 .......................................................\n",
      "[CV] ........................... n_jobs=16, score=0.693, total=   0.0s\n",
      "[CV] n_jobs=16 .......................................................\n",
      "[CV] ........................... n_jobs=16, score=0.701, total=   0.0s\n",
      "[CV] n_jobs=17 .......................................................\n",
      "[CV] ........................... n_jobs=17, score=0.690, total=   0.0s\n",
      "[CV] n_jobs=17 .......................................................\n",
      "[CV] ........................... n_jobs=17, score=0.693, total=   0.0s\n",
      "[CV] n_jobs=17 .......................................................\n",
      "[CV] ........................... n_jobs=17, score=0.701, total=   0.0s\n",
      "[CV] n_jobs=18 .......................................................\n",
      "[CV] ........................... n_jobs=18, score=0.690, total=   0.0s\n",
      "[CV] n_jobs=18 .......................................................\n",
      "[CV] ........................... n_jobs=18, score=0.693, total=   0.0s\n",
      "[CV] n_jobs=18 .......................................................\n",
      "[CV] ........................... n_jobs=18, score=0.701, total=   0.0s\n",
      "[CV] n_jobs=19 .......................................................\n",
      "[CV] ........................... n_jobs=19, score=0.690, total=   0.0s\n",
      "[CV] n_jobs=19 .......................................................\n",
      "[CV] ........................... n_jobs=19, score=0.693, total=   0.0s\n",
      "[CV] n_jobs=19 .......................................................\n",
      "[CV] ........................... n_jobs=19, score=0.701, total=   0.0s\n",
      "[CV] n_jobs=20 .......................................................\n",
      "[CV] ........................... n_jobs=20, score=0.690, total=   0.0s\n",
      "[CV] n_jobs=20 .......................................................\n",
      "[CV] ........................... n_jobs=20, score=0.693, total=   0.0s\n",
      "[CV] n_jobs=20 .......................................................\n",
      "[CV] ........................... n_jobs=20, score=0.701, total=   0.0s\n",
      "[CV] n_jobs=21 .......................................................\n",
      "[CV] ........................... n_jobs=21, score=0.690, total=   0.0s\n",
      "[CV] n_jobs=21 .......................................................\n",
      "[CV] ........................... n_jobs=21, score=0.693, total=   0.0s\n",
      "[CV] n_jobs=21 .......................................................\n",
      "[CV] ........................... n_jobs=21, score=0.701, total=   0.0s\n",
      "[CV] n_jobs=22 .......................................................\n",
      "[CV] ........................... n_jobs=22, score=0.690, total=   0.0s\n",
      "[CV] n_jobs=22 .......................................................\n",
      "[CV] ........................... n_jobs=22, score=0.693, total=   0.0s\n",
      "[CV] n_jobs=22 .......................................................\n",
      "[CV] ........................... n_jobs=22, score=0.701, total=   0.0s\n",
      "[CV] n_jobs=23 .......................................................\n",
      "[CV] ........................... n_jobs=23, score=0.690, total=   0.0s\n",
      "[CV] n_jobs=23 .......................................................\n",
      "[CV] ........................... n_jobs=23, score=0.693, total=   0.0s\n",
      "[CV] n_jobs=23 .......................................................\n",
      "[CV] ........................... n_jobs=23, score=0.701, total=   0.0s\n",
      "[CV] n_jobs=24 .......................................................\n",
      "[CV] ........................... n_jobs=24, score=0.690, total=   0.0s\n",
      "[CV] n_jobs=24 .......................................................\n",
      "[CV] ........................... n_jobs=24, score=0.693, total=   0.0s\n",
      "[CV] n_jobs=24 .......................................................\n",
      "[CV] ........................... n_jobs=24, score=0.701, total=   0.0s\n",
      "[CV] n_jobs=25 .......................................................\n",
      "[CV] ........................... n_jobs=25, score=0.690, total=   0.0s\n",
      "[CV] n_jobs=25 .......................................................\n",
      "[CV] ........................... n_jobs=25, score=0.693, total=   0.0s\n",
      "[CV] n_jobs=25 .......................................................\n",
      "[CV] ........................... n_jobs=25, score=0.701, total=   0.0s\n",
      "[CV] n_jobs=26 .......................................................\n",
      "[CV] ........................... n_jobs=26, score=0.690, total=   0.0s\n",
      "[CV] n_jobs=26 .......................................................\n",
      "[CV] ........................... n_jobs=26, score=0.693, total=   0.0s\n",
      "[CV] n_jobs=26 .......................................................\n",
      "[CV] ........................... n_jobs=26, score=0.701, total=   0.0s\n",
      "[CV] n_jobs=27 .......................................................\n",
      "[CV] ........................... n_jobs=27, score=0.690, total=   0.0s\n",
      "[CV] n_jobs=27 .......................................................\n",
      "[CV] ........................... n_jobs=27, score=0.693, total=   0.0s\n",
      "[CV] n_jobs=27 .......................................................\n",
      "[CV] ........................... n_jobs=27, score=0.701, total=   0.0s\n",
      "[CV] n_jobs=28 .......................................................\n",
      "[CV] ........................... n_jobs=28, score=0.690, total=   0.0s\n",
      "[CV] n_jobs=28 .......................................................\n",
      "[CV] ........................... n_jobs=28, score=0.693, total=   0.0s\n",
      "[CV] n_jobs=28 .......................................................\n",
      "[CV] ........................... n_jobs=28, score=0.701, total=   0.0s\n",
      "[CV] n_jobs=29 .......................................................\n",
      "[CV] ........................... n_jobs=29, score=0.690, total=   0.0s\n",
      "[CV] n_jobs=29 .......................................................\n",
      "[CV] ........................... n_jobs=29, score=0.693, total=   0.0s\n",
      "[CV] n_jobs=29 .......................................................\n",
      "[CV] ........................... n_jobs=29, score=0.701, total=   0.0s\n",
      "[CV] n_jobs=30 .......................................................\n",
      "[CV] ........................... n_jobs=30, score=0.690, total=   0.0s\n",
      "[CV] n_jobs=30 .......................................................\n",
      "[CV] ........................... n_jobs=30, score=0.693, total=   0.0s\n",
      "[CV] n_jobs=30 .......................................................\n",
      "[CV] ........................... n_jobs=30, score=0.701, total=   0.0s\n"
     ]
    },
    {
     "name": "stderr",
     "output_type": "stream",
     "text": [
      "[Parallel(n_jobs=1)]: Done  90 out of  90 | elapsed:    1.5s finished\n",
      "C:\\Users\\hp\\Anaconda3\\lib\\site-packages\\sklearn\\model_selection\\_search.py:794: DeprecationWarning: `np.int` is a deprecated alias for the builtin `int`. To silence this warning, use `int` by itself. Doing this will not modify any behavior and is safe. When replacing `np.int`, you may wish to use e.g. `np.int64` or `np.int32` to specify the precision. If you wish to review your current use, check the release note link for additional information.\n",
      "Deprecated in NumPy 1.20; for more details and guidance: https://numpy.org/devdocs/release/1.20.0-notes.html#deprecations\n",
      "  dtype=np.int)\n"
     ]
    },
    {
     "data": {
      "text/plain": [
       "GridSearchCV(cv='warn', error_score='raise-deprecating',\n",
       "             estimator=LinearRegression(copy_X=True, fit_intercept=True,\n",
       "                                        n_jobs=1, normalize=False),\n",
       "             iid='warn', n_jobs=None,\n",
       "             param_grid={'n_jobs': [1, 2, 3, 4, 5, 6, 7, 8, 9, 10, 11, 12, 13,\n",
       "                                    14, 15, 16, 17, 18, 19, 20, 21, 22, 23, 24,\n",
       "                                    25, 26, 27, 28, 29, 30]},\n",
       "             pre_dispatch='2*n_jobs', refit=True, return_train_score=False,\n",
       "             scoring=None, verbose=3)"
      ]
     },
     "execution_count": 89,
     "metadata": {},
     "output_type": "execute_result"
    }
   ],
   "source": [
    "grid.fit(x_train_s,y_train)"
   ]
  },
  {
   "cell_type": "code",
   "execution_count": 90,
   "metadata": {},
   "outputs": [
    {
     "data": {
      "text/plain": [
       "LinearRegression(copy_X=True, fit_intercept=True, n_jobs=1, normalize=False)"
      ]
     },
     "execution_count": 90,
     "metadata": {},
     "output_type": "execute_result"
    }
   ],
   "source": [
    "grid.best_estimator_"
   ]
  },
  {
   "cell_type": "code",
   "execution_count": 91,
   "metadata": {},
   "outputs": [
    {
     "name": "stdout",
     "output_type": "stream",
     "text": [
      "0.6975915959306478\n",
      "0.7078752233275137\n"
     ]
    }
   ],
   "source": [
    "print(lr.score(x_train_s,y_train))\n",
    "print(lr.score(x_test_s,y_test))"
   ]
  },
  {
   "cell_type": "code",
   "execution_count": 92,
   "metadata": {},
   "outputs": [
    {
     "data": {
      "text/plain": [
       "538756.8009568481"
      ]
     },
     "execution_count": 92,
     "metadata": {},
     "output_type": "execute_result"
    }
   ],
   "source": [
    "lr.intercept_"
   ]
  },
  {
   "cell_type": "code",
   "execution_count": 93,
   "metadata": {},
   "outputs": [],
   "source": [
    "dc = pd.DataFrame(lr.coef_,columns=['co'], index=x_train.columns)"
   ]
  },
  {
   "cell_type": "code",
   "execution_count": 94,
   "metadata": {},
   "outputs": [
    {
     "data": {
      "text/html": [
       "<div>\n",
       "<style scoped>\n",
       "    .dataframe tbody tr th:only-of-type {\n",
       "        vertical-align: middle;\n",
       "    }\n",
       "\n",
       "    .dataframe tbody tr th {\n",
       "        vertical-align: top;\n",
       "    }\n",
       "\n",
       "    .dataframe thead th {\n",
       "        text-align: right;\n",
       "    }\n",
       "</style>\n",
       "<table border=\"1\" class=\"dataframe\">\n",
       "  <thead>\n",
       "    <tr style=\"text-align: right;\">\n",
       "      <th></th>\n",
       "      <th>co</th>\n",
       "    </tr>\n",
       "  </thead>\n",
       "  <tbody>\n",
       "    <tr>\n",
       "      <th>sqft_above</th>\n",
       "      <td>1.082929e+18</td>\n",
       "    </tr>\n",
       "    <tr>\n",
       "      <th>sqft_basement</th>\n",
       "      <td>5.837387e+17</td>\n",
       "    </tr>\n",
       "    <tr>\n",
       "      <th>grade</th>\n",
       "      <td>1.098437e+05</td>\n",
       "    </tr>\n",
       "    <tr>\n",
       "      <th>lat</th>\n",
       "      <td>8.356111e+04</td>\n",
       "    </tr>\n",
       "    <tr>\n",
       "      <th>waterfront</th>\n",
       "      <td>5.201516e+04</td>\n",
       "    </tr>\n",
       "    <tr>\n",
       "      <th>view</th>\n",
       "      <td>3.884868e+04</td>\n",
       "    </tr>\n",
       "    <tr>\n",
       "      <th>bathrooms</th>\n",
       "      <td>3.334316e+04</td>\n",
       "    </tr>\n",
       "    <tr>\n",
       "      <th>condition</th>\n",
       "      <td>1.780842e+04</td>\n",
       "    </tr>\n",
       "    <tr>\n",
       "      <th>sqft_living15</th>\n",
       "      <td>1.272643e+04</td>\n",
       "    </tr>\n",
       "    <tr>\n",
       "      <th>yr_renovated</th>\n",
       "      <td>7.405453e+03</td>\n",
       "    </tr>\n",
       "    <tr>\n",
       "      <th>sqft_lot</th>\n",
       "      <td>4.807740e+03</td>\n",
       "    </tr>\n",
       "    <tr>\n",
       "      <th>floors</th>\n",
       "      <td>1.968145e+03</td>\n",
       "    </tr>\n",
       "    <tr>\n",
       "      <th>sqft_lot15</th>\n",
       "      <td>-1.099057e+04</td>\n",
       "    </tr>\n",
       "    <tr>\n",
       "      <th>zipcode</th>\n",
       "      <td>-3.259686e+04</td>\n",
       "    </tr>\n",
       "    <tr>\n",
       "      <th>long</th>\n",
       "      <td>-3.270144e+04</td>\n",
       "    </tr>\n",
       "    <tr>\n",
       "      <th>bedrooms</th>\n",
       "      <td>-3.295283e+04</td>\n",
       "    </tr>\n",
       "    <tr>\n",
       "      <th>yr_built</th>\n",
       "      <td>-7.736830e+04</td>\n",
       "    </tr>\n",
       "    <tr>\n",
       "      <th>sqft_living</th>\n",
       "      <td>-1.205327e+18</td>\n",
       "    </tr>\n",
       "  </tbody>\n",
       "</table>\n",
       "</div>"
      ],
      "text/plain": [
       "                         co\n",
       "sqft_above     1.082929e+18\n",
       "sqft_basement  5.837387e+17\n",
       "grade          1.098437e+05\n",
       "lat            8.356111e+04\n",
       "waterfront     5.201516e+04\n",
       "view           3.884868e+04\n",
       "bathrooms      3.334316e+04\n",
       "condition      1.780842e+04\n",
       "sqft_living15  1.272643e+04\n",
       "yr_renovated   7.405453e+03\n",
       "sqft_lot       4.807740e+03\n",
       "floors         1.968145e+03\n",
       "sqft_lot15    -1.099057e+04\n",
       "zipcode       -3.259686e+04\n",
       "long          -3.270144e+04\n",
       "bedrooms      -3.295283e+04\n",
       "yr_built      -7.736830e+04\n",
       "sqft_living   -1.205327e+18"
      ]
     },
     "execution_count": 94,
     "metadata": {},
     "output_type": "execute_result"
    }
   ],
   "source": [
    "dc.sort_values(by='co',ascending=False)"
   ]
  },
  {
   "cell_type": "code",
   "execution_count": 95,
   "metadata": {},
   "outputs": [],
   "source": [
    "x = pd.DataFrame({'ACtual':y_test,'Pred':(pred_ir)})"
   ]
  },
  {
   "cell_type": "code",
   "execution_count": 99,
   "metadata": {},
   "outputs": [
    {
     "ename": "ValueError",
     "evalue": "x and y must be the same size",
     "output_type": "error",
     "traceback": [
      "\u001b[1;31m---------------------------------------------------------------------------\u001b[0m",
      "\u001b[1;31mValueError\u001b[0m                                Traceback (most recent call last)",
      "\u001b[1;32m<ipython-input-99-8f88a1e5568a>\u001b[0m in \u001b[0;36m<module>\u001b[1;34m\u001b[0m\n\u001b[1;32m----> 1\u001b[1;33m \u001b[0mplt\u001b[0m\u001b[1;33m.\u001b[0m\u001b[0mscatter\u001b[0m\u001b[1;33m(\u001b[0m\u001b[0mx_test_s\u001b[0m\u001b[1;33m,\u001b[0m \u001b[0mpred_ir\u001b[0m\u001b[1;33m,\u001b[0m \u001b[0mcolor\u001b[0m\u001b[1;33m=\u001b[0m\u001b[1;34m'red'\u001b[0m\u001b[1;33m)\u001b[0m\u001b[1;33m\u001b[0m\u001b[1;33m\u001b[0m\u001b[0m\n\u001b[0m\u001b[0;32m      2\u001b[0m \u001b[0mplt\u001b[0m\u001b[1;33m.\u001b[0m\u001b[0mplot\u001b[0m\u001b[1;33m(\u001b[0m\u001b[0mx_test_s\u001b[0m\u001b[1;33m,\u001b[0m\u001b[0my_test\u001b[0m\u001b[1;33m)\u001b[0m\u001b[1;33m\u001b[0m\u001b[1;33m\u001b[0m\u001b[0m\n",
      "\u001b[1;32m~\\Anaconda3\\lib\\site-packages\\matplotlib\\pyplot.py\u001b[0m in \u001b[0;36mscatter\u001b[1;34m(x, y, s, c, marker, cmap, norm, vmin, vmax, alpha, linewidths, edgecolors, plotnonfinite, data, **kwargs)\u001b[0m\n\u001b[0;32m   2809\u001b[0m         \u001b[0mvmin\u001b[0m\u001b[1;33m=\u001b[0m\u001b[0mvmin\u001b[0m\u001b[1;33m,\u001b[0m \u001b[0mvmax\u001b[0m\u001b[1;33m=\u001b[0m\u001b[0mvmax\u001b[0m\u001b[1;33m,\u001b[0m \u001b[0malpha\u001b[0m\u001b[1;33m=\u001b[0m\u001b[0malpha\u001b[0m\u001b[1;33m,\u001b[0m \u001b[0mlinewidths\u001b[0m\u001b[1;33m=\u001b[0m\u001b[0mlinewidths\u001b[0m\u001b[1;33m,\u001b[0m\u001b[1;33m\u001b[0m\u001b[1;33m\u001b[0m\u001b[0m\n\u001b[0;32m   2810\u001b[0m         \u001b[0medgecolors\u001b[0m\u001b[1;33m=\u001b[0m\u001b[0medgecolors\u001b[0m\u001b[1;33m,\u001b[0m \u001b[0mplotnonfinite\u001b[0m\u001b[1;33m=\u001b[0m\u001b[0mplotnonfinite\u001b[0m\u001b[1;33m,\u001b[0m\u001b[1;33m\u001b[0m\u001b[1;33m\u001b[0m\u001b[0m\n\u001b[1;32m-> 2811\u001b[1;33m         **({\"data\": data} if data is not None else {}), **kwargs)\n\u001b[0m\u001b[0;32m   2812\u001b[0m     \u001b[0msci\u001b[0m\u001b[1;33m(\u001b[0m\u001b[0m__ret\u001b[0m\u001b[1;33m)\u001b[0m\u001b[1;33m\u001b[0m\u001b[1;33m\u001b[0m\u001b[0m\n\u001b[0;32m   2813\u001b[0m     \u001b[1;32mreturn\u001b[0m \u001b[0m__ret\u001b[0m\u001b[1;33m\u001b[0m\u001b[1;33m\u001b[0m\u001b[0m\n",
      "\u001b[1;32m~\\Anaconda3\\lib\\site-packages\\matplotlib\\__init__.py\u001b[0m in \u001b[0;36minner\u001b[1;34m(ax, data, *args, **kwargs)\u001b[0m\n\u001b[0;32m   1410\u001b[0m     \u001b[1;32mdef\u001b[0m \u001b[0minner\u001b[0m\u001b[1;33m(\u001b[0m\u001b[0max\u001b[0m\u001b[1;33m,\u001b[0m \u001b[1;33m*\u001b[0m\u001b[0margs\u001b[0m\u001b[1;33m,\u001b[0m \u001b[0mdata\u001b[0m\u001b[1;33m=\u001b[0m\u001b[1;32mNone\u001b[0m\u001b[1;33m,\u001b[0m \u001b[1;33m**\u001b[0m\u001b[0mkwargs\u001b[0m\u001b[1;33m)\u001b[0m\u001b[1;33m:\u001b[0m\u001b[1;33m\u001b[0m\u001b[1;33m\u001b[0m\u001b[0m\n\u001b[0;32m   1411\u001b[0m         \u001b[1;32mif\u001b[0m \u001b[0mdata\u001b[0m \u001b[1;32mis\u001b[0m \u001b[1;32mNone\u001b[0m\u001b[1;33m:\u001b[0m\u001b[1;33m\u001b[0m\u001b[1;33m\u001b[0m\u001b[0m\n\u001b[1;32m-> 1412\u001b[1;33m             \u001b[1;32mreturn\u001b[0m \u001b[0mfunc\u001b[0m\u001b[1;33m(\u001b[0m\u001b[0max\u001b[0m\u001b[1;33m,\u001b[0m \u001b[1;33m*\u001b[0m\u001b[0mmap\u001b[0m\u001b[1;33m(\u001b[0m\u001b[0msanitize_sequence\u001b[0m\u001b[1;33m,\u001b[0m \u001b[0margs\u001b[0m\u001b[1;33m)\u001b[0m\u001b[1;33m,\u001b[0m \u001b[1;33m**\u001b[0m\u001b[0mkwargs\u001b[0m\u001b[1;33m)\u001b[0m\u001b[1;33m\u001b[0m\u001b[1;33m\u001b[0m\u001b[0m\n\u001b[0m\u001b[0;32m   1413\u001b[0m \u001b[1;33m\u001b[0m\u001b[0m\n\u001b[0;32m   1414\u001b[0m         \u001b[0mbound\u001b[0m \u001b[1;33m=\u001b[0m \u001b[0mnew_sig\u001b[0m\u001b[1;33m.\u001b[0m\u001b[0mbind\u001b[0m\u001b[1;33m(\u001b[0m\u001b[0max\u001b[0m\u001b[1;33m,\u001b[0m \u001b[1;33m*\u001b[0m\u001b[0margs\u001b[0m\u001b[1;33m,\u001b[0m \u001b[1;33m**\u001b[0m\u001b[0mkwargs\u001b[0m\u001b[1;33m)\u001b[0m\u001b[1;33m\u001b[0m\u001b[1;33m\u001b[0m\u001b[0m\n",
      "\u001b[1;32m~\\Anaconda3\\lib\\site-packages\\matplotlib\\axes\\_axes.py\u001b[0m in \u001b[0;36mscatter\u001b[1;34m(self, x, y, s, c, marker, cmap, norm, vmin, vmax, alpha, linewidths, edgecolors, plotnonfinite, **kwargs)\u001b[0m\n\u001b[0;32m   4367\u001b[0m         \u001b[0my\u001b[0m \u001b[1;33m=\u001b[0m \u001b[0mnp\u001b[0m\u001b[1;33m.\u001b[0m\u001b[0mma\u001b[0m\u001b[1;33m.\u001b[0m\u001b[0mravel\u001b[0m\u001b[1;33m(\u001b[0m\u001b[0my\u001b[0m\u001b[1;33m)\u001b[0m\u001b[1;33m\u001b[0m\u001b[1;33m\u001b[0m\u001b[0m\n\u001b[0;32m   4368\u001b[0m         \u001b[1;32mif\u001b[0m \u001b[0mx\u001b[0m\u001b[1;33m.\u001b[0m\u001b[0msize\u001b[0m \u001b[1;33m!=\u001b[0m \u001b[0my\u001b[0m\u001b[1;33m.\u001b[0m\u001b[0msize\u001b[0m\u001b[1;33m:\u001b[0m\u001b[1;33m\u001b[0m\u001b[1;33m\u001b[0m\u001b[0m\n\u001b[1;32m-> 4369\u001b[1;33m             \u001b[1;32mraise\u001b[0m \u001b[0mValueError\u001b[0m\u001b[1;33m(\u001b[0m\u001b[1;34m\"x and y must be the same size\"\u001b[0m\u001b[1;33m)\u001b[0m\u001b[1;33m\u001b[0m\u001b[1;33m\u001b[0m\u001b[0m\n\u001b[0m\u001b[0;32m   4370\u001b[0m \u001b[1;33m\u001b[0m\u001b[0m\n\u001b[0;32m   4371\u001b[0m         \u001b[1;32mif\u001b[0m \u001b[0ms\u001b[0m \u001b[1;32mis\u001b[0m \u001b[1;32mNone\u001b[0m\u001b[1;33m:\u001b[0m\u001b[1;33m\u001b[0m\u001b[1;33m\u001b[0m\u001b[0m\n",
      "\u001b[1;31mValueError\u001b[0m: x and y must be the same size"
     ]
    },
    {
     "data": {
      "image/png": "[encoded data removed]",
      "text/plain": [
       "<Figure size 432x288 with 1 Axes>"
      ]
     },
     "metadata": {},
     "output_type": "display_data"
    }
   ],
   "source": [
    "plt.scatter(x_test_s, pred_ir, color='red')\n",
    "plt.plot(x_test_s,y_test)"
   ]
  },
  {
   "cell_type": "code",
   "execution_count": 100,
   "metadata": {},
   "outputs": [],
   "source": [
    "##POLYNOMIAL_feature\n",
    "\n",
    "from sklearn.preprocessing import PolynomialFeatures"
   ]
  },
  {
   "cell_type": "code",
   "execution_count": 101,
   "metadata": {},
   "outputs": [],
   "source": [
    "pf = PolynomialFeatures(degree=2)"
   ]
  },
  {
   "cell_type": "code",
   "execution_count": 102,
   "metadata": {},
   "outputs": [],
   "source": [
    "x_train = pf.fit_transform(x_train_s)"
   ]
  },
  {
   "cell_type": "code",
   "execution_count": 103,
   "metadata": {},
   "outputs": [
    {
     "data": {
      "text/plain": [
       "LinearRegression(copy_X=True, fit_intercept=True, n_jobs=1, normalize=False)"
      ]
     },
     "execution_count": 103,
     "metadata": {},
     "output_type": "execute_result"
    }
   ],
   "source": [
    "lr.fit(x_train,y_train)"
   ]
  },
  {
   "cell_type": "code",
   "execution_count": 105,
   "metadata": {},
   "outputs": [
    {
     "data": {
      "text/plain": [
       "15235876475571.049"
      ]
     },
     "execution_count": 105,
     "metadata": {},
     "output_type": "execute_result"
    }
   ],
   "source": [
    "lr.intercept_"
   ]
  },
  {
   "cell_type": "code",
   "execution_count": 106,
   "metadata": {},
   "outputs": [
    {
     "data": {
      "text/plain": [
       "array([-3.66615454e+10, -3.99491578e+03,  1.43080082e+04, -2.32612834e+12,\n",
       "        1.93503706e+04, -1.16434714e+04,  1.75534456e+14,  1.47386894e+04,\n",
       "        2.42557454e+04,  8.76159914e+04,  2.08991675e+12,  1.12654223e+12,\n",
       "       -2.08789655e+04, -7.78872269e+05, -5.01974011e+04,  7.66324200e+04,\n",
       "       -5.95128277e+04,  4.22264402e+04, -1.96552369e+04,  7.91053287e+02,\n",
       "        3.03543248e+03,  2.91351354e+13,  1.52812576e+03,  1.23322899e+04,\n",
       "       -3.18330080e+03,  1.96924815e+03, -2.36907641e+03,  7.36089086e+02,\n",
       "       -2.61765456e+13, -1.41101239e+13, -7.23827647e+03, -2.18643895e+03,\n",
       "        3.26301550e+01, -3.10907812e+03,  1.00564004e+04,  7.34722778e+03,\n",
       "        2.64356836e+03, -2.14854987e+03,  3.24928014e+13, -1.21055352e+04,\n",
       "       -1.38123438e+04,  2.93154199e+03,  4.54605957e+03, -3.57056836e+03,\n",
       "        1.45208545e+04, -2.91932502e+13, -1.57362390e+13,  4.69622333e+03,\n",
       "       -6.17649805e+03, -4.75464746e+03,  6.13689600e+03, -1.01188047e+04,\n",
       "       -3.20412695e+03,  7.33294531e+03,  1.10009589e+14, -3.44297122e+12,\n",
       "        6.26103121e+13,  2.34270523e+13,  1.52230221e+14,  1.42872159e+13,\n",
       "       -2.55475719e+13, -3.85676238e+13,  1.25112204e+14,  1.69311867e+12,\n",
       "        4.91277562e+12,  6.84630296e+12, -3.91726281e+11,  2.48893174e+12,\n",
       "       -7.59251665e+12,  9.32003719e+12, -4.00000000e+02,  3.01844922e+03,\n",
       "        1.40313379e+03,  6.45048828e+01, -1.32106641e+03,  1.46933721e+04,\n",
       "        3.09334730e+12,  1.66742834e+12,  1.07442065e+04, -2.22334229e+03,\n",
       "        7.50857373e+03, -3.72692035e+03,  7.92051489e+03,  2.28560107e+03,\n",
       "        2.30851562e+02,  1.04586211e+04, -9.67604297e+03,  1.87255981e+03,\n",
       "        6.36858936e+03,  4.45501953e+02, -5.62524137e+13, -3.03221266e+13,\n",
       "        1.19375000e+01,  1.90821387e+03,  1.85685325e+04, -8.75333008e+03,\n",
       "        1.50047871e+04,  3.54064917e+03, -1.78641992e+03, -1.51992146e+13,\n",
       "        4.96364062e+03,  8.15713135e+02, -7.00977734e+03, -2.10481020e+13,\n",
       "       -1.13457036e+13,  1.58100000e+03, -3.28330811e+03, -3.62315942e+03,\n",
       "        1.51941030e+04,  1.41577524e+04,  4.29091260e+03,  5.83070642e+03,\n",
       "        2.08531250e+03,  2.03307300e+03,  6.55443750e+03, -1.36771677e+14,\n",
       "       -7.37249804e+13, -1.11409863e+03, -9.24906250e+02,  1.84525391e+03,\n",
       "       -2.90954224e+03, -3.60464355e+02,  5.98175391e+03, -4.55640430e+03,\n",
       "       -1.58974023e+03, -4.87877930e+02, -1.28363899e+13, -6.91928781e+12,\n",
       "       -5.31117871e+03, -3.00525195e+03,  4.30133789e+02, -2.76501562e+03,\n",
       "        9.30211426e+02,  1.50258760e+04, -1.09607642e+03, -3.37094531e+03,\n",
       "        2.29532889e+13,  1.23726697e+13, -4.06713672e+03,  1.16755469e+03,\n",
       "       -3.23277197e+03,  2.34865449e+04, -1.99145195e+04, -6.28182520e+03,\n",
       "       -1.17026133e+04, -5.41504771e+13, -1.89463899e+14, -1.52118730e+12,\n",
       "       -4.41389728e+12, -6.15108049e+12,  3.51947623e+11, -2.23618788e+12,\n",
       "        6.82151825e+12, -8.37361401e+12, -8.63940276e+13, -8.19976085e+11,\n",
       "       -2.37925349e+12, -3.31565933e+12,  1.89712749e+11, -1.20538777e+12,\n",
       "        3.67705005e+12, -4.51368693e+12,  1.93401045e+04,  1.31492578e+03,\n",
       "        2.01580232e+04, -2.02517979e+04,  3.14621143e+04, -3.13743184e+04,\n",
       "        7.46041797e+03,  1.74956707e+05, -6.50038086e+03, -5.65682373e+03,\n",
       "        7.62601562e+02,  7.94941406e+03, -1.57885742e+03,  8.27902454e+03,\n",
       "       -2.41884082e+03,  8.92397168e+03,  7.82747168e+03, -9.89427734e+02,\n",
       "       -4.99098306e+04, -3.05657676e+04,  5.52992090e+03, -1.10496631e+04,\n",
       "        6.01231055e+03,  6.63944336e+03,  3.30501562e+03,  8.87451562e+03,\n",
       "       -2.54150830e+03,  6.60593750e+02])"
      ]
     },
     "execution_count": 106,
     "metadata": {},
     "output_type": "execute_result"
    }
   ],
   "source": [
    "lr.coef_"
   ]
  },
  {
   "cell_type": "code",
   "execution_count": 107,
   "metadata": {},
   "outputs": [],
   "source": [
    "x_test = pf.transform(x_test_s)"
   ]
  },
  {
   "cell_type": "code",
   "execution_count": 108,
   "metadata": {},
   "outputs": [],
   "source": [
    "pred = lr.predict(x_test)"
   ]
  },
  {
   "cell_type": "code",
   "execution_count": 109,
   "metadata": {},
   "outputs": [
    {
     "data": {
      "text/plain": [
       "<AxesSubplot:xlabel='price'>"
      ]
     },
     "execution_count": 109,
     "metadata": {},
     "output_type": "execute_result"
    },
    {
     "data": {
      "image/png": "[encoded data removed]",
      "text/plain": [
       "<Figure size 432x288 with 1 Axes>"
      ]
     },
     "metadata": {},
     "output_type": "display_data"
    }
   ],
   "source": [
    "sns.distplot(y_test-pred)"
   ]
  },
  {
   "cell_type": "code",
   "execution_count": 110,
   "metadata": {},
   "outputs": [
    {
     "data": {
      "text/plain": [
       "0.8335663284114918"
      ]
     },
     "execution_count": 110,
     "metadata": {},
     "output_type": "execute_result"
    }
   ],
   "source": [
    "lr.score(x_train,y_train)"
   ]
  },
  {
   "cell_type": "code",
   "execution_count": 111,
   "metadata": {},
   "outputs": [
    {
     "data": {
      "text/plain": [
       "0.8046867010113582"
      ]
     },
     "execution_count": 111,
     "metadata": {},
     "output_type": "execute_result"
    }
   ],
   "source": [
    "lr.score(x_test,y_test)"
   ]
  },
  {
   "cell_type": "code",
   "execution_count": 112,
   "metadata": {},
   "outputs": [
    {
     "name": "stdout",
     "output_type": "stream",
     "text": [
      "\n",
      " 101860.88697210133 \n",
      " 25051319077.589043 \n",
      " 158276.08498313648\n"
     ]
    }
   ],
   "source": [
    "mae = mean_absolute_error(y_test,pred)\n",
    "mse = mean_squared_error(y_test,pred)\n",
    "rmse = np.sqrt(mean_squared_error(y_test,pred))\n",
    "\n",
    "print('\\n',mae,'\\n',mse,'\\n',rmse)"
   ]
  },
  {
   "cell_type": "code",
   "execution_count": 113,
   "metadata": {},
   "outputs": [],
   "source": [
    "from sklearn.linear_model import Ridge"
   ]
  },
  {
   "cell_type": "code",
   "execution_count": 114,
   "metadata": {},
   "outputs": [],
   "source": [
    "r = Ridge(solver='cholesky')"
   ]
  },
  {
   "cell_type": "code",
   "execution_count": 115,
   "metadata": {},
   "outputs": [
    {
     "data": {
      "text/plain": [
       "Ridge(alpha=1.0, copy_X=True, fit_intercept=True, max_iter=None,\n",
       "      normalize=False, random_state=None, solver='cholesky', tol=0.001)"
      ]
     },
     "execution_count": 115,
     "metadata": {},
     "output_type": "execute_result"
    }
   ],
   "source": [
    "r.fit(x_train,y_train)"
   ]
  },
  {
   "cell_type": "code",
   "execution_count": 116,
   "metadata": {},
   "outputs": [],
   "source": [
    "p = r.predict(x_test)"
   ]
  },
  {
   "cell_type": "code",
   "execution_count": 117,
   "metadata": {},
   "outputs": [
    {
     "data": {
      "text/plain": [
       "<AxesSubplot:xlabel='price'>"
      ]
     },
     "execution_count": 117,
     "metadata": {},
     "output_type": "execute_result"
    },
    {
     "data": {
      "image/png": "[encoded data removed]",
      "text/plain": [
       "<Figure size 432x288 with 1 Axes>"
      ]
     },
     "metadata": {},
     "output_type": "display_data"
    }
   ],
   "source": [
    "sns.distplot(y_test-p)"
   ]
  },
  {
   "cell_type": "code",
   "execution_count": 118,
   "metadata": {},
   "outputs": [
    {
     "name": "stdout",
     "output_type": "stream",
     "text": [
      "\n",
      " 101897.53019481605 \n",
      " 25075451313.726646 \n",
      " 158352.30125807028\n"
     ]
    }
   ],
   "source": [
    "mae = mean_absolute_error(y_test,p)\n",
    "mse = mean_squared_error(y_test,p)\n",
    "rmse = np.sqrt(mean_squared_error(y_test,p))\n",
    "\n",
    "print('\\n',mae,'\\n',mse,'\\n',rmse)"
   ]
  },
  {
   "cell_type": "code",
   "execution_count": 119,
   "metadata": {},
   "outputs": [],
   "source": [
    "ss = pd.DataFrame({'y_test':y_test,'hat':p})"
   ]
  },
  {
   "cell_type": "code",
   "execution_count": 120,
   "metadata": {},
   "outputs": [
    {
     "data": {
      "text/plain": [
       "<matplotlib.collections.PathCollection at 0x29c817e8248>"
      ]
     },
     "execution_count": 120,
     "metadata": {},
     "output_type": "execute_result"
    },
    {
     "data": {
      "image/png": "[encoded data removed]",
      "text/plain": [
       "<Figure size 432x288 with 1 Axes>"
      ]
     },
     "metadata": {},
     "output_type": "display_data"
    }
   ],
   "source": [
    "plt.scatter(ss['hat'],ss['y_test'])"
   ]
  },
  {
   "cell_type": "code",
   "execution_count": 121,
   "metadata": {},
   "outputs": [
    {
     "data": {
      "text/plain": [
       "0.8044985533678186"
      ]
     },
     "execution_count": 121,
     "metadata": {},
     "output_type": "execute_result"
    }
   ],
   "source": [
    "r.score(x_train,y_train)\n",
    "r.score(x_test,y_test)"
   ]
  },
  {
   "cell_type": "code",
   "execution_count": 122,
   "metadata": {},
   "outputs": [
    {
     "data": {
      "text/plain": [
       "<function sklearn.metrics.regression.explained_variance_score(y_true, y_pred, sample_weight=None, multioutput='uniform_average')>"
      ]
     },
     "execution_count": 122,
     "metadata": {},
     "output_type": "execute_result"
    }
   ],
   "source": [
    "metrics.explained_variance_score"
   ]
  },
  {
   "cell_type": "code",
   "execution_count": 123,
   "metadata": {},
   "outputs": [],
   "source": [
    "from sklearn.linear_model import Lasso"
   ]
  },
  {
   "cell_type": "code",
   "execution_count": 124,
   "metadata": {},
   "outputs": [],
   "source": [
    "l =Lasso()"
   ]
  },
  {
   "cell_type": "code",
   "execution_count": 133,
   "metadata": {},
   "outputs": [
    {
     "name": "stderr",
     "output_type": "stream",
     "text": [
      "C:\\Users\\hp\\Anaconda3\\lib\\site-packages\\sklearn\\linear_model\\coordinate_descent.py:475: ConvergenceWarning: Objective did not converge. You might want to increase the number of iterations. Duality gap: 186772964933555.5, tolerance: 236204396837.60165\n",
      "  positive)\n"
     ]
    },
    {
     "data": {
      "text/plain": [
       "Lasso(alpha=1.0, copy_X=True, fit_intercept=True, max_iter=1000,\n",
       "      normalize=False, positive=False, precompute=False, random_state=None,\n",
       "      selection='cyclic', tol=0.0001, warm_start=False)"
      ]
     },
     "execution_count": 133,
     "metadata": {},
     "output_type": "execute_result"
    }
   ],
   "source": [
    "l.fit(x_train,y_train)"
   ]
  },
  {
   "cell_type": "code",
   "execution_count": 134,
   "metadata": {},
   "outputs": [],
   "source": [
    "pr_l = l.predict(x_test)"
   ]
  },
  {
   "cell_type": "code",
   "execution_count": 135,
   "metadata": {},
   "outputs": [
    {
     "data": {
      "text/plain": [
       "<AxesSubplot:xlabel='price'>"
      ]
     },
     "execution_count": 135,
     "metadata": {},
     "output_type": "execute_result"
    },
    {
     "data": {
      "image/png": "[encoded data removed]",
      "text/plain": [
       "<Figure size 432x288 with 1 Axes>"
      ]
     },
     "metadata": {},
     "output_type": "display_data"
    }
   ],
   "source": [
    "sns.distplot(y_test-pr_l)"
   ]
  },
  {
   "cell_type": "code",
   "execution_count": 136,
   "metadata": {},
   "outputs": [
    {
     "data": {
      "text/plain": [
       "0.8042443839294572"
      ]
     },
     "execution_count": 136,
     "metadata": {},
     "output_type": "execute_result"
    }
   ],
   "source": [
    "l.score(x_train,y_train)\n",
    "l.score(x_test,y_test)"
   ]
  },
  {
   "cell_type": "code",
   "execution_count": 137,
   "metadata": {},
   "outputs": [
    {
     "name": "stdout",
     "output_type": "stream",
     "text": [
      "\n",
      " 101950.20103775081 \n",
      " 25108051652.4293 \n",
      " 158455.20392978357\n"
     ]
    }
   ],
   "source": [
    "mae = mean_absolute_error(y_test,pr_l)\n",
    "mse = mean_squared_error(y_test,pr_l)\n",
    "rmse = np.sqrt(mean_squared_error(y_test,pr_l))\n",
    "\n",
    "print('\\n',mae,'\\n',mse,'\\n',rmse)"
   ]
  },
  {
   "cell_type": "code",
   "execution_count": 139,
   "metadata": {},
   "outputs": [],
   "source": [
    "comper_la_RI = pd.DataFrame({'Y':y_test,'R':p,'La':pr_l})"
   ]
  },
  {
   "cell_type": "code",
   "execution_count": 146,
   "metadata": {},
   "outputs": [],
   "source": [
    "###KERAS\n",
    "import tensorflow as tf\n",
    "from tensorflow import keras"
   ]
  },
  {
   "cell_type": "code",
   "execution_count": 147,
   "metadata": {},
   "outputs": [],
   "source": [
    "from keras import layers\n",
    "from keras import models"
   ]
  },
  {
   "cell_type": "code",
   "execution_count": 153,
   "metadata": {},
   "outputs": [],
   "source": [
    "mo = models.Sequential([\n",
    "    \n",
    "    layers.Dense(19,activation='relu'),\n",
    "    layers.Dense(19,activation='relu'),\n",
    "    layers.Dense(19,activation='relu'),\n",
    "    layers.Dense(19,activation='relu'),\n",
    "    layers.Dense(19,activation='relu'),\n",
    "    layers.Dense(1), \n",
    "])"
   ]
  },
  {
   "cell_type": "code",
   "execution_count": 154,
   "metadata": {},
   "outputs": [],
   "source": [
    "mo.compile(loss='mse',optimizer='adam')"
   ]
  },
  {
   "cell_type": "code",
   "execution_count": 157,
   "metadata": {},
   "outputs": [
    {
     "name": "stdout",
     "output_type": "stream",
     "text": [
      "Epoch 1/500\n",
      "99/99 [==============================] - 0s 4ms/step - loss: 62484701184.0000 - val_loss: 54466301952.0000\n",
      "Epoch 2/500\n",
      "99/99 [==============================] - 0s 3ms/step - loss: 55701966848.0000 - val_loss: 49436536832.0000\n",
      "Epoch 3/500\n",
      "99/99 [==============================] - 0s 4ms/step - loss: 51358498816.0000 - val_loss: 45744459776.0000\n",
      "Epoch 4/500\n",
      "99/99 [==============================] - 0s 3ms/step - loss: 47800004608.0000 - val_loss: 42685485056.0000\n",
      "Epoch 5/500\n",
      "99/99 [==============================] - 0s 3ms/step - loss: 44961579008.0000 - val_loss: 40260124672.0000\n",
      "Epoch 6/500\n",
      "99/99 [==============================] - 0s 3ms/step - loss: 42729431040.0000 - val_loss: 38351605760.0000\n",
      "Epoch 7/500\n",
      "99/99 [==============================] - 0s 3ms/step - loss: 40993071104.0000 - val_loss: 36962029568.0000\n",
      "Epoch 8/500\n",
      "99/99 [==============================] - 0s 3ms/step - loss: 39558860800.0000 - val_loss: 35755421696.0000\n",
      "Epoch 9/500\n",
      "99/99 [==============================] - 0s 3ms/step - loss: 38587256832.0000 - val_loss: 34819551232.0000\n",
      "Epoch 10/500\n",
      "99/99 [==============================] - 0s 3ms/step - loss: 37559033856.0000 - val_loss: 34117871616.0000\n",
      "Epoch 11/500\n",
      "99/99 [==============================] - 0s 3ms/step - loss: 36832739328.0000 - val_loss: 33677578240.0000\n",
      "Epoch 12/500\n",
      "99/99 [==============================] - 0s 4ms/step - loss: 36355665920.0000 - val_loss: 33143252992.0000\n",
      "Epoch 13/500\n",
      "99/99 [==============================] - 0s 3ms/step - loss: 35824250880.0000 - val_loss: 32611426304.0000\n",
      "Epoch 14/500\n",
      "99/99 [==============================] - 0s 3ms/step - loss: 35352432640.0000 - val_loss: 32485664768.0000\n",
      "Epoch 15/500\n",
      "99/99 [==============================] - 0s 3ms/step - loss: 35099090944.0000 - val_loss: 32094232576.0000\n",
      "Epoch 16/500\n",
      "99/99 [==============================] - 0s 3ms/step - loss: 34700500992.0000 - val_loss: 32110239744.0000\n",
      "Epoch 17/500\n",
      "99/99 [==============================] - 0s 3ms/step - loss: 34492829696.0000 - val_loss: 31529179136.0000\n",
      "Epoch 18/500\n",
      "99/99 [==============================] - 0s 3ms/step - loss: 34204813312.0000 - val_loss: 31220543488.0000\n",
      "Epoch 19/500\n",
      "99/99 [==============================] - 0s 4ms/step - loss: 33940750336.0000 - val_loss: 31215046656.0000\n",
      "Epoch 20/500\n",
      "99/99 [==============================] - 0s 4ms/step - loss: 33785597952.0000 - val_loss: 30819262464.0000\n",
      "Epoch 21/500\n",
      "99/99 [==============================] - 0s 4ms/step - loss: 33543421952.0000 - val_loss: 30646992896.0000\n",
      "Epoch 22/500\n",
      "99/99 [==============================] - 0s 4ms/step - loss: 33360519168.0000 - val_loss: 30564028416.0000\n",
      "Epoch 23/500\n",
      "99/99 [==============================] - 0s 4ms/step - loss: 33227735040.0000 - val_loss: 30480660480.0000\n",
      "Epoch 24/500\n",
      "99/99 [==============================] - 0s 4ms/step - loss: 32964966400.0000 - val_loss: 30260111360.0000\n",
      "Epoch 25/500\n",
      "99/99 [==============================] - 0s 3ms/step - loss: 32813490176.0000 - val_loss: 30085142528.0000\n",
      "Epoch 26/500\n",
      "99/99 [==============================] - 0s 3ms/step - loss: 32589330432.0000 - val_loss: 30766837760.0000\n",
      "Epoch 27/500\n",
      "99/99 [==============================] - 0s 3ms/step - loss: 32546521088.0000 - val_loss: 30132905984.0000\n",
      "Epoch 28/500\n",
      "99/99 [==============================] - 0s 3ms/step - loss: 32423847936.0000 - val_loss: 29770387456.0000\n",
      "Epoch 29/500\n",
      "99/99 [==============================] - 0s 3ms/step - loss: 32196036608.0000 - val_loss: 29687468032.0000\n",
      "Epoch 30/500\n",
      "99/99 [==============================] - 0s 4ms/step - loss: 32056133632.0000 - val_loss: 29545793536.0000\n",
      "Epoch 31/500\n",
      "99/99 [==============================] - 0s 4ms/step - loss: 32027142144.0000 - val_loss: 29492111360.0000\n",
      "Epoch 32/500\n",
      "99/99 [==============================] - 0s 4ms/step - loss: 31810768896.0000 - val_loss: 29436450816.0000\n",
      "Epoch 33/500\n",
      "99/99 [==============================] - 0s 4ms/step - loss: 31704836096.0000 - val_loss: 29293938688.0000\n",
      "Epoch 34/500\n",
      "99/99 [==============================] - 0s 4ms/step - loss: 31656302592.0000 - val_loss: 29307584512.0000\n",
      "Epoch 35/500\n",
      "99/99 [==============================] - 0s 4ms/step - loss: 31498838016.0000 - val_loss: 29158533120.0000\n",
      "Epoch 36/500\n",
      "99/99 [==============================] - 1s 5ms/step - loss: 31285747712.0000 - val_loss: 29315944448.0000\n",
      "Epoch 37/500\n",
      "99/99 [==============================] - 0s 3ms/step - loss: 31270621184.0000 - val_loss: 29142134784.0000\n",
      "Epoch 38/500\n",
      "99/99 [==============================] - 0s 3ms/step - loss: 31176062976.0000 - val_loss: 29031817216.0000\n",
      "Epoch 39/500\n",
      "99/99 [==============================] - 0s 3ms/step - loss: 31038660608.0000 - val_loss: 29025167360.0000\n",
      "Epoch 40/500\n",
      "99/99 [==============================] - 0s 3ms/step - loss: 30884820992.0000 - val_loss: 28884283392.0000\n",
      "Epoch 41/500\n",
      "99/99 [==============================] - 0s 3ms/step - loss: 30854422528.0000 - val_loss: 28818888704.0000\n",
      "Epoch 42/500\n",
      "99/99 [==============================] - 0s 3ms/step - loss: 30864541696.0000 - val_loss: 29070612480.0000\n",
      "Epoch 43/500\n",
      "99/99 [==============================] - 0s 3ms/step - loss: 30693869568.0000 - val_loss: 28883619840.0000\n",
      "Epoch 44/500\n",
      "99/99 [==============================] - 0s 3ms/step - loss: 30616530944.0000 - val_loss: 28685744128.0000\n",
      "Epoch 45/500\n",
      "99/99 [==============================] - 0s 3ms/step - loss: 30482249728.0000 - val_loss: 28591796224.0000\n",
      "Epoch 46/500\n",
      "99/99 [==============================] - 0s 3ms/step - loss: 30508537856.0000 - val_loss: 28594147328.0000\n",
      "Epoch 47/500\n",
      "99/99 [==============================] - 0s 3ms/step - loss: 30333605888.0000 - val_loss: 28576686080.0000\n",
      "Epoch 48/500\n",
      "99/99 [==============================] - 0s 3ms/step - loss: 30380029952.0000 - val_loss: 28499972096.0000\n",
      "Epoch 49/500\n",
      "99/99 [==============================] - 0s 3ms/step - loss: 30234136576.0000 - val_loss: 28464128000.0000\n",
      "Epoch 50/500\n",
      "99/99 [==============================] - 0s 3ms/step - loss: 30201731072.0000 - val_loss: 28468613120.0000\n",
      "Epoch 51/500\n",
      "99/99 [==============================] - 0s 3ms/step - loss: 30063601664.0000 - val_loss: 28358471680.0000\n",
      "Epoch 52/500\n",
      "99/99 [==============================] - 0s 3ms/step - loss: 29964357632.0000 - val_loss: 28286003200.0000\n",
      "Epoch 53/500\n",
      "99/99 [==============================] - 0s 3ms/step - loss: 30030041088.0000 - val_loss: 28267493376.0000\n",
      "Epoch 54/500\n",
      "99/99 [==============================] - 0s 4ms/step - loss: 29870821376.0000 - val_loss: 28172251136.0000\n",
      "Epoch 55/500\n",
      "99/99 [==============================] - 0s 3ms/step - loss: 29769478144.0000 - val_loss: 28156889088.0000\n",
      "Epoch 56/500\n",
      "99/99 [==============================] - 0s 3ms/step - loss: 29800275968.0000 - val_loss: 28100073472.0000\n",
      "Epoch 57/500\n",
      "99/99 [==============================] - 0s 3ms/step - loss: 29677453312.0000 - val_loss: 28127031296.0000\n",
      "Epoch 58/500\n",
      "99/99 [==============================] - 0s 3ms/step - loss: 29665026048.0000 - val_loss: 27997124608.0000\n",
      "Epoch 59/500\n",
      "99/99 [==============================] - 0s 3ms/step - loss: 29628831744.0000 - val_loss: 28085569536.0000\n",
      "Epoch 60/500\n",
      "99/99 [==============================] - 0s 3ms/step - loss: 29590038528.0000 - val_loss: 27908847616.0000\n",
      "Epoch 61/500\n",
      "99/99 [==============================] - 0s 3ms/step - loss: 29488111616.0000 - val_loss: 27931394048.0000\n",
      "Epoch 62/500\n",
      "99/99 [==============================] - 0s 3ms/step - loss: 29418643456.0000 - val_loss: 27778506752.0000\n",
      "Epoch 63/500\n",
      "99/99 [==============================] - 0s 3ms/step - loss: 29313507328.0000 - val_loss: 28054243328.0000\n",
      "Epoch 64/500\n",
      "99/99 [==============================] - 0s 3ms/step - loss: 29240979456.0000 - val_loss: 27743518720.0000\n",
      "Epoch 65/500\n",
      "99/99 [==============================] - 0s 3ms/step - loss: 29204353024.0000 - val_loss: 27703568384.0000\n",
      "Epoch 66/500\n",
      "99/99 [==============================] - 0s 3ms/step - loss: 29271601152.0000 - val_loss: 27681052672.0000\n",
      "Epoch 67/500\n",
      "99/99 [==============================] - 0s 3ms/step - loss: 29071149056.0000 - val_loss: 27657011200.0000\n",
      "Epoch 68/500\n",
      "99/99 [==============================] - 0s 3ms/step - loss: 29079521280.0000 - val_loss: 27626819584.0000\n",
      "Epoch 69/500\n",
      "99/99 [==============================] - 0s 3ms/step - loss: 29072353280.0000 - val_loss: 27602941952.0000\n",
      "Epoch 70/500\n",
      "99/99 [==============================] - 0s 3ms/step - loss: 28937955328.0000 - val_loss: 27522154496.0000\n",
      "Epoch 71/500\n",
      "99/99 [==============================] - 0s 3ms/step - loss: 29001461760.0000 - val_loss: 27573780480.0000\n",
      "Epoch 72/500\n",
      "99/99 [==============================] - 0s 3ms/step - loss: 28861333504.0000 - val_loss: 27478278144.0000\n",
      "Epoch 73/500\n",
      "99/99 [==============================] - 0s 3ms/step - loss: 28802232320.0000 - val_loss: 27490015232.0000\n",
      "Epoch 74/500\n",
      "99/99 [==============================] - 0s 3ms/step - loss: 28747436032.0000 - val_loss: 27431714816.0000\n",
      "Epoch 75/500\n",
      "99/99 [==============================] - 0s 3ms/step - loss: 28696498176.0000 - val_loss: 27443609600.0000\n",
      "Epoch 76/500\n",
      "99/99 [==============================] - 0s 3ms/step - loss: 28592173056.0000 - val_loss: 27304796160.0000\n",
      "Epoch 77/500\n",
      "99/99 [==============================] - 0s 3ms/step - loss: 28564746240.0000 - val_loss: 27603103744.0000\n",
      "Epoch 78/500\n",
      "99/99 [==============================] - 0s 3ms/step - loss: 28678875136.0000 - val_loss: 27454429184.0000\n",
      "Epoch 79/500\n",
      "99/99 [==============================] - 0s 3ms/step - loss: 28545388544.0000 - val_loss: 27333814272.0000\n",
      "Epoch 80/500\n",
      "99/99 [==============================] - 0s 3ms/step - loss: 28544315392.0000 - val_loss: 27232104448.0000\n",
      "Epoch 81/500\n",
      "99/99 [==============================] - 0s 3ms/step - loss: 28485328896.0000 - val_loss: 27348948992.0000\n",
      "Epoch 82/500\n",
      "99/99 [==============================] - 0s 3ms/step - loss: 28392624128.0000 - val_loss: 27188922368.0000\n",
      "Epoch 83/500\n",
      "99/99 [==============================] - 0s 3ms/step - loss: 28467978240.0000 - val_loss: 27193309184.0000\n",
      "Epoch 84/500\n",
      "99/99 [==============================] - 0s 3ms/step - loss: 28444848128.0000 - val_loss: 27216926720.0000\n",
      "Epoch 85/500\n",
      "99/99 [==============================] - 0s 3ms/step - loss: 28283113472.0000 - val_loss: 27478106112.0000\n",
      "Epoch 86/500\n",
      "99/99 [==============================] - 0s 3ms/step - loss: 28344872960.0000 - val_loss: 27131756544.0000\n",
      "Epoch 87/500\n",
      "99/99 [==============================] - 0s 3ms/step - loss: 28243814400.0000 - val_loss: 27187875840.0000\n",
      "Epoch 88/500\n",
      "99/99 [==============================] - 0s 3ms/step - loss: 28303325184.0000 - val_loss: 27192651776.0000\n",
      "Epoch 89/500\n",
      "99/99 [==============================] - 0s 3ms/step - loss: 28171087872.0000 - val_loss: 27032010752.0000\n",
      "Epoch 90/500\n",
      "99/99 [==============================] - 0s 3ms/step - loss: 28192225280.0000 - val_loss: 26945722368.0000\n",
      "Epoch 91/500\n",
      "99/99 [==============================] - 0s 4ms/step - loss: 28197572608.0000 - val_loss: 27046832128.0000\n",
      "Epoch 92/500\n",
      "99/99 [==============================] - 0s 3ms/step - loss: 28071104512.0000 - val_loss: 27045179392.0000\n",
      "Epoch 93/500\n",
      "99/99 [==============================] - 0s 3ms/step - loss: 28044816384.0000 - val_loss: 26941861888.0000\n",
      "Epoch 94/500\n",
      "99/99 [==============================] - 0s 3ms/step - loss: 28047380480.0000 - val_loss: 27105632256.0000\n",
      "Epoch 95/500\n",
      "99/99 [==============================] - 0s 3ms/step - loss: 27926286336.0000 - val_loss: 26868387840.0000\n",
      "Epoch 96/500\n",
      "99/99 [==============================] - 0s 3ms/step - loss: 27900813312.0000 - val_loss: 27008972800.0000\n",
      "Epoch 97/500\n",
      "99/99 [==============================] - 0s 3ms/step - loss: 28013627392.0000 - val_loss: 26838902784.0000\n",
      "Epoch 98/500\n",
      "99/99 [==============================] - 0s 3ms/step - loss: 27981848576.0000 - val_loss: 26985383936.0000\n",
      "Epoch 99/500\n",
      "99/99 [==============================] - 0s 3ms/step - loss: 27936290816.0000 - val_loss: 26998122496.0000\n",
      "Epoch 100/500\n",
      "99/99 [==============================] - 0s 3ms/step - loss: 27920132096.0000 - val_loss: 26994796544.0000\n",
      "Epoch 101/500\n",
      "99/99 [==============================] - 0s 3ms/step - loss: 27762571264.0000 - val_loss: 26841610240.0000\n",
      "Epoch 102/500\n",
      "99/99 [==============================] - 0s 4ms/step - loss: 27817449472.0000 - val_loss: 26824579072.0000\n",
      "Epoch 103/500\n",
      "99/99 [==============================] - 0s 3ms/step - loss: 27755991040.0000 - val_loss: 27048646656.0000\n",
      "Epoch 104/500\n",
      "99/99 [==============================] - 0s 4ms/step - loss: 27760248832.0000 - val_loss: 27140253696.0000\n",
      "Epoch 105/500\n",
      "99/99 [==============================] - 0s 3ms/step - loss: 27801126912.0000 - val_loss: 26683801600.0000\n",
      "Epoch 106/500\n",
      "99/99 [==============================] - 0s 3ms/step - loss: 27646900224.0000 - val_loss: 26686271488.0000\n",
      "Epoch 107/500\n",
      "99/99 [==============================] - 0s 3ms/step - loss: 27587913728.0000 - val_loss: 26649761792.0000\n",
      "Epoch 108/500\n",
      "99/99 [==============================] - 0s 3ms/step - loss: 27527479296.0000 - val_loss: 26776627200.0000\n",
      "Epoch 109/500\n",
      "99/99 [==============================] - 0s 3ms/step - loss: 27597275136.0000 - val_loss: 27064033280.0000\n",
      "Epoch 110/500\n",
      "99/99 [==============================] - 0s 3ms/step - loss: 27496005632.0000 - val_loss: 26636910592.0000\n",
      "Epoch 111/500\n",
      "99/99 [==============================] - 0s 3ms/step - loss: 27459868672.0000 - val_loss: 26830282752.0000\n",
      "Epoch 112/500\n",
      "99/99 [==============================] - 0s 3ms/step - loss: 27481647104.0000 - val_loss: 26680836096.0000\n",
      "Epoch 113/500\n",
      "99/99 [==============================] - 0s 3ms/step - loss: 27464503296.0000 - val_loss: 26675060736.0000\n",
      "Epoch 114/500\n",
      "99/99 [==============================] - 0s 3ms/step - loss: 27380666368.0000 - val_loss: 26617853952.0000\n",
      "Epoch 115/500\n",
      "99/99 [==============================] - 0s 4ms/step - loss: 27345346560.0000 - val_loss: 26612004864.0000\n",
      "Epoch 116/500\n",
      "99/99 [==============================] - 0s 3ms/step - loss: 27444963328.0000 - val_loss: 26555117568.0000\n",
      "Epoch 117/500\n",
      "99/99 [==============================] - 0s 3ms/step - loss: 27290509312.0000 - val_loss: 26492964864.0000\n",
      "Epoch 118/500\n",
      "99/99 [==============================] - 0s 3ms/step - loss: 27472527360.0000 - val_loss: 26492432384.0000\n",
      "Epoch 119/500\n",
      "99/99 [==============================] - 0s 3ms/step - loss: 27210438656.0000 - val_loss: 26763765760.0000\n",
      "Epoch 120/500\n",
      "99/99 [==============================] - 0s 3ms/step - loss: 27212402688.0000 - val_loss: 26611130368.0000\n",
      "Epoch 121/500\n",
      "99/99 [==============================] - 0s 3ms/step - loss: 27322068992.0000 - val_loss: 26401462272.0000\n",
      "Epoch 122/500\n",
      "99/99 [==============================] - 0s 3ms/step - loss: 27202080768.0000 - val_loss: 26468184064.0000\n",
      "Epoch 123/500\n",
      "99/99 [==============================] - 0s 3ms/step - loss: 27155941376.0000 - val_loss: 26389592064.0000\n",
      "Epoch 124/500\n",
      "99/99 [==============================] - 0s 3ms/step - loss: 27059001344.0000 - val_loss: 26428237824.0000\n",
      "Epoch 125/500\n",
      "99/99 [==============================] - 0s 3ms/step - loss: 27125477376.0000 - val_loss: 26532786176.0000\n",
      "Epoch 126/500\n",
      "99/99 [==============================] - 0s 3ms/step - loss: 27019241472.0000 - val_loss: 26383314944.0000\n",
      "Epoch 127/500\n",
      "99/99 [==============================] - 0s 3ms/step - loss: 26973925376.0000 - val_loss: 26344009728.0000\n",
      "Epoch 128/500\n",
      "99/99 [==============================] - 0s 3ms/step - loss: 26965309440.0000 - val_loss: 26304753664.0000\n",
      "Epoch 129/500\n",
      "99/99 [==============================] - 0s 4ms/step - loss: 26960971776.0000 - val_loss: 26475431936.0000\n",
      "Epoch 130/500\n",
      "99/99 [==============================] - 0s 5ms/step - loss: 26930513920.0000 - val_loss: 26298298368.0000\n",
      "Epoch 131/500\n",
      "99/99 [==============================] - 0s 4ms/step - loss: 26861180928.0000 - val_loss: 26788882432.0000\n",
      "Epoch 132/500\n",
      "99/99 [==============================] - 0s 4ms/step - loss: 26908581888.0000 - val_loss: 26326421504.0000\n",
      "Epoch 133/500\n",
      "99/99 [==============================] - 0s 4ms/step - loss: 26826838016.0000 - val_loss: 26168354816.0000\n",
      "Epoch 134/500\n",
      "99/99 [==============================] - 0s 5ms/step - loss: 26728636416.0000 - val_loss: 26613075968.0000\n",
      "Epoch 135/500\n",
      "99/99 [==============================] - 0s 4ms/step - loss: 26813800448.0000 - val_loss: 26098206720.0000\n",
      "Epoch 136/500\n",
      "99/99 [==============================] - 0s 5ms/step - loss: 26688542720.0000 - val_loss: 26175148032.0000\n",
      "Epoch 137/500\n",
      "99/99 [==============================] - 0s 4ms/step - loss: 26679529472.0000 - val_loss: 26330933248.0000\n",
      "Epoch 138/500\n",
      "99/99 [==============================] - 1s 7ms/step - loss: 26634321920.0000 - val_loss: 26089275392.0000\n",
      "Epoch 139/500\n",
      "99/99 [==============================] - 0s 4ms/step - loss: 26588399616.0000 - val_loss: 26057060352.0000\n",
      "Epoch 140/500\n",
      "99/99 [==============================] - 0s 4ms/step - loss: 26647298048.0000 - val_loss: 26166099968.0000\n",
      "Epoch 141/500\n",
      "99/99 [==============================] - 0s 3ms/step - loss: 26501036032.0000 - val_loss: 26050826240.0000\n",
      "Epoch 142/500\n",
      "99/99 [==============================] - 0s 3ms/step - loss: 26527602688.0000 - val_loss: 26191288320.0000\n",
      "Epoch 143/500\n",
      "99/99 [==============================] - 0s 3ms/step - loss: 26499825664.0000 - val_loss: 25982488576.0000\n",
      "Epoch 144/500\n",
      "99/99 [==============================] - 0s 3ms/step - loss: 26413211648.0000 - val_loss: 25927524352.0000\n",
      "Epoch 145/500\n",
      "99/99 [==============================] - 0s 3ms/step - loss: 26410278912.0000 - val_loss: 25973508096.0000\n",
      "Epoch 146/500\n",
      "99/99 [==============================] - 0s 3ms/step - loss: 26328027136.0000 - val_loss: 25988253696.0000\n",
      "Epoch 147/500\n",
      "99/99 [==============================] - 0s 3ms/step - loss: 26332710912.0000 - val_loss: 26172798976.0000\n",
      "Epoch 148/500\n",
      "99/99 [==============================] - 0s 4ms/step - loss: 26258649088.0000 - val_loss: 25859479552.0000\n",
      "Epoch 149/500\n",
      "99/99 [==============================] - 0s 5ms/step - loss: 26360862720.0000 - val_loss: 25899405312.0000\n",
      "Epoch 150/500\n",
      "99/99 [==============================] - 0s 5ms/step - loss: 26219216896.0000 - val_loss: 25900505088.0000\n",
      "Epoch 151/500\n",
      "99/99 [==============================] - 0s 5ms/step - loss: 26195384320.0000 - val_loss: 25839212544.0000\n",
      "Epoch 152/500\n",
      "99/99 [==============================] - 0s 5ms/step - loss: 26084526080.0000 - val_loss: 25822107648.0000\n",
      "Epoch 153/500\n",
      "99/99 [==============================] - 0s 5ms/step - loss: 26081040384.0000 - val_loss: 25776918528.0000\n",
      "Epoch 154/500\n",
      "99/99 [==============================] - 0s 4ms/step - loss: 26047512576.0000 - val_loss: 25756876800.0000\n",
      "Epoch 155/500\n",
      "99/99 [==============================] - 0s 4ms/step - loss: 26057158656.0000 - val_loss: 25879496704.0000\n",
      "Epoch 156/500\n",
      "99/99 [==============================] - 0s 4ms/step - loss: 25909407744.0000 - val_loss: 26357899264.0000\n",
      "Epoch 157/500\n",
      "99/99 [==============================] - 0s 4ms/step - loss: 25983563776.0000 - val_loss: 25715918848.0000\n",
      "Epoch 158/500\n",
      "99/99 [==============================] - 0s 3ms/step - loss: 25928771584.0000 - val_loss: 25806477312.0000\n",
      "Epoch 159/500\n",
      "99/99 [==============================] - 0s 4ms/step - loss: 25912338432.0000 - val_loss: 25864667136.0000\n",
      "Epoch 160/500\n",
      "99/99 [==============================] - 0s 4ms/step - loss: 25863094272.0000 - val_loss: 25770223616.0000\n",
      "Epoch 161/500\n",
      "99/99 [==============================] - 0s 3ms/step - loss: 25778092032.0000 - val_loss: 25723963392.0000\n",
      "Epoch 162/500\n",
      "99/99 [==============================] - 0s 4ms/step - loss: 25700771840.0000 - val_loss: 25745702912.0000\n",
      "Epoch 163/500\n",
      "99/99 [==============================] - 0s 4ms/step - loss: 25716193280.0000 - val_loss: 25682866176.0000\n",
      "Epoch 164/500\n",
      "99/99 [==============================] - 0s 5ms/step - loss: 25706145792.0000 - val_loss: 25709944832.0000\n",
      "Epoch 165/500\n",
      "99/99 [==============================] - 0s 4ms/step - loss: 25774776320.0000 - val_loss: 25650958336.0000\n",
      "Epoch 166/500\n",
      "99/99 [==============================] - 0s 3ms/step - loss: 25760870400.0000 - val_loss: 25864071168.0000\n",
      "Epoch 167/500\n",
      "99/99 [==============================] - 0s 3ms/step - loss: 25611993088.0000 - val_loss: 25683896320.0000\n",
      "Epoch 168/500\n",
      "99/99 [==============================] - 0s 4ms/step - loss: 25575692288.0000 - val_loss: 25648900096.0000\n",
      "Epoch 169/500\n",
      "99/99 [==============================] - 0s 4ms/step - loss: 25520408576.0000 - val_loss: 25635493888.0000\n",
      "Epoch 170/500\n",
      "99/99 [==============================] - 0s 3ms/step - loss: 25529849856.0000 - val_loss: 25698009088.0000\n",
      "Epoch 171/500\n",
      "99/99 [==============================] - 0s 4ms/step - loss: 25443592192.0000 - val_loss: 25741322240.0000\n",
      "Epoch 172/500\n",
      "99/99 [==============================] - 0s 3ms/step - loss: 25390968832.0000 - val_loss: 25965012992.0000\n",
      "Epoch 173/500\n",
      "99/99 [==============================] - 0s 3ms/step - loss: 25381187584.0000 - val_loss: 25562400768.0000\n",
      "Epoch 174/500\n",
      "99/99 [==============================] - 0s 4ms/step - loss: 25350940672.0000 - val_loss: 25598646272.0000\n",
      "Epoch 175/500\n",
      "99/99 [==============================] - 0s 3ms/step - loss: 25357627392.0000 - val_loss: 25545709568.0000\n",
      "Epoch 176/500\n",
      "99/99 [==============================] - 0s 3ms/step - loss: 25291591680.0000 - val_loss: 25917286400.0000\n",
      "Epoch 177/500\n",
      "99/99 [==============================] - 0s 3ms/step - loss: 25297397760.0000 - val_loss: 25921433600.0000\n",
      "Epoch 178/500\n",
      "99/99 [==============================] - 0s 3ms/step - loss: 25353220096.0000 - val_loss: 25476026368.0000\n",
      "Epoch 179/500\n",
      "99/99 [==============================] - 0s 3ms/step - loss: 25160118272.0000 - val_loss: 25551595520.0000\n",
      "Epoch 180/500\n",
      "99/99 [==============================] - 0s 3ms/step - loss: 25234393088.0000 - val_loss: 25498279936.0000\n",
      "Epoch 181/500\n",
      "99/99 [==============================] - 0s 3ms/step - loss: 25135183872.0000 - val_loss: 25445871616.0000\n",
      "Epoch 182/500\n",
      "99/99 [==============================] - 0s 4ms/step - loss: 25154439168.0000 - val_loss: 25715843072.0000\n",
      "Epoch 183/500\n",
      "99/99 [==============================] - 0s 3ms/step - loss: 25081214976.0000 - val_loss: 25550741504.0000\n",
      "Epoch 184/500\n",
      "99/99 [==============================] - 0s 3ms/step - loss: 25097816064.0000 - val_loss: 25467768832.0000\n",
      "Epoch 185/500\n",
      "99/99 [==============================] - 0s 4ms/step - loss: 25085007872.0000 - val_loss: 25614733312.0000\n",
      "Epoch 186/500\n",
      "99/99 [==============================] - 0s 3ms/step - loss: 25082769408.0000 - val_loss: 25705349120.0000\n",
      "Epoch 187/500\n",
      "99/99 [==============================] - 0s 4ms/step - loss: 24989362176.0000 - val_loss: 25387036672.0000\n",
      "Epoch 188/500\n",
      "99/99 [==============================] - 0s 3ms/step - loss: 24912875520.0000 - val_loss: 25357391872.0000\n",
      "Epoch 189/500\n",
      "99/99 [==============================] - 0s 3ms/step - loss: 24864049152.0000 - val_loss: 25315547136.0000\n",
      "Epoch 190/500\n",
      "99/99 [==============================] - 0s 4ms/step - loss: 24859234304.0000 - val_loss: 25370144768.0000\n",
      "Epoch 191/500\n",
      "99/99 [==============================] - 0s 4ms/step - loss: 24859017216.0000 - val_loss: 25305571328.0000\n",
      "Epoch 192/500\n",
      "99/99 [==============================] - 0s 3ms/step - loss: 24759838720.0000 - val_loss: 25390761984.0000\n",
      "Epoch 193/500\n",
      "99/99 [==============================] - 0s 3ms/step - loss: 24833644544.0000 - val_loss: 25266337792.0000\n",
      "Epoch 194/500\n",
      "99/99 [==============================] - 0s 4ms/step - loss: 24766019584.0000 - val_loss: 25303881728.0000\n",
      "Epoch 195/500\n",
      "99/99 [==============================] - 0s 4ms/step - loss: 24847710208.0000 - val_loss: 25383911424.0000\n",
      "Epoch 196/500\n",
      "99/99 [==============================] - 0s 4ms/step - loss: 24724850688.0000 - val_loss: 25191538688.0000\n",
      "Epoch 197/500\n",
      "99/99 [==============================] - 0s 4ms/step - loss: 24715606016.0000 - val_loss: 25235718144.0000\n",
      "Epoch 198/500\n",
      "99/99 [==============================] - 0s 4ms/step - loss: 24603066368.0000 - val_loss: 25593935872.0000\n",
      "Epoch 199/500\n",
      "99/99 [==============================] - 0s 5ms/step - loss: 24573700096.0000 - val_loss: 25253386240.0000\n",
      "Epoch 200/500\n",
      "99/99 [==============================] - 0s 5ms/step - loss: 24688883712.0000 - val_loss: 25107859456.0000\n",
      "Epoch 201/500\n",
      "99/99 [==============================] - 0s 5ms/step - loss: 24522420224.0000 - val_loss: 25097480192.0000\n",
      "Epoch 202/500\n",
      "99/99 [==============================] - 1s 5ms/step - loss: 24531365888.0000 - val_loss: 25188124672.0000\n",
      "Epoch 203/500\n",
      "99/99 [==============================] - 0s 4ms/step - loss: 24568164352.0000 - val_loss: 25034659840.0000\n",
      "Epoch 204/500\n",
      "99/99 [==============================] - 0s 4ms/step - loss: 24435286016.0000 - val_loss: 25106714624.0000\n",
      "Epoch 205/500\n",
      "99/99 [==============================] - 0s 4ms/step - loss: 24412151808.0000 - val_loss: 25059569664.0000\n",
      "Epoch 206/500\n",
      "99/99 [==============================] - 0s 4ms/step - loss: 24480151552.0000 - val_loss: 25173254144.0000\n",
      "Epoch 207/500\n",
      "99/99 [==============================] - 0s 4ms/step - loss: 24435843072.0000 - val_loss: 25400588288.0000\n",
      "Epoch 208/500\n",
      "99/99 [==============================] - 0s 4ms/step - loss: 24371079168.0000 - val_loss: 24998746112.0000\n",
      "Epoch 209/500\n",
      "99/99 [==============================] - 0s 4ms/step - loss: 24409769984.0000 - val_loss: 25005142016.0000\n",
      "Epoch 210/500\n",
      "99/99 [==============================] - 0s 4ms/step - loss: 24352143360.0000 - val_loss: 24979982336.0000\n",
      "Epoch 211/500\n",
      "99/99 [==============================] - 0s 4ms/step - loss: 24308314112.0000 - val_loss: 25083422720.0000\n",
      "Epoch 212/500\n",
      "99/99 [==============================] - 0s 3ms/step - loss: 24297099264.0000 - val_loss: 25181782016.0000\n",
      "Epoch 213/500\n",
      "99/99 [==============================] - 0s 3ms/step - loss: 24183203840.0000 - val_loss: 25072027648.0000\n",
      "Epoch 214/500\n",
      "99/99 [==============================] - 0s 4ms/step - loss: 24257961984.0000 - val_loss: 24963743744.0000\n",
      "Epoch 215/500\n",
      "99/99 [==============================] - 1s 5ms/step - loss: 24199669760.0000 - val_loss: 24888733696.0000\n",
      "Epoch 216/500\n",
      "99/99 [==============================] - 0s 3ms/step - loss: 24129327104.0000 - val_loss: 24913395712.0000\n",
      "Epoch 217/500\n",
      "99/99 [==============================] - 0s 3ms/step - loss: 24117745664.0000 - val_loss: 24819836928.0000\n",
      "Epoch 218/500\n",
      "99/99 [==============================] - 0s 3ms/step - loss: 24156825600.0000 - val_loss: 24870189056.0000\n",
      "Epoch 219/500\n",
      "99/99 [==============================] - 0s 3ms/step - loss: 24096456704.0000 - val_loss: 24862226432.0000\n",
      "Epoch 220/500\n",
      "99/99 [==============================] - 0s 3ms/step - loss: 24048068608.0000 - val_loss: 24831895552.0000\n",
      "Epoch 221/500\n",
      "99/99 [==============================] - 0s 3ms/step - loss: 24043218944.0000 - val_loss: 24796033024.0000\n",
      "Epoch 222/500\n",
      "99/99 [==============================] - 0s 3ms/step - loss: 24007096320.0000 - val_loss: 24761827328.0000\n",
      "Epoch 223/500\n",
      "99/99 [==============================] - 0s 3ms/step - loss: 23992184832.0000 - val_loss: 24842047488.0000\n",
      "Epoch 224/500\n",
      "99/99 [==============================] - 0s 3ms/step - loss: 24082817024.0000 - val_loss: 25272418304.0000\n",
      "Epoch 225/500\n",
      "99/99 [==============================] - 0s 3ms/step - loss: 24005373952.0000 - val_loss: 24800614400.0000\n",
      "Epoch 226/500\n",
      "99/99 [==============================] - 0s 3ms/step - loss: 24059789312.0000 - val_loss: 24859666432.0000\n",
      "Epoch 227/500\n",
      "99/99 [==============================] - 0s 3ms/step - loss: 23889176576.0000 - val_loss: 25264392192.0000\n",
      "Epoch 228/500\n",
      "99/99 [==============================] - 0s 3ms/step - loss: 23850928128.0000 - val_loss: 24795521024.0000\n",
      "Epoch 229/500\n",
      "99/99 [==============================] - 0s 3ms/step - loss: 23922323456.0000 - val_loss: 24841902080.0000\n",
      "Epoch 230/500\n",
      "99/99 [==============================] - 0s 3ms/step - loss: 23803414528.0000 - val_loss: 24936280064.0000\n",
      "Epoch 231/500\n",
      "99/99 [==============================] - 0s 3ms/step - loss: 23763707904.0000 - val_loss: 24835375104.0000\n",
      "Epoch 232/500\n",
      "99/99 [==============================] - 0s 3ms/step - loss: 23863009280.0000 - val_loss: 24794044416.0000\n",
      "Epoch 233/500\n",
      "99/99 [==============================] - 0s 3ms/step - loss: 23825629184.0000 - val_loss: 24831309824.0000\n",
      "Epoch 234/500\n",
      "99/99 [==============================] - 0s 3ms/step - loss: 23804147712.0000 - val_loss: 24906463232.0000\n",
      "Epoch 235/500\n",
      "99/99 [==============================] - 0s 3ms/step - loss: 23756847104.0000 - val_loss: 24851746816.0000\n",
      "Epoch 236/500\n",
      "99/99 [==============================] - 0s 3ms/step - loss: 23834869760.0000 - val_loss: 24829775872.0000\n",
      "Epoch 237/500\n",
      "99/99 [==============================] - 0s 3ms/step - loss: 23684386816.0000 - val_loss: 24836356096.0000\n",
      "Epoch 238/500\n",
      "99/99 [==============================] - 0s 3ms/step - loss: 23669426176.0000 - val_loss: 24883173376.0000\n",
      "Epoch 239/500\n",
      "99/99 [==============================] - 0s 3ms/step - loss: 23658819584.0000 - val_loss: 24839860224.0000\n",
      "Epoch 240/500\n",
      "99/99 [==============================] - 0s 3ms/step - loss: 23649024000.0000 - val_loss: 24857169920.0000\n",
      "Epoch 241/500\n",
      "99/99 [==============================] - 0s 3ms/step - loss: 23584083968.0000 - val_loss: 24826585088.0000\n",
      "Epoch 242/500\n",
      "99/99 [==============================] - 0s 3ms/step - loss: 23588005888.0000 - val_loss: 24798593024.0000\n",
      "Epoch 243/500\n",
      "99/99 [==============================] - 0s 3ms/step - loss: 23611506688.0000 - val_loss: 24826533888.0000\n",
      "Epoch 244/500\n",
      "99/99 [==============================] - 0s 3ms/step - loss: 23602868224.0000 - val_loss: 24762605568.0000\n",
      "Epoch 245/500\n",
      "99/99 [==============================] - 0s 3ms/step - loss: 23534866432.0000 - val_loss: 24885551104.0000\n",
      "Epoch 246/500\n",
      "99/99 [==============================] - 0s 3ms/step - loss: 23474438144.0000 - val_loss: 25008232448.0000\n",
      "Epoch 247/500\n",
      "99/99 [==============================] - 0s 3ms/step - loss: 23627333632.0000 - val_loss: 24829247488.0000\n",
      "Epoch 248/500\n",
      "99/99 [==============================] - 0s 3ms/step - loss: 23502016512.0000 - val_loss: 24815702016.0000\n",
      "Epoch 249/500\n",
      "99/99 [==============================] - 0s 3ms/step - loss: 23446624256.0000 - val_loss: 24777771008.0000\n",
      "Epoch 250/500\n",
      "99/99 [==============================] - 0s 3ms/step - loss: 23453648896.0000 - val_loss: 24751792128.0000\n",
      "Epoch 251/500\n",
      "99/99 [==============================] - 0s 3ms/step - loss: 23472238592.0000 - val_loss: 24755607552.0000\n",
      "Epoch 252/500\n",
      "99/99 [==============================] - 0s 3ms/step - loss: 23431512064.0000 - val_loss: 24839868416.0000\n",
      "Epoch 253/500\n",
      "99/99 [==============================] - 0s 3ms/step - loss: 23521800192.0000 - val_loss: 24889780224.0000\n",
      "Epoch 254/500\n",
      "99/99 [==============================] - 0s 4ms/step - loss: 23497334784.0000 - val_loss: 24894326784.0000\n",
      "Epoch 255/500\n",
      "99/99 [==============================] - 0s 3ms/step - loss: 23332528128.0000 - val_loss: 24651972608.0000\n",
      "Epoch 256/500\n",
      "99/99 [==============================] - 0s 3ms/step - loss: 23368052736.0000 - val_loss: 24675131392.0000\n",
      "Epoch 257/500\n",
      "99/99 [==============================] - 0s 3ms/step - loss: 23344840704.0000 - val_loss: 24710313984.0000\n",
      "Epoch 258/500\n",
      "99/99 [==============================] - 0s 3ms/step - loss: 23280859136.0000 - val_loss: 24643948544.0000\n",
      "Epoch 259/500\n",
      "99/99 [==============================] - 0s 3ms/step - loss: 23305390080.0000 - val_loss: 24646291456.0000\n",
      "Epoch 260/500\n",
      "99/99 [==============================] - 0s 3ms/step - loss: 23346847744.0000 - val_loss: 24846442496.0000\n",
      "Epoch 261/500\n",
      "99/99 [==============================] - 0s 3ms/step - loss: 23317239808.0000 - val_loss: 24702341120.0000\n",
      "Epoch 262/500\n",
      "99/99 [==============================] - 0s 3ms/step - loss: 23343867904.0000 - val_loss: 24632498176.0000\n",
      "Epoch 263/500\n",
      "99/99 [==============================] - 0s 3ms/step - loss: 23259557888.0000 - val_loss: 24619180032.0000\n",
      "Epoch 264/500\n",
      "99/99 [==============================] - 0s 3ms/step - loss: 23246485504.0000 - val_loss: 24641218560.0000\n",
      "Epoch 265/500\n",
      "99/99 [==============================] - 0s 3ms/step - loss: 23185805312.0000 - val_loss: 24684113920.0000\n",
      "Epoch 266/500\n",
      "99/99 [==============================] - 0s 3ms/step - loss: 23260952576.0000 - val_loss: 24703379456.0000\n",
      "Epoch 267/500\n",
      "99/99 [==============================] - 0s 4ms/step - loss: 23122821120.0000 - val_loss: 24858335232.0000\n",
      "Epoch 268/500\n",
      "99/99 [==============================] - 0s 3ms/step - loss: 23208650752.0000 - val_loss: 24785035264.0000\n",
      "Epoch 269/500\n",
      "99/99 [==============================] - 0s 3ms/step - loss: 23199744000.0000 - val_loss: 24683718656.0000\n",
      "Epoch 270/500\n",
      "99/99 [==============================] - 0s 3ms/step - loss: 23132815360.0000 - val_loss: 24642330624.0000\n",
      "Epoch 271/500\n",
      "99/99 [==============================] - 0s 3ms/step - loss: 23132233728.0000 - val_loss: 24737380352.0000\n",
      "Epoch 272/500\n",
      "99/99 [==============================] - 0s 3ms/step - loss: 23138482176.0000 - val_loss: 24802058240.0000\n",
      "Epoch 273/500\n",
      "99/99 [==============================] - 0s 3ms/step - loss: 23126112256.0000 - val_loss: 24749395968.0000\n",
      "Epoch 274/500\n",
      "99/99 [==============================] - 0s 3ms/step - loss: 23141918720.0000 - val_loss: 24730753024.0000\n",
      "Epoch 275/500\n",
      "99/99 [==============================] - 0s 3ms/step - loss: 23091488768.0000 - val_loss: 24839227392.0000\n",
      "Epoch 276/500\n",
      "99/99 [==============================] - 0s 3ms/step - loss: 22974711808.0000 - val_loss: 24792264704.0000\n",
      "Epoch 277/500\n",
      "99/99 [==============================] - 0s 3ms/step - loss: 23147837440.0000 - val_loss: 24757569536.0000\n",
      "Epoch 278/500\n",
      "99/99 [==============================] - 0s 3ms/step - loss: 23094476800.0000 - val_loss: 24706615296.0000\n",
      "Epoch 279/500\n",
      "99/99 [==============================] - 0s 4ms/step - loss: 22974117888.0000 - val_loss: 24676104192.0000\n",
      "Epoch 280/500\n",
      "99/99 [==============================] - 0s 3ms/step - loss: 22952230912.0000 - val_loss: 24763475968.0000\n",
      "Epoch 281/500\n",
      "99/99 [==============================] - 0s 4ms/step - loss: 22985631744.0000 - val_loss: 24784310272.0000\n",
      "Epoch 282/500\n",
      "99/99 [==============================] - 0s 3ms/step - loss: 23158798336.0000 - val_loss: 24710434816.0000\n",
      "Epoch 283/500\n",
      "99/99 [==============================] - 0s 3ms/step - loss: 22961764352.0000 - val_loss: 24772087808.0000\n",
      "Epoch 284/500\n",
      "99/99 [==============================] - 0s 4ms/step - loss: 22991022080.0000 - val_loss: 24701466624.0000\n",
      "Epoch 285/500\n",
      "99/99 [==============================] - 0s 3ms/step - loss: 22918264832.0000 - val_loss: 24804118528.0000\n",
      "Epoch 286/500\n",
      "99/99 [==============================] - 0s 3ms/step - loss: 22936854528.0000 - val_loss: 24987901952.0000\n",
      "Epoch 287/500\n",
      "99/99 [==============================] - 0s 3ms/step - loss: 22939738112.0000 - val_loss: 24800585728.0000\n",
      "Epoch 288/500\n",
      "99/99 [==============================] - 0s 3ms/step - loss: 22936397824.0000 - val_loss: 24956160000.0000\n",
      "Epoch 289/500\n",
      "99/99 [==============================] - 0s 3ms/step - loss: 22856972288.0000 - val_loss: 24713439232.0000\n",
      "Epoch 290/500\n",
      "99/99 [==============================] - 0s 3ms/step - loss: 22851522560.0000 - val_loss: 24739227648.0000\n",
      "Epoch 291/500\n",
      "99/99 [==============================] - 0s 3ms/step - loss: 22841192448.0000 - val_loss: 24916320256.0000\n",
      "Epoch 292/500\n",
      "99/99 [==============================] - 0s 4ms/step - loss: 22873407488.0000 - val_loss: 24785561600.0000\n",
      "Epoch 293/500\n",
      "99/99 [==============================] - 0s 3ms/step - loss: 22846437376.0000 - val_loss: 24709644288.0000\n",
      "Epoch 294/500\n",
      "99/99 [==============================] - 0s 3ms/step - loss: 22851717120.0000 - val_loss: 24741373952.0000\n",
      "Epoch 295/500\n",
      "99/99 [==============================] - 0s 5ms/step - loss: 22818324480.0000 - val_loss: 24952334336.0000\n",
      "Epoch 296/500\n",
      "99/99 [==============================] - 0s 5ms/step - loss: 22817554432.0000 - val_loss: 24847007744.0000\n",
      "Epoch 297/500\n",
      "99/99 [==============================] - 1s 6ms/step - loss: 22810920960.0000 - val_loss: 24787150848.0000\n",
      "Epoch 298/500\n",
      "99/99 [==============================] - 0s 4ms/step - loss: 22821791744.0000 - val_loss: 24755886080.0000\n",
      "Epoch 299/500\n",
      "99/99 [==============================] - 0s 4ms/step - loss: 22746703872.0000 - val_loss: 24793073664.0000\n",
      "Epoch 300/500\n",
      "99/99 [==============================] - 0s 4ms/step - loss: 22755710976.0000 - val_loss: 24743839744.0000\n",
      "Epoch 301/500\n",
      "99/99 [==============================] - 0s 4ms/step - loss: 22844592128.0000 - val_loss: 24960436224.0000\n",
      "Epoch 302/500\n",
      "99/99 [==============================] - 0s 3ms/step - loss: 22821632000.0000 - val_loss: 24801849344.0000\n",
      "Epoch 303/500\n",
      "99/99 [==============================] - 0s 3ms/step - loss: 22714263552.0000 - val_loss: 24739997696.0000\n",
      "Epoch 304/500\n",
      "99/99 [==============================] - 0s 3ms/step - loss: 22696237056.0000 - val_loss: 24743933952.0000\n",
      "Epoch 305/500\n",
      "99/99 [==============================] - 0s 3ms/step - loss: 22682906624.0000 - val_loss: 24789018624.0000\n",
      "Epoch 306/500\n",
      "99/99 [==============================] - 0s 3ms/step - loss: 22733834240.0000 - val_loss: 24759259136.0000\n",
      "Epoch 307/500\n",
      "99/99 [==============================] - 0s 3ms/step - loss: 22656800768.0000 - val_loss: 24825675776.0000\n",
      "Epoch 308/500\n",
      "99/99 [==============================] - 0s 3ms/step - loss: 22685011968.0000 - val_loss: 24759662592.0000\n",
      "Epoch 309/500\n",
      "99/99 [==============================] - 0s 3ms/step - loss: 22636066816.0000 - val_loss: 24750739456.0000\n",
      "Epoch 310/500\n",
      "99/99 [==============================] - 0s 3ms/step - loss: 22600349696.0000 - val_loss: 24781492224.0000\n",
      "Epoch 311/500\n",
      "99/99 [==============================] - 0s 3ms/step - loss: 22674065408.0000 - val_loss: 24768743424.0000\n",
      "Epoch 312/500\n",
      "99/99 [==============================] - 0s 3ms/step - loss: 22724724736.0000 - val_loss: 24753299456.0000\n",
      "Epoch 313/500\n",
      "99/99 [==============================] - 0s 3ms/step - loss: 22628304896.0000 - val_loss: 24951291904.0000\n",
      "Epoch 314/500\n",
      "99/99 [==============================] - 0s 3ms/step - loss: 22611359744.0000 - val_loss: 24711915520.0000\n",
      "Epoch 315/500\n",
      "99/99 [==============================] - 0s 3ms/step - loss: 22623576064.0000 - val_loss: 24769529856.0000\n",
      "Epoch 316/500\n",
      "99/99 [==============================] - 0s 3ms/step - loss: 22601611264.0000 - val_loss: 24789426176.0000\n",
      "Epoch 317/500\n",
      "99/99 [==============================] - 0s 3ms/step - loss: 22560696320.0000 - val_loss: 24776501248.0000\n",
      "Epoch 318/500\n",
      "99/99 [==============================] - 0s 3ms/step - loss: 22598823936.0000 - val_loss: 24773484544.0000\n",
      "Epoch 319/500\n",
      "99/99 [==============================] - 0s 3ms/step - loss: 22550169600.0000 - val_loss: 24761075712.0000\n",
      "Epoch 320/500\n",
      "99/99 [==============================] - 0s 3ms/step - loss: 22606501888.0000 - val_loss: 24764811264.0000\n",
      "Epoch 321/500\n",
      "99/99 [==============================] - 0s 3ms/step - loss: 22509662208.0000 - val_loss: 24788283392.0000\n",
      "Epoch 322/500\n",
      "99/99 [==============================] - 0s 3ms/step - loss: 22583488512.0000 - val_loss: 24718424064.0000\n",
      "Epoch 323/500\n",
      "99/99 [==============================] - 0s 3ms/step - loss: 22562220032.0000 - val_loss: 24932071424.0000\n",
      "Epoch 324/500\n",
      "99/99 [==============================] - 0s 3ms/step - loss: 22458347520.0000 - val_loss: 24817360896.0000\n",
      "Epoch 325/500\n",
      "99/99 [==============================] - 0s 3ms/step - loss: 22448328704.0000 - val_loss: 25070716928.0000\n",
      "Epoch 326/500\n",
      "99/99 [==============================] - 0s 3ms/step - loss: 22512412672.0000 - val_loss: 24747567104.0000\n",
      "Epoch 327/500\n",
      "99/99 [==============================] - 0s 3ms/step - loss: 22495741952.0000 - val_loss: 24798875648.0000\n",
      "Epoch 328/500\n",
      "99/99 [==============================] - 0s 3ms/step - loss: 22512728064.0000 - val_loss: 24754593792.0000\n",
      "Epoch 329/500\n",
      "99/99 [==============================] - 0s 3ms/step - loss: 22464636928.0000 - val_loss: 24741419008.0000\n",
      "Epoch 330/500\n",
      "99/99 [==============================] - 0s 3ms/step - loss: 22485547008.0000 - val_loss: 24802703360.0000\n",
      "Epoch 331/500\n",
      "99/99 [==============================] - 0s 4ms/step - loss: 22433669120.0000 - val_loss: 24792399872.0000\n",
      "Epoch 332/500\n",
      "99/99 [==============================] - 0s 3ms/step - loss: 22531678208.0000 - val_loss: 24797347840.0000\n",
      "Epoch 333/500\n",
      "99/99 [==============================] - 0s 3ms/step - loss: 22469013504.0000 - val_loss: 24824571904.0000\n",
      "Epoch 334/500\n",
      "99/99 [==============================] - 0s 4ms/step - loss: 22468853760.0000 - val_loss: 24823685120.0000\n",
      "Epoch 335/500\n",
      "99/99 [==============================] - 0s 3ms/step - loss: 22497290240.0000 - val_loss: 24746229760.0000\n",
      "Epoch 336/500\n",
      "99/99 [==============================] - 0s 3ms/step - loss: 22412255232.0000 - val_loss: 24882769920.0000\n",
      "Epoch 337/500\n",
      "99/99 [==============================] - 0s 4ms/step - loss: 22470885376.0000 - val_loss: 24785852416.0000\n",
      "Epoch 338/500\n",
      "99/99 [==============================] - 0s 3ms/step - loss: 22451365888.0000 - val_loss: 24797208576.0000\n",
      "Epoch 339/500\n",
      "99/99 [==============================] - 0s 5ms/step - loss: 22325575680.0000 - val_loss: 24965623808.0000\n",
      "Epoch 340/500\n",
      "99/99 [==============================] - 0s 4ms/step - loss: 22357454848.0000 - val_loss: 24777734144.0000\n",
      "Epoch 341/500\n",
      "99/99 [==============================] - 0s 4ms/step - loss: 22429857792.0000 - val_loss: 24760174592.0000\n",
      "Epoch 342/500\n",
      "99/99 [==============================] - 0s 3ms/step - loss: 22375442432.0000 - val_loss: 24763709440.0000\n",
      "Epoch 343/500\n",
      "99/99 [==============================] - 0s 3ms/step - loss: 22403051520.0000 - val_loss: 24749834240.0000\n",
      "Epoch 344/500\n",
      "99/99 [==============================] - 0s 4ms/step - loss: 22326349824.0000 - val_loss: 24997507072.0000\n",
      "Epoch 345/500\n",
      "99/99 [==============================] - 0s 4ms/step - loss: 22352007168.0000 - val_loss: 25053388800.0000\n",
      "Epoch 346/500\n",
      "99/99 [==============================] - 0s 4ms/step - loss: 22437728256.0000 - val_loss: 24819875840.0000\n",
      "Epoch 347/500\n",
      "99/99 [==============================] - 0s 4ms/step - loss: 22326032384.0000 - val_loss: 24864581632.0000\n",
      "Epoch 348/500\n",
      "99/99 [==============================] - 0s 3ms/step - loss: 22335770624.0000 - val_loss: 24815687680.0000\n",
      "Epoch 349/500\n",
      "99/99 [==============================] - 0s 4ms/step - loss: 22421207040.0000 - val_loss: 24749987840.0000\n",
      "Epoch 350/500\n",
      "99/99 [==============================] - 0s 4ms/step - loss: 22351843328.0000 - val_loss: 24810420224.0000\n",
      "Epoch 351/500\n",
      "99/99 [==============================] - 0s 3ms/step - loss: 22443599872.0000 - val_loss: 25025617920.0000\n",
      "Epoch 352/500\n",
      "99/99 [==============================] - 0s 4ms/step - loss: 22350090240.0000 - val_loss: 24869492736.0000\n",
      "Epoch 353/500\n",
      "99/99 [==============================] - 0s 3ms/step - loss: 22289319936.0000 - val_loss: 24835645440.0000\n",
      "Epoch 354/500\n",
      "99/99 [==============================] - 0s 3ms/step - loss: 22312134656.0000 - val_loss: 24819195904.0000\n",
      "Epoch 355/500\n",
      "99/99 [==============================] - 0s 3ms/step - loss: 22255505408.0000 - val_loss: 24893259776.0000\n",
      "Epoch 356/500\n",
      "99/99 [==============================] - 0s 3ms/step - loss: 22367154176.0000 - val_loss: 24855945216.0000\n",
      "Epoch 357/500\n",
      "99/99 [==============================] - 0s 3ms/step - loss: 22246451200.0000 - val_loss: 24806205440.0000\n",
      "Epoch 358/500\n",
      "99/99 [==============================] - 0s 5ms/step - loss: 22409310208.0000 - val_loss: 24779646976.0000\n",
      "Epoch 359/500\n",
      "99/99 [==============================] - 0s 4ms/step - loss: 22256111616.0000 - val_loss: 24853862400.0000\n",
      "Epoch 360/500\n",
      "99/99 [==============================] - 0s 3ms/step - loss: 22287894528.0000 - val_loss: 24786309120.0000\n",
      "Epoch 361/500\n",
      "99/99 [==============================] - 0s 3ms/step - loss: 22218328064.0000 - val_loss: 24811339776.0000\n",
      "Epoch 362/500\n",
      "99/99 [==============================] - 0s 3ms/step - loss: 22224343040.0000 - val_loss: 24764368896.0000\n",
      "Epoch 363/500\n",
      "99/99 [==============================] - 0s 3ms/step - loss: 22236622848.0000 - val_loss: 24786827264.0000\n",
      "Epoch 364/500\n",
      "99/99 [==============================] - 0s 4ms/step - loss: 22263900160.0000 - val_loss: 24816074752.0000\n",
      "Epoch 365/500\n",
      "99/99 [==============================] - 0s 4ms/step - loss: 22214189056.0000 - val_loss: 24940437504.0000\n",
      "Epoch 366/500\n",
      "99/99 [==============================] - 0s 4ms/step - loss: 22173503488.0000 - val_loss: 24745195520.0000\n",
      "Epoch 367/500\n",
      "99/99 [==============================] - 0s 3ms/step - loss: 22195906560.0000 - val_loss: 24812136448.0000\n",
      "Epoch 368/500\n",
      "99/99 [==============================] - 0s 3ms/step - loss: 22245359616.0000 - val_loss: 24793464832.0000\n",
      "Epoch 369/500\n",
      "99/99 [==============================] - 0s 3ms/step - loss: 22184402944.0000 - val_loss: 24771117056.0000\n",
      "Epoch 370/500\n",
      "99/99 [==============================] - 0s 3ms/step - loss: 22266566656.0000 - val_loss: 25005858816.0000\n",
      "Epoch 371/500\n",
      "99/99 [==============================] - 0s 3ms/step - loss: 22243665920.0000 - val_loss: 24821716992.0000\n",
      "Epoch 372/500\n",
      "99/99 [==============================] - 0s 3ms/step - loss: 22159738880.0000 - val_loss: 24846364672.0000\n",
      "Epoch 373/500\n",
      "99/99 [==============================] - 0s 3ms/step - loss: 22248366080.0000 - val_loss: 24740640768.0000\n",
      "Epoch 374/500\n",
      "99/99 [==============================] - 0s 3ms/step - loss: 22155057152.0000 - val_loss: 24988645376.0000\n",
      "Epoch 375/500\n",
      "99/99 [==============================] - 0s 3ms/step - loss: 22187784192.0000 - val_loss: 24719226880.0000\n",
      "Epoch 376/500\n",
      "99/99 [==============================] - 0s 3ms/step - loss: 22133573632.0000 - val_loss: 24711219200.0000\n",
      "Epoch 377/500\n",
      "99/99 [==============================] - 0s 3ms/step - loss: 22158919680.0000 - val_loss: 24723761152.0000\n",
      "Epoch 378/500\n",
      "99/99 [==============================] - 0s 3ms/step - loss: 22209239040.0000 - val_loss: 24722290688.0000\n",
      "Epoch 379/500\n",
      "99/99 [==============================] - 0s 3ms/step - loss: 22201812992.0000 - val_loss: 24854079488.0000\n",
      "Epoch 380/500\n",
      "99/99 [==============================] - 0s 3ms/step - loss: 22084304896.0000 - val_loss: 24711964672.0000\n",
      "Epoch 381/500\n",
      "99/99 [==============================] - 0s 3ms/step - loss: 22063462400.0000 - val_loss: 24720513024.0000\n",
      "Epoch 382/500\n",
      "99/99 [==============================] - 0s 3ms/step - loss: 22175019008.0000 - val_loss: 24908406784.0000\n",
      "Epoch 383/500\n",
      "99/99 [==============================] - 0s 4ms/step - loss: 22147141632.0000 - val_loss: 24704743424.0000\n",
      "Epoch 384/500\n",
      "99/99 [==============================] - 0s 4ms/step - loss: 22087657472.0000 - val_loss: 24954372096.0000\n",
      "Epoch 385/500\n",
      "99/99 [==============================] - 0s 3ms/step - loss: 22127730688.0000 - val_loss: 24848087040.0000\n",
      "Epoch 386/500\n",
      "99/99 [==============================] - 0s 4ms/step - loss: 22102800384.0000 - val_loss: 24697245696.0000\n",
      "Epoch 387/500\n",
      "99/99 [==============================] - 0s 3ms/step - loss: 22125182976.0000 - val_loss: 24990826496.0000\n",
      "Epoch 388/500\n",
      "99/99 [==============================] - 0s 3ms/step - loss: 22170286080.0000 - val_loss: 24782880768.0000\n",
      "Epoch 389/500\n",
      "99/99 [==============================] - 0s 3ms/step - loss: 22037141504.0000 - val_loss: 24698839040.0000\n",
      "Epoch 390/500\n",
      "99/99 [==============================] - 0s 3ms/step - loss: 22068758528.0000 - val_loss: 24668530688.0000\n",
      "Epoch 391/500\n",
      "99/99 [==============================] - 0s 3ms/step - loss: 22054864896.0000 - val_loss: 24740298752.0000\n",
      "Epoch 392/500\n",
      "99/99 [==============================] - 0s 3ms/step - loss: 22050701312.0000 - val_loss: 24706025472.0000\n",
      "Epoch 393/500\n",
      "99/99 [==============================] - 0s 4ms/step - loss: 22064949248.0000 - val_loss: 24669466624.0000\n",
      "Epoch 394/500\n",
      "99/99 [==============================] - 0s 3ms/step - loss: 22005618688.0000 - val_loss: 24682446848.0000\n",
      "Epoch 395/500\n",
      "99/99 [==============================] - 0s 3ms/step - loss: 22106517504.0000 - val_loss: 24678582272.0000\n",
      "Epoch 396/500\n",
      "99/99 [==============================] - 0s 3ms/step - loss: 22090545152.0000 - val_loss: 24692277248.0000\n",
      "Epoch 397/500\n",
      "99/99 [==============================] - 0s 3ms/step - loss: 22010916864.0000 - val_loss: 24670224384.0000\n",
      "Epoch 398/500\n",
      "99/99 [==============================] - 0s 3ms/step - loss: 22021849088.0000 - val_loss: 24804542464.0000\n",
      "Epoch 399/500\n",
      "99/99 [==============================] - 0s 3ms/step - loss: 22038378496.0000 - val_loss: 24758509568.0000\n",
      "Epoch 400/500\n",
      "99/99 [==============================] - 0s 4ms/step - loss: 22072623104.0000 - val_loss: 24674922496.0000\n",
      "Epoch 401/500\n",
      "99/99 [==============================] - 0s 4ms/step - loss: 22021634048.0000 - val_loss: 24687288320.0000\n",
      "Epoch 402/500\n",
      "99/99 [==============================] - 0s 4ms/step - loss: 21959841792.0000 - val_loss: 24812322816.0000\n",
      "Epoch 403/500\n",
      "99/99 [==============================] - 0s 3ms/step - loss: 22001977344.0000 - val_loss: 24651884544.0000\n",
      "Epoch 404/500\n",
      "99/99 [==============================] - 0s 4ms/step - loss: 22024161280.0000 - val_loss: 24709994496.0000\n",
      "Epoch 405/500\n",
      "99/99 [==============================] - 0s 4ms/step - loss: 21969864704.0000 - val_loss: 24650602496.0000\n",
      "Epoch 406/500\n",
      "99/99 [==============================] - 0s 4ms/step - loss: 22132899840.0000 - val_loss: 24627310592.0000\n",
      "Epoch 407/500\n",
      "99/99 [==============================] - 0s 4ms/step - loss: 22003296256.0000 - val_loss: 24679786496.0000\n",
      "Epoch 408/500\n",
      "99/99 [==============================] - 0s 4ms/step - loss: 22031736832.0000 - val_loss: 24657803264.0000\n",
      "Epoch 409/500\n",
      "99/99 [==============================] - 0s 4ms/step - loss: 21950967808.0000 - val_loss: 24696430592.0000\n",
      "Epoch 410/500\n",
      "99/99 [==============================] - 0s 4ms/step - loss: 22026209280.0000 - val_loss: 24724740096.0000\n",
      "Epoch 411/500\n",
      "99/99 [==============================] - 0s 4ms/step - loss: 22042726400.0000 - val_loss: 24677701632.0000\n",
      "Epoch 412/500\n",
      "99/99 [==============================] - 0s 4ms/step - loss: 21987225600.0000 - val_loss: 24642719744.0000\n",
      "Epoch 413/500\n",
      "99/99 [==============================] - 0s 3ms/step - loss: 21982742528.0000 - val_loss: 24655683584.0000\n",
      "Epoch 414/500\n",
      "99/99 [==============================] - 0s 3ms/step - loss: 21983752192.0000 - val_loss: 24729759744.0000\n",
      "Epoch 415/500\n",
      "99/99 [==============================] - 0s 3ms/step - loss: 22001786880.0000 - val_loss: 24631881728.0000\n",
      "Epoch 416/500\n",
      "99/99 [==============================] - 0s 3ms/step - loss: 21933113344.0000 - val_loss: 24858968064.0000\n",
      "Epoch 417/500\n",
      "99/99 [==============================] - 0s 3ms/step - loss: 21987358720.0000 - val_loss: 24557436928.0000\n",
      "Epoch 418/500\n",
      "99/99 [==============================] - 0s 3ms/step - loss: 22079827968.0000 - val_loss: 24704907264.0000\n",
      "Epoch 419/500\n",
      "99/99 [==============================] - 0s 3ms/step - loss: 21926187008.0000 - val_loss: 24735762432.0000\n",
      "Epoch 420/500\n",
      "99/99 [==============================] - 0s 3ms/step - loss: 21932042240.0000 - val_loss: 24634599424.0000\n",
      "Epoch 421/500\n",
      "99/99 [==============================] - 0s 3ms/step - loss: 21890342912.0000 - val_loss: 24653418496.0000\n",
      "Epoch 422/500\n",
      "99/99 [==============================] - 0s 3ms/step - loss: 21966714880.0000 - val_loss: 24751949824.0000\n",
      "Epoch 423/500\n",
      "99/99 [==============================] - 0s 3ms/step - loss: 21885173760.0000 - val_loss: 24600428544.0000\n",
      "Epoch 424/500\n",
      "99/99 [==============================] - 0s 3ms/step - loss: 21896691712.0000 - val_loss: 24675233792.0000\n",
      "Epoch 425/500\n",
      "99/99 [==============================] - 0s 3ms/step - loss: 21961801728.0000 - val_loss: 24563134464.0000\n",
      "Epoch 426/500\n",
      "99/99 [==============================] - 0s 3ms/step - loss: 21912834048.0000 - val_loss: 24659218432.0000\n",
      "Epoch 427/500\n",
      "99/99 [==============================] - 0s 3ms/step - loss: 21997602816.0000 - val_loss: 24636030976.0000\n",
      "Epoch 428/500\n",
      "99/99 [==============================] - 0s 3ms/step - loss: 21946632192.0000 - val_loss: 24612499456.0000\n",
      "Epoch 429/500\n",
      "99/99 [==============================] - 0s 3ms/step - loss: 21947766784.0000 - val_loss: 24613617664.0000\n",
      "Epoch 430/500\n",
      "99/99 [==============================] - 0s 3ms/step - loss: 21869750272.0000 - val_loss: 24614483968.0000\n",
      "Epoch 431/500\n",
      "99/99 [==============================] - 0s 3ms/step - loss: 21982689280.0000 - val_loss: 24798832640.0000\n",
      "Epoch 432/500\n",
      "99/99 [==============================] - 0s 3ms/step - loss: 21913016320.0000 - val_loss: 24575969280.0000\n",
      "Epoch 433/500\n",
      "99/99 [==============================] - 0s 3ms/step - loss: 21865062400.0000 - val_loss: 24645357568.0000\n",
      "Epoch 434/500\n",
      "99/99 [==============================] - 0s 3ms/step - loss: 21916631040.0000 - val_loss: 24631040000.0000\n",
      "Epoch 435/500\n",
      "99/99 [==============================] - 0s 3ms/step - loss: 21885181952.0000 - val_loss: 24589252608.0000\n",
      "Epoch 436/500\n",
      "99/99 [==============================] - 0s 3ms/step - loss: 21897560064.0000 - val_loss: 24607213568.0000\n",
      "Epoch 437/500\n",
      "99/99 [==============================] - 0s 3ms/step - loss: 21832509440.0000 - val_loss: 24722436096.0000\n",
      "Epoch 438/500\n",
      "99/99 [==============================] - 0s 3ms/step - loss: 21852479488.0000 - val_loss: 24574873600.0000\n",
      "Epoch 439/500\n",
      "99/99 [==============================] - 0s 3ms/step - loss: 21981691904.0000 - val_loss: 24568602624.0000\n",
      "Epoch 440/500\n",
      "99/99 [==============================] - 0s 3ms/step - loss: 21961709568.0000 - val_loss: 24599355392.0000\n",
      "Epoch 441/500\n",
      "99/99 [==============================] - 0s 3ms/step - loss: 21846364160.0000 - val_loss: 25024796672.0000\n",
      "Epoch 442/500\n",
      "99/99 [==============================] - 0s 3ms/step - loss: 21826990080.0000 - val_loss: 24673191936.0000\n",
      "Epoch 443/500\n",
      "99/99 [==============================] - 0s 3ms/step - loss: 21840416768.0000 - val_loss: 24657694720.0000\n",
      "Epoch 444/500\n",
      "99/99 [==============================] - 0s 3ms/step - loss: 21842620416.0000 - val_loss: 24649394176.0000\n",
      "Epoch 445/500\n",
      "99/99 [==============================] - 0s 3ms/step - loss: 21868496896.0000 - val_loss: 24616685568.0000\n",
      "Epoch 446/500\n",
      "99/99 [==============================] - 0s 3ms/step - loss: 21847379968.0000 - val_loss: 24589744128.0000\n",
      "Epoch 447/500\n",
      "99/99 [==============================] - 0s 3ms/step - loss: 21887297536.0000 - val_loss: 24586659840.0000\n",
      "Epoch 448/500\n",
      "99/99 [==============================] - 0s 3ms/step - loss: 21906925568.0000 - val_loss: 24626825216.0000\n",
      "Epoch 449/500\n",
      "99/99 [==============================] - 0s 3ms/step - loss: 21872027648.0000 - val_loss: 24593954816.0000\n",
      "Epoch 450/500\n",
      "99/99 [==============================] - 0s 3ms/step - loss: 21858779136.0000 - val_loss: 24603932672.0000\n",
      "Epoch 451/500\n",
      "99/99 [==============================] - 0s 4ms/step - loss: 21971603456.0000 - val_loss: 24674736128.0000\n",
      "Epoch 452/500\n",
      "99/99 [==============================] - 0s 3ms/step - loss: 21882624000.0000 - val_loss: 24676395008.0000\n",
      "Epoch 453/500\n",
      "99/99 [==============================] - 0s 3ms/step - loss: 21846110208.0000 - val_loss: 24610965504.0000\n",
      "Epoch 454/500\n",
      "99/99 [==============================] - 0s 4ms/step - loss: 21839323136.0000 - val_loss: 24615907328.0000\n",
      "Epoch 455/500\n",
      "99/99 [==============================] - 0s 3ms/step - loss: 21857720320.0000 - val_loss: 24687360000.0000\n",
      "Epoch 456/500\n",
      "99/99 [==============================] - 0s 3ms/step - loss: 21874270208.0000 - val_loss: 24682885120.0000\n",
      "Epoch 457/500\n",
      "99/99 [==============================] - 0s 3ms/step - loss: 21861134336.0000 - val_loss: 24587810816.0000\n",
      "Epoch 458/500\n",
      "99/99 [==============================] - 0s 3ms/step - loss: 21767985152.0000 - val_loss: 24598327296.0000\n",
      "Epoch 459/500\n",
      "99/99 [==============================] - 0s 3ms/step - loss: 21825630208.0000 - val_loss: 24534663168.0000\n",
      "Epoch 460/500\n",
      "99/99 [==============================] - 0s 3ms/step - loss: 21847676928.0000 - val_loss: 24561602560.0000\n",
      "Epoch 461/500\n",
      "99/99 [==============================] - 0s 3ms/step - loss: 21793159168.0000 - val_loss: 24601282560.0000\n",
      "Epoch 462/500\n",
      "99/99 [==============================] - 0s 4ms/step - loss: 21786404864.0000 - val_loss: 24582868992.0000\n",
      "Epoch 463/500\n",
      "99/99 [==============================] - 0s 3ms/step - loss: 21767800832.0000 - val_loss: 24531793920.0000\n",
      "Epoch 464/500\n",
      "99/99 [==============================] - 0s 3ms/step - loss: 21902204928.0000 - val_loss: 24761819136.0000\n",
      "Epoch 465/500\n",
      "99/99 [==============================] - 0s 3ms/step - loss: 21822468096.0000 - val_loss: 24910835712.0000\n",
      "Epoch 466/500\n",
      "99/99 [==============================] - 0s 3ms/step - loss: 21826691072.0000 - val_loss: 24566036480.0000\n",
      "Epoch 467/500\n",
      "99/99 [==============================] - 0s 3ms/step - loss: 21837776896.0000 - val_loss: 24596338688.0000\n",
      "Epoch 468/500\n",
      "99/99 [==============================] - 0s 3ms/step - loss: 21805848576.0000 - val_loss: 24697999360.0000\n",
      "Epoch 469/500\n",
      "99/99 [==============================] - 0s 3ms/step - loss: 21890619392.0000 - val_loss: 24566423552.0000\n",
      "Epoch 470/500\n",
      "99/99 [==============================] - 0s 3ms/step - loss: 21843441664.0000 - val_loss: 24580802560.0000\n",
      "Epoch 471/500\n",
      "99/99 [==============================] - 0s 3ms/step - loss: 21868550144.0000 - val_loss: 24771198976.0000\n",
      "Epoch 472/500\n",
      "99/99 [==============================] - 0s 4ms/step - loss: 21812168704.0000 - val_loss: 24586661888.0000\n",
      "Epoch 473/500\n",
      "99/99 [==============================] - 0s 3ms/step - loss: 21840689152.0000 - val_loss: 24596756480.0000\n",
      "Epoch 474/500\n",
      "99/99 [==============================] - 0s 3ms/step - loss: 21801693184.0000 - val_loss: 24595144704.0000\n",
      "Epoch 475/500\n",
      "99/99 [==============================] - 0s 3ms/step - loss: 21814775808.0000 - val_loss: 24619722752.0000\n",
      "Epoch 476/500\n",
      "99/99 [==============================] - 0s 3ms/step - loss: 21804197888.0000 - val_loss: 24605024256.0000\n",
      "Epoch 477/500\n",
      "99/99 [==============================] - 0s 3ms/step - loss: 21789859840.0000 - val_loss: 24531175424.0000\n",
      "Epoch 478/500\n",
      "99/99 [==============================] - 0s 3ms/step - loss: 21755641856.0000 - val_loss: 24517005312.0000\n",
      "Epoch 479/500\n",
      "99/99 [==============================] - 0s 3ms/step - loss: 21765330944.0000 - val_loss: 24814858240.0000\n",
      "Epoch 480/500\n",
      "99/99 [==============================] - 0s 3ms/step - loss: 21784498176.0000 - val_loss: 24547774464.0000\n",
      "Epoch 481/500\n",
      "99/99 [==============================] - 0s 3ms/step - loss: 21737641984.0000 - val_loss: 24511686656.0000\n",
      "Epoch 482/500\n",
      "99/99 [==============================] - 0s 3ms/step - loss: 21742835712.0000 - val_loss: 24536041472.0000\n",
      "Epoch 483/500\n",
      "99/99 [==============================] - 0s 3ms/step - loss: 21823066112.0000 - val_loss: 24562059264.0000\n",
      "Epoch 484/500\n",
      "99/99 [==============================] - 0s 3ms/step - loss: 21792999424.0000 - val_loss: 24554270720.0000\n",
      "Epoch 485/500\n",
      "99/99 [==============================] - 0s 3ms/step - loss: 21767514112.0000 - val_loss: 24600590336.0000\n",
      "Epoch 486/500\n",
      "99/99 [==============================] - 0s 3ms/step - loss: 21827643392.0000 - val_loss: 24601407488.0000\n",
      "Epoch 487/500\n",
      "99/99 [==============================] - 0s 3ms/step - loss: 21785065472.0000 - val_loss: 24526977024.0000\n",
      "Epoch 488/500\n",
      "99/99 [==============================] - 0s 3ms/step - loss: 21747836928.0000 - val_loss: 24523694080.0000\n",
      "Epoch 489/500\n",
      "99/99 [==============================] - 0s 3ms/step - loss: 21757931520.0000 - val_loss: 24608331776.0000\n",
      "Epoch 490/500\n",
      "99/99 [==============================] - 0s 3ms/step - loss: 21770758144.0000 - val_loss: 24541132800.0000\n",
      "Epoch 491/500\n",
      "99/99 [==============================] - 0s 3ms/step - loss: 21740138496.0000 - val_loss: 24627322880.0000\n",
      "Epoch 492/500\n",
      "99/99 [==============================] - 0s 3ms/step - loss: 21781833728.0000 - val_loss: 24518400000.0000\n",
      "Epoch 493/500\n",
      "99/99 [==============================] - 0s 3ms/step - loss: 21690882048.0000 - val_loss: 24668848128.0000\n",
      "Epoch 494/500\n",
      "99/99 [==============================] - 0s 3ms/step - loss: 21846427648.0000 - val_loss: 24556765184.0000\n",
      "Epoch 495/500\n",
      "99/99 [==============================] - 0s 3ms/step - loss: 21827213312.0000 - val_loss: 24565317632.0000\n",
      "Epoch 496/500\n",
      "99/99 [==============================] - 0s 3ms/step - loss: 21780277248.0000 - val_loss: 24526917632.0000\n",
      "Epoch 497/500\n",
      "99/99 [==============================] - 0s 3ms/step - loss: 21775362048.0000 - val_loss: 24559650816.0000\n",
      "Epoch 498/500\n",
      "99/99 [==============================] - 0s 3ms/step - loss: 21788903424.0000 - val_loss: 24503795712.0000\n",
      "Epoch 499/500\n",
      "99/99 [==============================] - 0s 3ms/step - loss: 21743519744.0000 - val_loss: 24572080128.0000\n",
      "Epoch 500/500\n",
      "99/99 [==============================] - 0s 3ms/step - loss: 21728675840.0000 - val_loss: 24531877888.0000\n"
     ]
    },
    {
     "data": {
      "text/plain": [
       "<keras.callbacks.History at 0x29c91d95808>"
      ]
     },
     "execution_count": 157,
     "metadata": {},
     "output_type": "execute_result"
    }
   ],
   "source": [
    "mo.fit(x=x_train_s,y=y_train,validation_split=0.2,\n",
    "       validation_data=(x_test_s,y_test),epochs=500,batch_size=140)"
   ]
  },
  {
   "cell_type": "code",
   "execution_count": 158,
   "metadata": {},
   "outputs": [
    {
     "name": "stdout",
     "output_type": "stream",
     "text": [
      "Model: \"sequential\"\n",
      "_________________________________________________________________\n",
      " Layer (type)                Output Shape              Param #   \n",
      "=================================================================\n",
      " dense (Dense)               (None, 19)                361       \n",
      "                                                                 \n",
      " dense_1 (Dense)             (None, 19)                380       \n",
      "                                                                 \n",
      " dense_2 (Dense)             (None, 19)                380       \n",
      "                                                                 \n",
      " dense_3 (Dense)             (None, 19)                380       \n",
      "                                                                 \n",
      " dense_4 (Dense)             (None, 19)                380       \n",
      "                                                                 \n",
      " dense_5 (Dense)             (None, 1)                 20        \n",
      "                                                                 \n",
      "=================================================================\n",
      "Total params: 1,901\n",
      "Trainable params: 1,901\n",
      "Non-trainable params: 0\n",
      "_________________________________________________________________\n"
     ]
    }
   ],
   "source": [
    "mo.summary()"
   ]
  },
  {
   "cell_type": "code",
   "execution_count": 162,
   "metadata": {},
   "outputs": [],
   "source": [
    "ff = pd.DataFrame(mo.history.history)"
   ]
  },
  {
   "cell_type": "code",
   "execution_count": 165,
   "metadata": {},
   "outputs": [
    {
     "data": {
      "text/plain": [
       "<AxesSubplot:>"
      ]
     },
     "execution_count": 165,
     "metadata": {},
     "output_type": "execute_result"
    },
    {
     "data": {
      "image/png": "[encoded data removed]",
      "text/plain": [
       "<Figure size 432x288 with 1 Axes>"
      ]
     },
     "metadata": {},
     "output_type": "display_data"
    }
   ],
   "source": [
    "ff.plot()"
   ]
  },
  {
   "cell_type": "code",
   "execution_count": 166,
   "metadata": {},
   "outputs": [
    {
     "name": "stdout",
     "output_type": "stream",
     "text": [
      "WARNING:tensorflow:AutoGraph could not transform <function Model.make_predict_function.<locals>.predict_function at 0x0000029C91F29948> and will run it as-is.\n",
      "Please report this to the TensorFlow team. When filing the bug, set the verbosity to 10 (on Linux, `export AUTOGRAPH_VERBOSITY=10`) and attach the full output.\n",
      "Cause: 'arguments' object has no attribute 'posonlyargs'\n",
      "To silence this warning, decorate the function with @tf.autograph.experimental.do_not_convert\n",
      "WARNING: AutoGraph could not transform <function Model.make_predict_function.<locals>.predict_function at 0x0000029C91F29948> and will run it as-is.\n",
      "Please report this to the TensorFlow team. When filing the bug, set the verbosity to 10 (on Linux, `export AUTOGRAPH_VERBOSITY=10`) and attach the full output.\n",
      "Cause: 'arguments' object has no attribute 'posonlyargs'\n",
      "To silence this warning, decorate the function with @tf.autograph.experimental.do_not_convert\n"
     ]
    }
   ],
   "source": [
    "pred_i_N = mo.predict(x_test_s)"
   ]
  },
  {
   "cell_type": "code",
   "execution_count": 167,
   "metadata": {},
   "outputs": [
    {
     "data": {
      "text/plain": [
       "array([[671338.3 ],\n",
       "       [831391.25],\n",
       "       [494979.75],\n",
       "       ...,\n",
       "       [647765.1 ],\n",
       "       [568058.  ],\n",
       "       [333484.2 ]], dtype=float32)"
      ]
     },
     "execution_count": 167,
     "metadata": {},
     "output_type": "execute_result"
    }
   ],
   "source": [
    "pred_i_N"
   ]
  },
  {
   "cell_type": "code",
   "execution_count": 168,
   "metadata": {},
   "outputs": [
    {
     "name": "stdout",
     "output_type": "stream",
     "text": [
      "\n",
      " 98052.73694035281 \n",
      " 26139170875.558483 \n",
      " 161676.1295787306\n"
     ]
    }
   ],
   "source": [
    "mae = mean_absolute_error(y_test,pred_i_N)\n",
    "mse = mean_squared_error(y_test,pred_i_N)\n",
    "rmse = np.sqrt(mean_squared_error(y_test,pred_i_N))\n",
    "\n",
    "print('\\n',mae,'\\n',mse,'\\n',rmse)"
   ]
  },
  {
   "cell_type": "code",
   "execution_count": 172,
   "metadata": {},
   "outputs": [
    {
     "data": {
      "text/plain": [
       "0.7966489672409514"
      ]
     },
     "execution_count": 172,
     "metadata": {},
     "output_type": "execute_result"
    }
   ],
   "source": [
    "metrics.explained_variance_score(y_test,pred_i_N)"
   ]
  },
  {
   "cell_type": "code",
   "execution_count": 173,
   "metadata": {},
   "outputs": [
    {
     "data": {
      "text/plain": [
       "0.7078759793021938"
      ]
     },
     "execution_count": 173,
     "metadata": {},
     "output_type": "execute_result"
    }
   ],
   "source": [
    "metrics.explained_variance_score(y_test,pred_ir)"
   ]
  },
  {
   "cell_type": "code",
   "execution_count": 174,
   "metadata": {},
   "outputs": [
    {
     "data": {
      "text/plain": [
       "0.8045399018204928"
      ]
     },
     "execution_count": 174,
     "metadata": {},
     "output_type": "execute_result"
    }
   ],
   "source": [
    "metrics.explained_variance_score(y_test,p)"
   ]
  },
  {
   "cell_type": "code",
   "execution_count": 175,
   "metadata": {},
   "outputs": [
    {
     "data": {
      "text/plain": [
       "0.8042842912986667"
      ]
     },
     "execution_count": 175,
     "metadata": {},
     "output_type": "execute_result"
    }
   ],
   "source": [
    "metrics.explained_variance_score(y_test,pr_l)"
   ]
  },
  {
   "cell_type": "code",
   "execution_count": 177,
   "metadata": {},
   "outputs": [
    {
     "data": {
      "text/plain": [
       "[<matplotlib.lines.Line2D at 0x29c977ca308>]"
      ]
     },
     "execution_count": 177,
     "metadata": {},
     "output_type": "execute_result"
    },
    {
     "data": {
      "image/png": "[encoded data removed]",
      "text/plain": [
       "<Figure size 432x288 with 1 Axes>"
      ]
     },
     "metadata": {},
     "output_type": "display_data"
    }
   ],
   "source": [
    "plt.scatter(y_test,pred_i_N)\n",
    "plt.plot(y_test,y_test,'r')"
   ]
  },
  {
   "cell_type": "code",
   "execution_count": 178,
   "metadata": {},
   "outputs": [
    {
     "data": {
      "text/plain": [
       "[<matplotlib.lines.Line2D at 0x29c974d2ec8>]"
      ]
     },
     "execution_count": 178,
     "metadata": {},
     "output_type": "execute_result"
    },
    {
     "data": {
      "image/png": "[encoded data removed]",
      "text/plain": [
       "<Figure size 432x288 with 1 Axes>"
      ]
     },
     "metadata": {},
     "output_type": "display_data"
    }
   ],
   "source": [
    "plt.scatter(y_test,p)\n",
    "plt.plot(y_test,y_test,'r')"
   ]
  },
  {
   "cell_type": "code",
   "execution_count": 179,
   "metadata": {},
   "outputs": [
    {
     "data": {
      "text/plain": [
       "[<matplotlib.lines.Line2D at 0x29c97281dc8>]"
      ]
     },
     "execution_count": 179,
     "metadata": {},
     "output_type": "execute_result"
    },
    {
     "data": {
      "image/png": "[encoded data removed]",
      "text/plain": [
       "<Figure size 432x288 with 1 Axes>"
      ]
     },
     "metadata": {},
     "output_type": "display_data"
    }
   ],
   "source": [
    "plt.scatter(y_test,pr_l)\n",
    "plt.plot(y_test,y_test,'r')"
   ]
  },
  {
   "cell_type": "code",
   "execution_count": 180,
   "metadata": {},
   "outputs": [
    {
     "data": {
      "text/plain": [
       "[<matplotlib.lines.Line2D at 0x29c97085d88>]"
      ]
     },
     "execution_count": 180,
     "metadata": {},
     "output_type": "execute_result"
    },
    {
     "data": {
      "image/png": "[encoded data removed]",
      "text/plain": [
       "<Figure size 432x288 with 1 Axes>"
      ]
     },
     "metadata": {},
     "output_type": "display_data"
    }
   ],
   "source": [
    "plt.scatter(y_test,pred)\n",
    "plt.plot(y_test,y_test,'r')"
   ]
  },
  {
   "cell_type": "code",
   "execution_count": 181,
   "metadata": {},
   "outputs": [
    {
     "data": {
      "text/plain": [
       "Ridge(alpha=1.0, copy_X=True, fit_intercept=True, max_iter=None,\n",
       "      normalize=False, random_state=None, solver='cholesky', tol=0.001)"
      ]
     },
     "execution_count": 181,
     "metadata": {},
     "output_type": "execute_result"
    }
   ],
   "source": [
    "r.fit(x_train_s,y_train)"
   ]
  },
  {
   "cell_type": "code",
   "execution_count": 182,
   "metadata": {},
   "outputs": [],
   "source": [
    "pp = r.predict(x_test_s)"
   ]
  },
  {
   "cell_type": "code",
   "execution_count": 183,
   "metadata": {},
   "outputs": [
    {
     "name": "stdout",
     "output_type": "stream",
     "text": [
      "\n",
      " 126705.07928100658 \n",
      " 37459405693.016785 \n",
      " 193544.32487938463\n"
     ]
    }
   ],
   "source": [
    "mae = mean_absolute_error(y_test,pp)\n",
    "mse = mean_squared_error(y_test,pp)\n",
    "rmse = np.sqrt(mean_squared_error(y_test,pp))\n",
    "\n",
    "print('\\n',mae,'\\n',mse,'\\n',rmse)"
   ]
  },
  {
   "cell_type": "code",
   "execution_count": 184,
   "metadata": {},
   "outputs": [
    {
     "data": {
      "text/plain": [
       "0.7079475502112595"
      ]
     },
     "execution_count": 184,
     "metadata": {},
     "output_type": "execute_result"
    }
   ],
   "source": [
    "metrics.explained_variance_score(y_test,pp)"
   ]
  },
  {
   "cell_type": "code",
   "execution_count": null,
   "metadata": {},
   "outputs": [],
   "source": []
  }
 ],
 "metadata": {
  "kernelspec": {
   "display_name": "Python 3",
   "language": "python",
   "name": "python3"
  },
  "language_info": {
   "codemirror_mode": {
    "name": "ipython",
    "version": 3
   },
   "file_extension": ".py",
   "mimetype": "text/x-python",
   "name": "python",
   "nbconvert_exporter": "python",
   "pygments_lexer": "ipython3",
   "version": "3.7.4"
  }
 },
 "nbformat": 4,
 "nbformat_minor": 2
}
